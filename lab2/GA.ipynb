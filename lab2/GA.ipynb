{
 "cells": [
  {
   "cell_type": "code",
   "execution_count": 2,
   "metadata": {},
   "outputs": [],
   "source": [
    "import logging \n",
    "from collections import Counter, namedtuple\n",
    "import random \n",
    "from math import exp,ceil\n",
    "import matplotlib.pyplot as plt "
   ]
  },
  {
   "cell_type": "code",
   "execution_count": 3,
   "metadata": {},
   "outputs": [],
   "source": [
    "def problem(N, seed=None):\n",
    "    \"\"\"Creates an instance of the problem\"\"\"\n",
    "\n",
    "    random.seed(seed)\n",
    "    return [\n",
    "        list(set(random.randint(0, N - 1) for n in range(random.randint(N // 5, N // 2))))\n",
    "        for n in range(random.randint(N, N * 5))\n",
    "    ]"
   ]
  },
  {
   "cell_type": "markdown",
   "metadata": {},
   "source": [
    "$\\alpha_i$ = the set of  columns that cover row $i$ , $i$  $\\in$  $I$ "
   ]
  },
  {
   "cell_type": "code",
   "execution_count": 5,
   "metadata": {},
   "outputs": [],
   "source": [
    "def generate_alpha(N, beta , costs):\n",
    "    alpha = dict()\n",
    "    a = namedtuple(\"a\", [\"sublists\",\"subcosts\"])\n",
    "    for i in range(N): \n",
    "        sublist = list()\n",
    "        subcosts = list()\n",
    "        for index , sub in enumerate(beta): \n",
    "            if i in sub: \n",
    "                sublist.append(index)\n",
    "                subcosts.append(costs[index])\n",
    "        alpha[i] = a(sublist,subcosts)\n",
    "    return alpha "
   ]
  },
  {
   "cell_type": "markdown",
   "metadata": {},
   "source": [
    "$w_i$ = the number of columns that cover row $i$"
   ]
  },
  {
   "cell_type": "code",
   "execution_count": 6,
   "metadata": {},
   "outputs": [],
   "source": [
    "def generate_w(N, beta,solution):\n",
    "    w = list()\n",
    "    \n",
    "    for i in range(N): \n",
    "        n = 0\n",
    "\n",
    "        for index , sub in enumerate(solution): \n",
    "            if (sub == 1) and (i in beta[index]) : \n",
    "                n +=1\n",
    "\n",
    "        w.append(n)\n",
    "    return w "
   ]
  },
  {
   "cell_type": "code",
   "execution_count": 7,
   "metadata": {},
   "outputs": [],
   "source": [
    "def update_w(i,w,beta):\n",
    "    for j in beta[i]: \n",
    "        w[j]-=1\n",
    "\n",
    "    return w    "
   ]
  },
  {
   "cell_type": "markdown",
   "metadata": {},
   "source": [
    "$U$ = the set of uncovered rows"
   ]
  },
  {
   "cell_type": "code",
   "execution_count": 8,
   "metadata": {},
   "outputs": [],
   "source": [
    "def generate_U(gamma):\n",
    "    U = list()\n",
    "    for index,ele in enumerate(gamma): \n",
    "        if ele == 0: \n",
    "            U.append(index)\n",
    "    return U\n"
   ]
  },
  {
   "cell_type": "markdown",
   "metadata": {},
   "source": [
    "$I$ =  set of numbers to cover , we will refer to them as rows, \n",
    "\n",
    "$J$ =  total subsets used to cover $I$, we will refer to them as columns,"
   ]
  },
  {
   "cell_type": "code",
   "execution_count": null,
   "metadata": {},
   "outputs": [],
   "source": [
    "N =  1000 # choose between 5,10,20,100,500,1000\n",
    "beta = problem(N, seed= 42)\n",
    "beta = sorted(beta , key = lambda i : len(i) )\n",
    "costs = list( len(s) for s  in beta)\n",
    "binary = [0 for x in range(len(beta))]\n",
    "alpha = generate_alpha(N,beta,costs)\n",
    "Individual = namedtuple(\"Individual\", [\"genome\", \"fitness\"])"
   ]
  },
  {
   "cell_type": "markdown",
   "metadata": {},
   "source": [
    "FITNESS , PARENT SELECTION , CROSS-OVER , MUTATION"
   ]
  },
  {
   "cell_type": "code",
   "execution_count": 107,
   "metadata": {},
   "outputs": [],
   "source": [
    "def fitness(w): \n",
    "    \n",
    "    return sum([ ele for ele in w ])\n",
    "\n",
    "def parent_selection(population,total ,tournament_size=10):\n",
    "    \n",
    "    return min(random.choices(population,[ (total - gene.fitness/total) for gene in population] , k=tournament_size), key=lambda i: i.fitness)\n",
    "\n",
    "#def cross_over(p1,p2,child): \n",
    "#    \n",
    "#    for i in range(len(binary)): \n",
    "#        if p1.genome[i] == p2.genome[i]:\n",
    "#             child[i] = p1.genome[i]\n",
    "#        else : \n",
    "#            prob = random.random()     \n",
    "#            if prob < p2.fitness/(p1.fitness +p2.fitness):\n",
    "#                 child[i] = p1.genome[i]\n",
    "#            else: \n",
    "#                child[i] = p2.genome[i]\n",
    "#    return child  \n",
    "\n",
    "def cross_over(p1,p2): \n",
    "    decision=random.choice([0,1]) \n",
    "    cut = random.randint(0, len(beta)-1)\n",
    "    if decision :\n",
    "        return p1.genome[:cut] + p2.genome[cut:]\n",
    "    else :\n",
    "        return p2.genome[:cut] + p1.genome[cut:]\n",
    "    \n",
    "\n",
    "\n",
    "\n",
    "def mutation(child,mutation_bits):\n",
    "       \n",
    "        indexes = random.choices(list(range(len(beta))), k = mutation_bits)\n",
    "        \n",
    "        for i in indexes:\n",
    "            child[i] = 1 - child[i]\n",
    "        return child"
   ]
  },
  {
   "cell_type": "markdown",
   "metadata": {},
   "source": [
    "INITIAL POPULATION"
   ]
  },
  {
   "cell_type": "code",
   "execution_count": 108,
   "metadata": {},
   "outputs": [],
   "source": [
    "Individual = namedtuple(\"Individual\", [\"genome\", \"fitness\"])\n",
    "def generate_population(size):\n",
    "    population = list()\n",
    "    ## step (ii) 1- randomly select a subset (column) in alpha  2- add the selected column to S \n",
    "    for _ in range(size): \n",
    "\n",
    "\n",
    "        solution =  [0 for _ in range(len(beta))]\n",
    "        for i in range(N): \n",
    "            j = random.choice(alpha[i].sublists)\n",
    "            solution[j] = 1\n",
    "\n",
    "        S  = [i for i, val in enumerate(solution) if val]\n",
    "        K = len(S) # K contains the columns index in the solution \n",
    "        w = generate_w(N,beta,solution)\n",
    "        \n",
    "        ## step (iv) 1-randomly select a column from the generated solution 2- check if the elements in tht column (covered numbers) have been already covered already twice \n",
    "        ## objective is remove redundant subsets (columns)\n",
    "        \n",
    "        while K != 0: \n",
    "            \n",
    "            j = random.choice(S)\n",
    "            threshold = len(beta[j])\n",
    "            rep = 0\n",
    "            for i in beta[j]:\n",
    "                if w[i] >=2:\n",
    "                    rep +=1\n",
    "            if rep == threshold: \n",
    "                solution[j] = 0 \n",
    "                w = update_w(j,w,beta)\n",
    "            S.remove(j)\n",
    "            K -= 1 \n",
    "        population.append(Individual(solution, fitness(w)))    \n",
    "    \n",
    "    return population\n",
    "            "
   ]
  },
  {
   "cell_type": "markdown",
   "metadata": {},
   "source": [
    "HEURISTIC FEASABILITY OPERATOR"
   ]
  },
  {
   "cell_type": "code",
   "execution_count": 103,
   "metadata": {},
   "outputs": [],
   "source": [
    "def turn_feasable(child,beta,N):\n",
    "    def intersection(lst1, lst2):\n",
    "        inter = list(set(lst1) & set(lst2))\n",
    "        if inter !=0: \n",
    "            return len(inter)\n",
    "        else: \n",
    "            return 0.000001\n",
    "    \n",
    "    w = generate_w(N,beta,child)\n",
    "    U = generate_U(w)\n",
    "    ## find the columns that do not exits in the solution , that minimize \n",
    "    while len(U)!=0: \n",
    "        indexes =  alpha[U[0]].sublists\n",
    "        j = sorted(indexes , key = lambda i : len(beta[i])/intersection(U,beta[i]))[0]\n",
    "        child[j] = 1\n",
    "        U = list(set(U) - set(beta[j]))\n",
    "    \n",
    "    S  = [i for i, val in enumerate(child) if val]\n",
    "    w = generate_w(N,beta,child)\n",
    "    \n",
    "    for j in reversed(S):\n",
    "        \n",
    "        threshold = len(beta[j])\n",
    "        \n",
    "        #rep=sum(list(map(lambda x: 1 if w[x]>=2 else 0,beta[j])))\n",
    "        rep = 0\n",
    "        for i in beta[j]:\n",
    "            if w[i] >=2:\n",
    "                rep +=1\n",
    "        if rep == threshold: \n",
    "            child[j] = 0 \n",
    "            w = update_w(j,w,beta)\n",
    "    \n",
    "    return child , w\n"
   ]
  },
  {
   "cell_type": "markdown",
   "metadata": {},
   "source": [
    "GENETIC ALGORITHM"
   ]
  },
  {
   "cell_type": "code",
   "execution_count": null,
   "metadata": {},
   "outputs": [],
   "source": [
    "dictionary = {5:{\"generations\":1000,\"mutation bits\":3},10:{\"generations\":1000,\"mutation bits\":5},20:{\"generations\":5000,\"mutation bits\":3},100:{\"generations\":1500,\"mutation bits\":50},\n",
    "500:{\"generations\":1000,\"mutation bits\":100},1000:{\"generations\":800,\"mutation bits\":200}}\n",
    "\n",
    "POPULATION_SIZE = 100\n",
    "population = generate_population(POPULATION_SIZE)\n",
    "fitness_log = [(0, i.fitness) for i in population]\n",
    "NUM_GENERATIONS =  dictionary[N]['generations']\n",
    "mutation_bits =   dictionary[N]['mutation bits']\n",
    "OFFSPRING_SIZE = 10\n",
    "logging.getLogger().setLevel(logging.INFO)\n",
    "for g in range(NUM_GENERATIONS):\n",
    "    offspring = list()\n",
    "    for i in range(OFFSPRING_SIZE):\n",
    "        \n",
    "        tot_fitness = sum([ gene.fitness for gene in population])\n",
    "        p1 = parent_selection(population,tot_fitness)\n",
    "        p2 = parent_selection(population, tot_fitness)\n",
    "        child = cross_over(p1, p2)\n",
    "        child = mutation(child,mutation_bits)\n",
    "        child,w = turn_feasable(child,beta,N)\n",
    "        f = fitness(w)\n",
    "        fitness_log.append((g + 1, f))\n",
    "        offspring.append(Individual(child, f))\n",
    "    population += offspring\n",
    "    population = sorted(population, key=lambda i: -i.fitness, reverse=True)[:POPULATION_SIZE]\n",
    "    logging.info(f\"GENERATION {g}, FITNESS {population[0].fitness}\")\n",
    "\n",
    "logging.info(f\"FINAL SOLUTION , FITNESS {population[0][1]} \")\n"
   ]
  },
  {
   "cell_type": "code",
   "execution_count": null,
   "metadata": {},
   "outputs": [],
   "source": [
    "\n",
    "gen_best = [min(f[1] for f in fitness_log if f[0] == x) for x in range(NUM_GENERATIONS+1)]\n",
    "\n",
    "plt.figure(figsize=(15, 6))\n",
    "plt.plot([x for x, _ in enumerate(gen_best)], [y for _, y in enumerate(gen_best)], label= \"generation best individual\")\n",
    "plt.legend()\n",
    "plt.grid()\n",
    "plt.xlabel(\"generation\")\n",
    "plt.ylabel(\"fitness\")\n"
   ]
  }
 ],
 "metadata": {
  "kernelspec": {
   "display_name": "Python 3.10.0 64-bit",
   "language": "python",
   "name": "python3"
  },
  "language_info": {
   "codemirror_mode": {
    "name": "ipython",
    "version": 3
   },
   "file_extension": ".py",
   "mimetype": "text/x-python",
   "name": "python",
   "nbconvert_exporter": "python",
   "pygments_lexer": "ipython3",
   "version": "3.11.0"
  },
  "orig_nbformat": 4,
  "vscode": {
   "interpreter": {
    "hash": "aee8b7b246df8f9039afb4144a1f6fd8d2ca17a180786b69acc140d282b71a49"
   }
  }
 },
 "nbformat": 4,
 "nbformat_minor": 2
}
