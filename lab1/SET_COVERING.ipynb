{
 "cells": [
  {
   "cell_type": "code",
   "execution_count": 1,
   "metadata": {},
   "outputs": [],
   "source": [
    "import random \n",
    "import logging\n",
    "import itertools\n",
    "import time"
   ]
  },
  {
   "cell_type": "code",
   "execution_count": 2,
   "metadata": {},
   "outputs": [],
   "source": [
    "def problem(N, seed = None): \n",
    "    random.seed(seed) \n",
    "    return [ list(set(random.randint(0,N-1) for n in  range(random.randint(N //5 ,N//2))))\n",
    "                 for n in range(random.randint(N,N*5))\n",
    "    ]"
   ]
  },
  {
   "cell_type": "code",
   "execution_count": 4,
   "metadata": {},
   "outputs": [],
   "source": [
    "def bypassbranch(subset, i):#bypass a branch \n",
    "    for j, sub in reversed( list(enumerate(subset[0:i-1]))) :\n",
    "    \n",
    "        if sub == 0:\n",
    "            subset[j] = 1\n",
    "            return subset, j+1\n",
    "\n",
    "    return subset, 0\n",
    "\n",
    "def nextvertex(subset, i, m):\n",
    "    if i < m:\n",
    "        subset[i] = 0\n",
    "        return subset, i+1\n",
    "    else:\n",
    "        for j, sub in reversed( list(enumerate(subset[0:m-1]))) : \n",
    "            if sub == 0:\n",
    "                subset[j] = 1\n",
    "                return subset, j+1\n",
    "                \n",
    "    return subset, 0"
   ]
  },
  {
   "cell_type": "code",
   "execution_count": 5,
   "metadata": {},
   "outputs": [],
   "source": [
    "def BB(N):\n",
    "    goal =  set(range(N))\n",
    "    sets = problem(N,seed =42) \n",
    "    costs = list( len(s) for s  in sets)\n",
    "    subset = [1 for x in range(len(sets))]#all sets in\n",
    "    subset[0] = 0\n",
    "    bestCost = sum(costs) #actually the worst cost \n",
    "    i = 1\n",
    "    Nodes = list()\n",
    "    Nodes.append(subset)\n",
    "    z=time.time()\n",
    "    solution = list()\n",
    "    while i > 0:\n",
    "\n",
    "        if i < len(sets):\n",
    "            Nodes.append(subset) \n",
    "            cost, temp_Set = 0, set()# temp for temporary\n",
    "            for k , (sub , c) in enumerate(zip(subset[0:i],costs[0:i])):\n",
    "                cost += sub*c   #if 1 adds the cost to total\n",
    "                if sub == 1: temp_Set.update(set(sets[k]))#if 1 add the set to the cover\n",
    "\n",
    "            if cost > bestCost:#if the cost is larger than the currently best one, we can bypass the branch \n",
    "                subset, i = bypassbranch(subset, i)\n",
    "                continue\n",
    "            temp_Set.update(set(itertools.chain(*sets[i::])))\n",
    "            if temp_Set != goal:#that means that the set was essential at this point to complete the uni.\n",
    "                subset, i = bypassbranch(subset, i)\n",
    "            else:\n",
    "                subset, i = nextvertex(subset, i, len(sets))\n",
    "        \n",
    "        else: \n",
    "            \n",
    "            cost , final_Set = 0, set() \n",
    "            for k , (sub , c) in enumerate(zip(subset,costs)):\n",
    "                cost+= sub*c\n",
    "                if sub == 1 :final_Set.update(set(sets[k]))\n",
    "            if cost < bestCost and final_Set == goal: \n",
    "                bestCost = cost \n",
    "                bestSubset = subset[:]\n",
    "                print(bestCost)\n",
    "            subset , i = nextvertex(subset , i , len(sets))\n",
    "        if (time.time()-z > 900.0):\n",
    "            i = 0\n",
    "    for x, sub in enumerate(bestSubset):\n",
    "        if sub==1:\n",
    "            solution.append(sets[x])\n",
    "    unique_data = [list(i) for i  in set(tuple(i) for i in Nodes)]\n",
    "    logging.info(\n",
    "        f\"Branch and Bound solution for N={N}: Cost ={bestCost}  / visited Nodes={len(Nodes)} / Search time= {time.time()-z} (bloat={(sum(len(_) for _ in solution)-N)/N*100:.0f}%)\"\n",
    "    )\n",
    "    logging.debug(f\"{solution}\")\n",
    "    "
   ]
  },
  {
   "cell_type": "code",
   "execution_count": 6,
   "metadata": {},
   "outputs": [
    {
     "name": "stdout",
     "output_type": "stream",
     "text": [
      "6\n",
      "5\n"
     ]
    },
    {
     "name": "stderr",
     "output_type": "stream",
     "text": [
      "INFO:root:Branch and Bound solution for N=5: Cost =5  / visited Nodes=115458 / Search time= 0.4110400676727295 (bloat=0%)\n"
     ]
    },
    {
     "name": "stdout",
     "output_type": "stream",
     "text": [
      "12\n",
      "11\n",
      "10\n"
     ]
    },
    {
     "name": "stderr",
     "output_type": "stream",
     "text": [
      "INFO:root:Branch and Bound solution for N=10: Cost =10  / visited Nodes=957418 / Search time= 4.948209047317505 (bloat=0%)\n"
     ]
    },
    {
     "name": "stdout",
     "output_type": "stream",
     "text": [
      "32\n",
      "31\n",
      "28\n",
      "27\n",
      "24\n"
     ]
    },
    {
     "name": "stderr",
     "output_type": "stream",
     "text": [
      "INFO:root:Branch and Bound solution for N=20: Cost =23  / visited Nodes=101999 / Search time= 0.46616697311401367 (bloat=15%)\n"
     ]
    },
    {
     "name": "stdout",
     "output_type": "stream",
     "text": [
      "23\n",
      "275\n",
      "259\n",
      "258\n",
      "256\n",
      "254\n",
      "240\n",
      "229\n",
      "221\n"
     ]
    },
    {
     "ename": "KeyboardInterrupt",
     "evalue": "",
     "output_type": "error",
     "traceback": [
      "\u001b[0;31m---------------------------------------------------------------------------\u001b[0m",
      "\u001b[0;31mKeyboardInterrupt\u001b[0m                         Traceback (most recent call last)",
      "\u001b[1;32m/Users/aminembarek/Documents/CI/lab1/lab1/SET_COVERING.ipynb Cellule 5\u001b[0m in \u001b[0;36m<cell line: 2>\u001b[0;34m()\u001b[0m\n\u001b[1;32m      <a href='vscode-notebook-cell:/Users/aminembarek/Documents/CI/lab1/lab1/SET_COVERING.ipynb#W4sZmlsZQ%3D%3D?line=0'>1</a>\u001b[0m logging\u001b[39m.\u001b[39mgetLogger()\u001b[39m.\u001b[39msetLevel(logging\u001b[39m.\u001b[39mINFO)\n\u001b[1;32m      <a href='vscode-notebook-cell:/Users/aminembarek/Documents/CI/lab1/lab1/SET_COVERING.ipynb#W4sZmlsZQ%3D%3D?line=1'>2</a>\u001b[0m \u001b[39mfor\u001b[39;00m N \u001b[39min\u001b[39;00m [\u001b[39m5\u001b[39m, \u001b[39m10\u001b[39m, \u001b[39m20\u001b[39m, \u001b[39m100\u001b[39m, \u001b[39m500\u001b[39m, \u001b[39m1000\u001b[39m]:\n\u001b[0;32m----> <a href='vscode-notebook-cell:/Users/aminembarek/Documents/CI/lab1/lab1/SET_COVERING.ipynb#W4sZmlsZQ%3D%3D?line=2'>3</a>\u001b[0m     BB(N)\n",
      "\u001b[1;32m/Users/aminembarek/Documents/CI/lab1/lab1/SET_COVERING.ipynb Cellule 5\u001b[0m in \u001b[0;36mBB\u001b[0;34m(N)\u001b[0m\n\u001b[1;32m     <a href='vscode-notebook-cell:/Users/aminembarek/Documents/CI/lab1/lab1/SET_COVERING.ipynb#W4sZmlsZQ%3D%3D?line=22'>23</a>\u001b[0m     subset, i \u001b[39m=\u001b[39m bypassbranch(subset, i)\n\u001b[1;32m     <a href='vscode-notebook-cell:/Users/aminembarek/Documents/CI/lab1/lab1/SET_COVERING.ipynb#W4sZmlsZQ%3D%3D?line=23'>24</a>\u001b[0m     \u001b[39mcontinue\u001b[39;00m\n\u001b[0;32m---> <a href='vscode-notebook-cell:/Users/aminembarek/Documents/CI/lab1/lab1/SET_COVERING.ipynb#W4sZmlsZQ%3D%3D?line=24'>25</a>\u001b[0m temp_Set\u001b[39m.\u001b[39;49mupdate(\u001b[39mset\u001b[39;49m(itertools\u001b[39m.\u001b[39;49mchain(\u001b[39m*\u001b[39;49msets[i::])))\n\u001b[1;32m     <a href='vscode-notebook-cell:/Users/aminembarek/Documents/CI/lab1/lab1/SET_COVERING.ipynb#W4sZmlsZQ%3D%3D?line=25'>26</a>\u001b[0m \u001b[39mif\u001b[39;00m temp_Set \u001b[39m!=\u001b[39m goal:\u001b[39m#that means that the set was essential at this point to complete the uni.\u001b[39;00m\n\u001b[1;32m     <a href='vscode-notebook-cell:/Users/aminembarek/Documents/CI/lab1/lab1/SET_COVERING.ipynb#W4sZmlsZQ%3D%3D?line=26'>27</a>\u001b[0m     subset, i \u001b[39m=\u001b[39m bypassbranch(subset, i)\n",
      "\u001b[0;31mKeyboardInterrupt\u001b[0m: "
     ]
    }
   ],
   "source": [
    "logging.getLogger().setLevel(logging.INFO)\n",
    "for N in [5, 10, 20, 100, 500, 1000]:\n",
    "    BB(N)"
   ]
  }
 ],
 "metadata": {
  "kernelspec": {
   "display_name": "Python 3.9.13 ('tensorflow')",
   "language": "python",
   "name": "python3"
  },
  "language_info": {
   "codemirror_mode": {
    "name": "ipython",
    "version": 3
   },
   "file_extension": ".py",
   "mimetype": "text/x-python",
   "name": "python",
   "nbconvert_exporter": "python",
   "pygments_lexer": "ipython3",
   "version": "3.9.13"
  },
  "orig_nbformat": 4,
  "vscode": {
   "interpreter": {
    "hash": "1de537b227ff63e4ef4b58f7fff6bd3deaf21fae665ac95f377c9f9868ff8852"
   }
  }
 },
 "nbformat": 4,
 "nbformat_minor": 2
}
