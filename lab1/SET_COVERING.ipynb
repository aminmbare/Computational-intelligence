{
 "cells": [
  {
   "cell_type": "code",
   "execution_count": 1,
   "metadata": {},
   "outputs": [],
   "source": [
    "import logging \n",
    "import random \n",
    "from copy import copy\n",
    "import platform \n",
    "from collections import Counter \n",
    "from gx_utils import *\n",
    "from math import exp\n",
    "import time\n",
    "import itertools\n",
    "import numpy as np"
   ]
  },
  {
   "cell_type": "code",
   "execution_count": 2,
   "metadata": {},
   "outputs": [],
   "source": [
    "def problem(N, seed = None): \n",
    "    random.seed(seed) \n",
    "    return [ list(set(random.randint(0,N-1) for n in  range(random.randint(N //5 ,N//2))))\n",
    "                 for n in range(random.randint(N,N*5))\n",
    "    ]"
   ]
  },
  {
   "cell_type": "code",
   "execution_count": 9,
   "metadata": {},
   "outputs": [],
   "source": [
    "def bypassbranch(subset, i):#bypass a branch \n",
    "    for j, sub in reversed( list(enumerate(subset[0:i-1]))) :\n",
    "    \n",
    "        if sub == 0:\n",
    "            subset[j] = 1\n",
    "            return subset, j+1\n",
    "\n",
    "    return subset, 0\n",
    "\n",
    "def nextvertex(subset, i, m):\n",
    "    if i < m:\n",
    "        subset[i] = 0\n",
    "        return subset, i+1\n",
    "    else:\n",
    "        for j, sub in reversed( list(enumerate(subset[0:m-1]))) : \n",
    "            if sub == 0:\n",
    "                subset[j] = 1\n",
    "                return subset, j+1\n",
    "                \n",
    "    return subset, 0"
   ]
  },
  {
   "cell_type": "code",
   "execution_count": 28,
   "metadata": {},
   "outputs": [],
   "source": [
    "def BB(N):\n",
    "    goal =  set(range(N))\n",
    "    sets = problem(N,seed =42) \n",
    "    costs = list( len(s) for s  in sets)\n",
    "    subset = [1 for x in range(len(sets))]#all sets in\n",
    "    subset[0] = 0\n",
    "    bestCost = sum(costs) #actually the worst cost \n",
    "    i = 1\n",
    "    Nodes = list()\n",
    "    Nodes.append(subset)\n",
    "    z=time.time()\n",
    "    solution = list()\n",
    "    while i > 0:\n",
    "\n",
    "        if i < len(sets):\n",
    "            cost, temp_Set = 0, set()# temp for temporary\n",
    "            for k , (sub , c) in enumerate(zip(subset[0:i],costs[0:i])):\n",
    "                cost += sub*c   #if 1 adds the cost to total\n",
    "                if sub == 1: temp_Set.update(set(sets[k]))#if 1 add the set to the cover\n",
    "            #cost =  sum(np.multiply(subset,costs))\n",
    "                \n",
    "            if cost > bestCost:#if the cost is larger than the currently best one, we can bypass the branch \n",
    "                subset, i = bypassbranch(subset, i)\n",
    "                continue\n",
    "            temp_Set.update(set(itertools.chain(*sets[i::])))\n",
    "            if temp_Set != goal:#that means that the set was essential at this point to complete the uni.\n",
    "                subset, i = bypassbranch(subset, i)\n",
    "            else:\n",
    "                subset, i = nextvertex(subset, i, len(sets))\n",
    "            Nodes.append(subset)\n",
    "        \n",
    "        else: \n",
    "            \n",
    "            cost , final_Set = 0, set() \n",
    "            for k , (sub , c) in enumerate(zip(subset,costs)):\n",
    "                cost+= sub*c\n",
    "                if sub == 1 :final_Set.update(set(sets[k]))\n",
    "            if cost < bestCost and final_Set == goal: \n",
    "                bestCost = cost \n",
    "                bestSubset = subset[:]\n",
    "                print(subset)\n",
    "                print(bestCost)\n",
    "            subset , i = nextvertex(subset , i , len(sets))\n",
    "\n",
    "        if (time.time()-z > 600.0):\n",
    "            i = 0\n",
    "    for x, sub in enumerate(bestSubset):\n",
    "        if sub==1:\n",
    "            solution.append(sets[x])\n",
    "    unique_data = [list(i) for i  in set(tuple(i) for i in Nodes)]\n",
    "\n",
    "    logging.info(\n",
    "        f\"Branch and Bound solution for N={N}: Cost ={bestCost}  / visited Nodes={len(unique_data)} / Search time= {time.time()-z} (bloat={(sum(len(_) for _ in solution)-N)/N*100:.0f}%)\"\n",
    "    )\n",
    "    logging.debug(f\"{solution}\")\n",
    "    "
   ]
  },
  {
   "cell_type": "code",
   "execution_count": 29,
   "metadata": {},
   "outputs": [
    {
     "name": "stdout",
     "output_type": "stream",
     "text": [
      "[0, 0, 0, 0, 0, 0, 0, 0, 0, 0, 0, 0, 0, 0, 0, 0, 0, 0, 1, 1, 1, 1, 0, 1, 0]\n",
      "6\n",
      "[0, 0, 0, 0, 0, 0, 0, 0, 0, 0, 0, 0, 0, 0, 0, 1, 0, 0, 0, 0, 1, 1, 0, 1, 0]\n",
      "5\n"
     ]
    },
    {
     "name": "stderr",
     "output_type": "stream",
     "text": [
      "INFO:root:Branch and Bound solution for N=5: Cost =5  / visited Nodes=1 / Search time= 0.48158788681030273 (bloat=0%)\n"
     ]
    }
   ],
   "source": [
    "logging.getLogger().setLevel(logging.INFO)\n",
    "for N in [ 5]:\n",
    "    BB(N)"
   ]
  },
  {
   "cell_type": "markdown",
   "metadata": {},
   "source": [
    "SIMULATED ANNEALING + GREEDY\n"
   ]
  },
  {
   "cell_type": "code",
   "execution_count": 2,
   "metadata": {},
   "outputs": [],
   "source": [
    "def  greedy_2(N,subsets):\n",
    "    goal = set(range(N))\n",
    "    \n",
    "    cost=0\n",
    "    \n",
    "    elements = set(e for s in subsets for e in s)\n",
    "    \n",
    "    covered = set()\n",
    "    solution = []\n",
    "    while covered != elements:\n",
    "        subset = max(subsets, key=lambda s: len(set(s) - covered)/len(s))\n",
    "        solution.append(subset)\n",
    "        \n",
    "        covered |= set(subset)\n",
    "    return solution"
   ]
  },
  {
   "cell_type": "code",
   "execution_count": 3,
   "metadata": {},
   "outputs": [],
   "source": [
    "\n",
    "\n",
    "\n",
    "\n",
    "def sa_algorithm(state,all_lists, temp_start = 350, update_temp = lambda t : 0.9999 * t, stop_criterion = lambda t : t <= 0.01):\n",
    "    state = set (tuple(_) for _ in state)\n",
    "    all_lists = set (tuple(_) for _ in all_lists)\n",
    "    GOAL =  set(range(N))\n",
    "    \n",
    "    def tweak(solution): \n",
    "        new_solution = set(solution)\n",
    "        while new_solution and random.random() < 0.7: \n",
    "            r = random.choice(list(new_solution))\n",
    "            new_solution.remove(r)\n",
    "        while random.random() < 0.7:\n",
    "            a = random.choice(list(all_lists-solution))\n",
    "            new_solution.add(a)\n",
    "        return new_solution       \n",
    "   \n",
    "   \n",
    "   \n",
    "    def evaluate(state):\n",
    "            cnt = Counter()\n",
    "            cnt.update( sum((e for e in state), start = () ))\n",
    "            return len(cnt), -cnt.total()\n",
    "        \n",
    "    \n",
    "    temp = temp_start\n",
    "    best_solution = copy(state)\n",
    "    curr_solution = copy(state)\n",
    "    # print(\"Inside sa: \", instance.get_total_distance_and_vehicles())\n",
    "    while not stop_criterion(temp):\n",
    "        # print(temp, incumb_vhcls, incumb_dist)\n",
    "        \n",
    "        new_solution = tweak(curr_solution)\n",
    "        current_eval= evaluate(curr_solution)\n",
    "        new_eval = evaluate(new_solution)\n",
    "\n",
    "\n",
    "        \n",
    "\n",
    "        if new_eval > current_eval \\\n",
    "            or random.random() < exp(- (abs(  sum(current_eval)-sum(new_eval))) / temp):\n",
    "            curr_solution = new_solution\n",
    "\n",
    "            if evaluate(curr_solution) > evaluate(best_solution) :\n",
    "                best_solution = curr_solution\n",
    "                print(sum(len(_) for _ in best_solution))\n",
    "                logging.debug(f\"New solution: {evaluate(best_solution)}\")\n",
    "        temp = update_temp(temp)\n",
    "    return best_solution\n",
    "                \n"
   ]
  },
  {
   "cell_type": "code",
   "execution_count": 6,
   "metadata": {},
   "outputs": [
    {
     "name": "stdout",
     "output_type": "stream",
     "text": [
      "GREEDY 2 COST171\n"
     ]
    },
    {
     "name": "stderr",
     "output_type": "stream",
     "text": [
      "INFO:root: Solution for N=100: w=171 (bloat=71%)\n"
     ]
    },
    {
     "name": "stdout",
     "output_type": "stream",
     "text": [
      "GREEDY 2 COST1256\n"
     ]
    },
    {
     "name": "stderr",
     "output_type": "stream",
     "text": [
      "INFO:root: Solution for N=500: w=1,256 (bloat=151%)\n"
     ]
    },
    {
     "name": "stdout",
     "output_type": "stream",
     "text": [
      "GREEDY 2 COST2913\n"
     ]
    },
    {
     "ename": "KeyboardInterrupt",
     "evalue": "",
     "output_type": "error",
     "traceback": [
      "\u001b[0;31m---------------------------------------------------------------------------\u001b[0m",
      "\u001b[0;31mKeyboardInterrupt\u001b[0m                         Traceback (most recent call last)",
      "Cell \u001b[0;32mIn [6], line 8\u001b[0m\n\u001b[1;32m      6\u001b[0m init_state \u001b[38;5;241m=\u001b[39m greedy_2(N,all_lists)\n\u001b[1;32m      7\u001b[0m \u001b[38;5;28mprint\u001b[39m(\u001b[38;5;124m\"\u001b[39m\u001b[38;5;124mGREEDY 2 COST\u001b[39m\u001b[38;5;124m\"\u001b[39m\u001b[38;5;241m+\u001b[39m\u001b[38;5;28mstr\u001b[39m(\u001b[38;5;28msum\u001b[39m(\u001b[38;5;28mlen\u001b[39m(_) \u001b[38;5;28;01mfor\u001b[39;00m _ \u001b[38;5;129;01min\u001b[39;00m init_state))) \n\u001b[0;32m----> 8\u001b[0m solution \u001b[38;5;241m=\u001b[39m \u001b[43msa_algorithm\u001b[49m\u001b[43m(\u001b[49m\u001b[43minit_state\u001b[49m\u001b[43m,\u001b[49m\u001b[43mall_lists\u001b[49m\u001b[43m)\u001b[49m\n\u001b[1;32m      9\u001b[0m logging\u001b[38;5;241m.\u001b[39minfo(\n\u001b[1;32m     10\u001b[0m     \u001b[38;5;124mf\u001b[39m\u001b[38;5;124m\"\u001b[39m\u001b[38;5;124m Solution for N=\u001b[39m\u001b[38;5;132;01m{\u001b[39;00mN\u001b[38;5;132;01m:\u001b[39;00m\u001b[38;5;124m,\u001b[39m\u001b[38;5;132;01m}\u001b[39;00m\u001b[38;5;124m: \u001b[39m\u001b[38;5;124m\"\u001b[39m\n\u001b[1;32m     11\u001b[0m     \u001b[38;5;241m+\u001b[39m \u001b[38;5;124mf\u001b[39m\u001b[38;5;124m\"\u001b[39m\u001b[38;5;124mw=\u001b[39m\u001b[38;5;132;01m{\u001b[39;00m\u001b[38;5;28msum\u001b[39m(\u001b[38;5;28mlen\u001b[39m(_) \u001b[38;5;28;01mfor\u001b[39;00m _ \u001b[38;5;129;01min\u001b[39;00m solution)\u001b[38;5;132;01m:\u001b[39;00m\u001b[38;5;124m,\u001b[39m\u001b[38;5;132;01m}\u001b[39;00m\u001b[38;5;124m \u001b[39m\u001b[38;5;124m\"\u001b[39m\n\u001b[1;32m     12\u001b[0m     \u001b[38;5;241m+\u001b[39m \u001b[38;5;124mf\u001b[39m\u001b[38;5;124m\"\u001b[39m\u001b[38;5;124m(bloat=\u001b[39m\u001b[38;5;132;01m{\u001b[39;00m(\u001b[38;5;28msum\u001b[39m(\u001b[38;5;28mlen\u001b[39m(_) \u001b[38;5;28;01mfor\u001b[39;00m _ \u001b[38;5;129;01min\u001b[39;00m solution)\u001b[38;5;241m-\u001b[39mN)\u001b[38;5;241m/\u001b[39mN\u001b[38;5;241m*\u001b[39m\u001b[38;5;241m100\u001b[39m\u001b[38;5;132;01m:\u001b[39;00m\u001b[38;5;124m.0f\u001b[39m\u001b[38;5;132;01m}\u001b[39;00m\u001b[38;5;124m%)\u001b[39m\u001b[38;5;124m\"\u001b[39m\n\u001b[1;32m     13\u001b[0m )\n",
      "Cell \u001b[0;32mIn [3], line 31\u001b[0m, in \u001b[0;36msa_algorithm\u001b[0;34m(state, all_lists, temp_start, update_temp, stop_criterion)\u001b[0m\n\u001b[1;32m     27\u001b[0m \u001b[38;5;66;03m# print(\"Inside sa: \", instance.get_total_distance_and_vehicles())\u001b[39;00m\n\u001b[1;32m     28\u001b[0m \u001b[38;5;28;01mwhile\u001b[39;00m \u001b[38;5;129;01mnot\u001b[39;00m stop_criterion(temp):\n\u001b[1;32m     29\u001b[0m     \u001b[38;5;66;03m# print(temp, incumb_vhcls, incumb_dist)\u001b[39;00m\n\u001b[0;32m---> 31\u001b[0m     new_solution \u001b[38;5;241m=\u001b[39m \u001b[43mtweak\u001b[49m\u001b[43m(\u001b[49m\u001b[43mcurr_solution\u001b[49m\u001b[43m)\u001b[49m\n\u001b[1;32m     32\u001b[0m     current_eval\u001b[38;5;241m=\u001b[39m evaluate(curr_solution)\n\u001b[1;32m     33\u001b[0m     new_eval \u001b[38;5;241m=\u001b[39m evaluate(new_solution)\n",
      "Cell \u001b[0;32mIn [3], line 12\u001b[0m, in \u001b[0;36msa_algorithm.<locals>.tweak\u001b[0;34m(solution)\u001b[0m\n\u001b[1;32m     10\u001b[0m     new_solution\u001b[38;5;241m.\u001b[39mremove(r)\n\u001b[1;32m     11\u001b[0m \u001b[38;5;28;01mwhile\u001b[39;00m random\u001b[38;5;241m.\u001b[39mrandom() \u001b[38;5;241m<\u001b[39m \u001b[38;5;241m0.7\u001b[39m:\n\u001b[0;32m---> 12\u001b[0m     a \u001b[38;5;241m=\u001b[39m random\u001b[38;5;241m.\u001b[39mchoice(\u001b[38;5;28;43mlist\u001b[39;49m\u001b[43m(\u001b[49m\u001b[43mall_lists\u001b[49m\u001b[38;5;241;43m-\u001b[39;49m\u001b[43msolution\u001b[49m\u001b[43m)\u001b[49m)\n\u001b[1;32m     13\u001b[0m     new_solution\u001b[38;5;241m.\u001b[39madd(a)\n\u001b[1;32m     14\u001b[0m \u001b[38;5;28;01mreturn\u001b[39;00m new_solution\n",
      "\u001b[0;31mKeyboardInterrupt\u001b[0m: "
     ]
    }
   ],
   "source": [
    "logging.getLogger().setLevel(logging.INFO)\n",
    "\n",
    "for N in [ 100, 500, 1000]:\n",
    "    all_lists = problem(N, seed =42) \n",
    "      \n",
    "    init_state = greedy_2(N,all_lists)\n",
    "    print(\"GREEDY 2 COST\"+str(sum(len(_) for _ in init_state))) \n",
    "    solution = sa_algorithm(init_state,all_lists)\n",
    "    logging.info(\n",
    "        f\" Solution for N={N:,}: \"\n",
    "        + f\"w={sum(len(_) for _ in solution):,} \"\n",
    "        + f\"(bloat={(sum(len(_) for _ in solution)-N)/N*100:.0f}%)\"\n",
    "    )"
   ]
  }
 ],
 "metadata": {
  "kernelspec": {
   "display_name": "tensorflow",
   "language": "python",
   "name": "python3"
  },
  "language_info": {
   "codemirror_mode": {
    "name": "ipython",
    "version": 3
   },
   "file_extension": ".py",
   "mimetype": "text/x-python",
   "name": "python",
   "nbconvert_exporter": "python",
   "pygments_lexer": "ipython3",
   "version": "3.9.13"
  },
  "orig_nbformat": 4,
  "vscode": {
   "interpreter": {
    "hash": "1de537b227ff63e4ef4b58f7fff6bd3deaf21fae665ac95f377c9f9868ff8852"
   }
  }
 },
 "nbformat": 4,
 "nbformat_minor": 2
}
