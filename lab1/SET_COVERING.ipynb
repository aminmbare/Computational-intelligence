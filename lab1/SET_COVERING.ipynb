{
 "cells": [
  {
   "cell_type": "code",
   "execution_count": 1,
   "metadata": {},
   "outputs": [],
   "source": [
    "import random \n",
    "import logging\n",
    "import itertools\n",
    "import time"
   ]
  },
  {
   "cell_type": "code",
   "execution_count": 2,
   "metadata": {},
   "outputs": [],
   "source": [
    "def problem(N, seed = None): \n",
    "    random.seed(seed) \n",
    "    return [ list(set(random.randint(0,N-1) for n in  range(random.randint(N //5 ,N//2))))\n",
    "                 for n in range(random.randint(N,N*5))\n",
    "    ]"
   ]
  },
  {
   "cell_type": "code",
   "execution_count": 3,
   "metadata": {},
   "outputs": [],
   "source": [
    "def bypassbranch(subset, i):#bypass a branch \n",
    "    for j, sub in reversed( list(enumerate(subset[0:i-1]))) :\n",
    "    \n",
    "        if sub == 0:\n",
    "            subset[j] = 1\n",
    "            return subset, j+1\n",
    "\n",
    "    return subset, 0\n",
    "\n",
    "def nextvertex(subset, i, m):\n",
    "    if i < m:\n",
    "        subset[i] = 0\n",
    "        return subset, i+1\n",
    "    else:\n",
    "        for j, sub in reversed( list(enumerate(subset[0:m-1]))) : \n",
    "            if sub == 0:\n",
    "                subset[j] = 1\n",
    "                return subset, j+1\n",
    "                \n",
    "    return subset, 0"
   ]
  },
  {
   "cell_type": "code",
   "execution_count": 4,
   "metadata": {},
   "outputs": [],
   "source": [
    "def BB(N):\n",
    "    goal =  set(range(N))\n",
    "    sets = problem(N,seed =42) \n",
    "    costs = list( len(s) for s  in sets)\n",
    "    subset = [1 for x in range(len(sets))]#all sets in\n",
    "    subset[0] = 0\n",
    "    bestCost = sum(costs) #actually the worst cost \n",
    "    i = 1\n",
    "    Nodes = list()\n",
    "    Nodes.append(subset)\n",
    "    z=time.time()\n",
    "    solution = list()\n",
    "    while i > 0:\n",
    "\n",
    "        if i < len(sets):\n",
    "            Nodes.append(subset) \n",
    "            cost, temp_Set = 0, set()# temp for temporary\n",
    "            for k , (sub , c) in enumerate(zip(subset[0:i],costs[0:i])):\n",
    "                cost += sub*c   #if 1 adds the cost to total\n",
    "                if sub == 1: temp_Set.update(set(sets[k]))#if 1 add the set to the cover\n",
    "\n",
    "            if cost > bestCost:#if the cost is larger than the currently best one, we can bypass the branch \n",
    "                subset, i = bypassbranch(subset, i)\n",
    "                continue\n",
    "            temp_Set.update(set(itertools.chain(*sets[i::])))\n",
    "            if temp_Set != goal:#that means that the set was essential at this point to complete the uni.\n",
    "                subset, i = bypassbranch(subset, i)\n",
    "            else:\n",
    "                subset, i = nextvertex(subset, i, len(sets))\n",
    "        \n",
    "        else: \n",
    "            \n",
    "            cost , final_Set = 0, set() \n",
    "            for k , (sub , c) in enumerate(zip(subset,costs)):\n",
    "                cost+= sub*c\n",
    "                if sub == 1 :final_Set.update(set(sets[k]))\n",
    "            if cost < bestCost and final_Set == goal: \n",
    "                bestCost = cost \n",
    "                bestSubset = subset[:]\n",
    "                print(bestCost)\n",
    "            subset , i = nextvertex(subset , i , len(sets))\n",
    "        if (time.time()-z > 600.0):\n",
    "            i = 0\n",
    "    for x, sub in enumerate(bestSubset):\n",
    "        if sub==1:\n",
    "            solution.append(sets[x])\n",
    "    unique_data = [list(i) for i  in set(tuple(i) for i in Nodes)]\n",
    "    logging.info(\n",
    "        f\"Branch and Bound solution for N={N}: Cost ={bestCost}  / visited Nodes={len(Nodes)} / Search time= {time.time()-z} (bloat={(sum(len(_) for _ in solution)-N)/N*100:.0f}%)\"\n",
    "    )\n",
    "    logging.debug(f\"{solution}\")\n",
    "    "
   ]
  },
  {
   "cell_type": "code",
   "execution_count": 6,
   "metadata": {},
   "outputs": [
    {
     "name": "stdout",
     "output_type": "stream",
     "text": [
      "6\n",
      "5\n"
     ]
    },
    {
     "name": "stderr",
     "output_type": "stream",
     "text": [
      "INFO:root:Branch and Bound solution for N=5: Cost =5  / visited Nodes=115458 / Search time= 0.4075441360473633 (bloat=0%)\n"
     ]
    },
    {
     "name": "stdout",
     "output_type": "stream",
     "text": [
      "12\n",
      "11\n",
      "10\n"
     ]
    },
    {
     "name": "stderr",
     "output_type": "stream",
     "text": [
      "INFO:root:Branch and Bound solution for N=10: Cost =10  / visited Nodes=957418 / Search time= 4.838098049163818 (bloat=0%)\n"
     ]
    },
    {
     "name": "stdout",
     "output_type": "stream",
     "text": [
      "32\n",
      "31\n",
      "28\n",
      "27\n",
      "24\n"
     ]
    },
    {
     "name": "stderr",
     "output_type": "stream",
     "text": [
      "INFO:root:Branch and Bound solution for N=20: Cost =23  / visited Nodes=101999 / Search time= 0.46401500701904297 (bloat=15%)\n"
     ]
    },
    {
     "name": "stdout",
     "output_type": "stream",
     "text": [
      "23\n",
      "275\n",
      "259\n",
      "258\n",
      "256\n",
      "254\n",
      "240\n",
      "229\n",
      "221\n",
      "217\n",
      "213\n",
      "210\n"
     ]
    },
    {
     "name": "stderr",
     "output_type": "stream",
     "text": [
      "INFO:root:Branch and Bound solution for N=100: Cost =210  / visited Nodes=14899645 / Search time= 653.5667178630829 (bloat=110%)\n"
     ]
    },
    {
     "name": "stdout",
     "output_type": "stream",
     "text": [
      "1801\n",
      "1691\n"
     ]
    },
    {
     "name": "stderr",
     "output_type": "stream",
     "text": [
      "INFO:root:Branch and Bound solution for N=500: Cost =1691  / visited Nodes=3021943 / Search time= 645.9830567836761 (bloat=238%)\n"
     ]
    },
    {
     "name": "stdout",
     "output_type": "stream",
     "text": [
      "4326\n",
      "4300\n",
      "4277\n",
      "4180\n",
      "4154\n",
      "4090\n",
      "3959\n",
      "3843\n"
     ]
    }
   ],
   "source": [
    "logging.getLogger().setLevel(logging.INFO)\n",
    "for N in [5, 10, 20, 100, 500, 1000]:\n",
    "    BB(N)"
   ]
  },
  {
   "cell_type": "code",
   "execution_count": 48,
   "metadata": {},
   "outputs": [],
   "source": [
    "lists = problem(20)\n",
    "\n",
    "\n",
    "\n"
   ]
  },
  {
   "cell_type": "code",
   "execution_count": 57,
   "metadata": {},
   "outputs": [
    {
     "name": "stdout",
     "output_type": "stream",
     "text": [
      "{(0, 3, 8, 9, 11, 17), (2, 3, 4, 10, 14, 19), (0, 2, 11, 14, 15, 18, 19), (1, 2, 4, 6, 11, 15, 16), (0, 4, 14, 6), (11, 9, 2, 10), (10, 3, 13), (7, 8, 11, 16, 17, 18, 19), (3, 4, 13, 14, 16, 18), (3, 9, 11, 15, 18), (4, 6, 7, 11, 13, 15, 16), (0, 3, 8, 10, 15), (7, 10, 12, 16, 18), (3, 4, 6, 11, 13, 18, 19), (3, 8, 9, 14, 19), (16, 0, 12), (1, 4, 14, 7), (9, 10, 11, 14), (0, 3, 4, 5, 9, 12, 19), (0, 2, 9, 10, 13, 19), (7, 10, 16, 17, 18, 19), (2, 4, 12, 15), (11, 12, 14, 7), (0, 2, 5, 8, 9, 13, 17), (1, 6, 7, 9, 11, 12, 13), (3, 10, 13, 16, 17), (1, 2, 6, 8, 10, 11, 12, 14, 19), (2, 3, 4, 9, 12, 13, 17), (1, 4, 5, 7, 9, 12, 18), (2, 7, 9, 10, 11, 12, 16, 17), (1, 2, 6, 9, 15), (0, 4, 9, 12, 13, 16), (1, 3, 6, 8, 14, 17, 19), (1, 2, 3, 4, 6, 8, 16), (0, 1, 7, 14, 18), (5, 9, 11, 14, 16, 19), (2, 4, 11, 14, 17), (4, 6, 11, 13, 16), (0, 7, 10, 11, 19), (16, 8, 6, 7), (0, 2, 3, 15, 18, 19), (0, 1, 3, 13, 14, 15, 18, 19), (0, 7, 11, 13, 19), (0, 2, 3, 13, 17), (2, 6, 7, 9, 10, 11, 13, 16)}\n"
     ]
    }
   ],
   "source": [
    "all_lists = set(tuple(_) for _ in lists)\n",
    "print(all_lists)"
   ]
  },
  {
   "cell_type": "code",
   "execution_count": 70,
   "metadata": {},
   "outputs": [
    {
     "name": "stdout",
     "output_type": "stream",
     "text": [
      "{2, 3, 4}\n"
     ]
    }
   ],
   "source": [
    "a = set([1,2,3,4])\n",
    "b = set([1,6,9])\n",
    "print(a-b)"
   ]
  },
  {
   "cell_type": "code",
   "execution_count": 71,
   "metadata": {},
   "outputs": [
    {
     "data": {
      "text/plain": [
       "6"
      ]
     },
     "execution_count": 71,
     "metadata": {},
     "output_type": "execute_result"
    }
   ],
   "source": [
    "  sum((1,2,3))"
   ]
  },
  {
   "cell_type": "code",
   "execution_count": null,
   "metadata": {},
   "outputs": [],
   "source": []
  }
 ],
 "metadata": {
  "kernelspec": {
   "display_name": "Python 3.9.13 ('tensorflow')",
   "language": "python",
   "name": "python3"
  },
  "language_info": {
   "codemirror_mode": {
    "name": "ipython",
    "version": 3
   },
   "file_extension": ".py",
   "mimetype": "text/x-python",
   "name": "python",
   "nbconvert_exporter": "python",
   "pygments_lexer": "ipython3",
   "version": "3.9.13"
  },
  "orig_nbformat": 4,
  "vscode": {
   "interpreter": {
    "hash": "1de537b227ff63e4ef4b58f7fff6bd3deaf21fae665ac95f377c9f9868ff8852"
   }
  }
 },
 "nbformat": 4,
 "nbformat_minor": 2
}
