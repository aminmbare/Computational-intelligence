{
 "cells": [
  {
   "cell_type": "code",
   "execution_count": 1,
   "metadata": {},
   "outputs": [],
   "source": [
    "import logging \n",
    "from collections import namedtuple\n",
    "import random \n",
    "from typing import Callable\n",
    "from copy import deepcopy\n",
    "from itertools import accumulate\n",
    "from operator import xor \n",
    "from collections import Counter\n",
    "import numpy as np \n",
    "from functools import cache, lru_cache\n",
    "\n",
    "import  matplotlib.pyplot as plt\n"
   ]
  },
  {
   "cell_type": "code",
   "execution_count": 2,
   "metadata": {},
   "outputs": [],
   "source": [
    "Nimply = namedtuple(\"Nimply\",[\"row\", \"num_objects\"])"
   ]
  },
  {
   "cell_type": "code",
   "execution_count": 3,
   "metadata": {},
   "outputs": [],
   "source": [
    "\n",
    "class Nim:\n",
    "    def __init__(self, num_rows: int, k: int = 100) -> None:\n",
    "        self._rows =[i * 2 + 1 for i in range(num_rows)]\n",
    "        self._k = k\n",
    "\n",
    "    def __bool__(self):\n",
    "        return sum(self._rows) > 0\n",
    "\n",
    "    def __str__(self):\n",
    "        return \"<\" + \" \".join(str(_) for _ in self._rows) + \">\"\n",
    "\n",
    "    def __eq__(self, other : object) -> bool:\n",
    "        if isinstance(other, Nim): \n",
    "            return Counter(other.rows) == Counter(tuple(self._rows))\n",
    "        else : \n",
    "            return False \n",
    "    @property\n",
    "    def rows(self) :\n",
    "        return tuple(self._rows)\n",
    "\n",
    "    @property\n",
    "    def k(self) -> int:\n",
    "        return self._k\n",
    "\n",
    "    def nimming(self, ply: Nimply) -> None:\n",
    "        row, num_objects = ply\n",
    "        assert self._rows[row] >= num_objects\n",
    "        assert self._k is None or num_objects <= self._k\n",
    "        self._rows[row] -= num_objects"
   ]
  },
  {
   "attachments": {},
   "cell_type": "markdown",
   "metadata": {},
   "source": [
    "PURE RANDOM"
   ]
  },
  {
   "cell_type": "code",
   "execution_count": 4,
   "metadata": {},
   "outputs": [],
   "source": [
    "def nim_sum(state: Nim) -> int:\n",
    "    *_, result = accumulate(state.rows, xor)\n",
    "    return result\n",
    "def isPowerOfTwo (x):\n",
    "    if x == 0 :\n",
    "        return 5\n",
    "    if x == 1 : \n",
    "        return False\n",
    "    # First x in the below expression\n",
    "    # is for the case when x is 0\n",
    "    return (x and (not(x & (x - 1))) )\n",
    "def cook_status(state: Nim) -> dict:\n",
    "    cooked = dict()\n",
    "    cooked[\"possible_moves\"] = [\n",
    "        (r, o) for r, c in enumerate(state.rows) for o in range(1, c + 1) if state.k is None or o <= state.k\n",
    "    ]\n",
    "    cooked[\"active_rows_number\"] = sum(o > 0 for o in state.rows)\n",
    "    cooked[\"shortest_row\"] = min((x for x in enumerate(state.rows) if x[1] > 0), key=lambda y: y[1])[0]\n",
    "    cooked[\"longest_row\"] = max((x for x in enumerate(state.rows)), key=lambda y: y[1])[0]\n",
    "\n",
    "    brute_force = list()\n",
    "    try :\n",
    "        cooked['min_non_power_two'] =  min([x  for x in enumerate(state.rows) if not isPowerOfTwo(x[1])],key = lambda y: y[1] )[0]\n",
    "    except ValueError : \n",
    "        cooked['max_non_power_two'] = None\n",
    "        cooked['min_non_power_two'] = None\n",
    "    \n",
    "    for m in cooked[\"possible_moves\"]:\n",
    "        tmp = deepcopy(state)\n",
    "        tmp.nimming(m)\n",
    "        brute_force.append((m, nim_sum(tmp)))\n",
    "    cooked[\"brute_force\"] = brute_force\n",
    "    cooked['twos'] = None\n",
    "    if cooked[\"active_rows_number\"] == 3 : \n",
    "        for m in cooked[\"possible_moves\"]:\n",
    "             tmp = deepcopy(state)\n",
    "             tmp.nimming(m)\n",
    "             a = Counter(tmp.rows)\n",
    "             if 2 or 3 in list(a.elements()):\n",
    "                 cooked[\"twos\"] = m\n",
    "    return cooked"
   ]
  },
  {
   "cell_type": "code",
   "execution_count": 5,
   "metadata": {},
   "outputs": [],
   "source": [
    "def possible_moves(state : Nim)-> list : \n",
    "\n",
    "        return [Nimply(r, o) for r, c in enumerate(state.rows) for o in range(1, c + 1) if state.k is None or o <= state.k]\n",
    "        "
   ]
  },
  {
   "cell_type": "code",
   "execution_count": 6,
   "metadata": {},
   "outputs": [],
   "source": [
    "from abc import ABC , abstractmethod\n",
    "class Agent(ABC): \n",
    "    @abstractmethod\n",
    "    def choose_action():pass\n",
    "    "
   ]
  },
  {
   "attachments": {},
   "cell_type": "markdown",
   "metadata": {},
   "source": [
    "OPTIMAL AGENT"
   ]
  },
  {
   "cell_type": "code",
   "execution_count": 7,
   "metadata": {},
   "outputs": [],
   "source": [
    "class optimal_agent(Agent):\n",
    "    def nim_sum(self,state:Nim) -> int:\n",
    "        *_, result = accumulate(state.rows, xor)\n",
    "        return result\n",
    "    \n",
    "    def choose_action(self,state:Nim):\n",
    "        brute_force = list()\n",
    "        for m in possible_moves(state):\n",
    "           tmp = deepcopy(state)\n",
    "           tmp.nimming(m)\n",
    "           brute_force.append((m, self.nim_sum(tmp)))\n",
    "        return next((bf for bf in brute_force if bf[1] == 0), random.choice(brute_force))[0]\n",
    "    \n",
    "      "
   ]
  },
  {
   "attachments": {},
   "cell_type": "markdown",
   "metadata": {},
   "source": [
    "RANDOM AGENT"
   ]
  },
  {
   "cell_type": "code",
   "execution_count": 64,
   "metadata": {},
   "outputs": [],
   "source": [
    "class random_agent(Agent): \n",
    "    def choose_action(self,state:Nim):\n",
    "        row = random.choice([r for r, c in enumerate(state.rows) if c > 0])\n",
    "        num_objects = random.randint(1, state.rows[row])\n",
    "        return Nimply(row, num_objects)"
   ]
  },
  {
   "attachments": {},
   "cell_type": "markdown",
   "metadata": {},
   "source": [
    "# TASK 1 : expert system"
   ]
  },
  {
   "attachments": {},
   "cell_type": "markdown",
   "metadata": {},
   "source": [
    "Dummy Nim Sum"
   ]
  },
  {
   "attachments": {},
   "cell_type": "markdown",
   "metadata": {},
   "source": [
    "EXPERT AGENT (dummy agent)"
   ]
  },
  {
   "attachments": {},
   "cell_type": "markdown",
   "metadata": {},
   "source": [
    "the expert system consists in some rules to following depending on the amount of pillars remaining during the NIM game. \n",
    "the rules and instructions picked are based on the nim sum strategy taken from this [Nim](https://web.mit.edu/sp.268/www/nim.pdf).\n",
    "\n",
    "• if the active pillars in Nim game is higher than 3(two rules based on the $p$ ): \n",
    "    \n",
    "- pick the longest pillar and take all the elements in it. \n",
    "\n",
    "- Since doing binary addition is kind of hard to do in your head for large numbers, a more feasible strategy is often needed. \n",
    "An easy way to think about making the nim-sum 0 is to always leave even subpiles of the powers of 2 . So if we the active number of piles is odd , we try to eleminate the piles that are not powers of 2. However, if the number of pilars is even ,we pick the longest pillar and we try to keep just one element in it after we finish our move. \n",
    "\n",
    "• if the active pillars in Nim game is equal to 3(two rules based on the $q$ ): \n",
    "\n",
    "- if there is a pair of pillars that contain the same amount of elements , we eliminate the third pillar that is different from the identical pair, or if the previous case is true. We pick the longest pillar and we try to keep just one element in it after we finish our move. \n",
    "\n",
    "-  we pick the longest pillar and we try to keep just one element in it after we finish our move. \n",
    "\n",
    "• if the active pillars in Nim game is equal to 3:\n",
    "\n",
    "- we eliminate on element from the longest pillar. \n"
   ]
  },
  {
   "cell_type": "code",
   "execution_count": 189,
   "metadata": {},
   "outputs": [],
   "source": [
    "class expert_strategy(Agent):\n",
    "    def __init__(self,genome : dict ):\n",
    "        self.genome = genome \n",
    "    def choose_action(self,state:Nim)-> Nimply : \n",
    "         \n",
    "          \n",
    "        data = cook_status(state)\n",
    "        arn= data[\"active_rows_number\"]\n",
    "        if arn  > 3 : \n",
    "            if random.random() < self.genome[\"p\"]: \n",
    "                ply = Nimply(data[\"longest_row\"], random.randint(1, state.rows[data[\"longest_row\"]]))\n",
    "            else : \n",
    "                if data[\"active_rows_number\"]//2 !=0: \n",
    "                    if data[\"min_non_power_two\"] != None:\n",
    "                        ply = Nimply(data[\"min_non_power_two\"],state.rows[data[\"min_non_power_two\"]])\n",
    "                    else :\n",
    "                        ply = Nimply(data[\"shortest_row\"], state.rows[data[\"shortest_row\"]])\n",
    "                else : \n",
    "                        ply = Nimply(data[\"longest_row\"], state.rows[data[\"longest_row\"]]-1)\n",
    "        if arn == 3 :\n",
    "            if random.random() < self.genome[\"q\"]:\n",
    "                if data[\"twos\"] != None : \n",
    "                    ply = Nimply(data['twos'][0],data['twos'][1])\n",
    "                else : \n",
    "                    ply = Nimply(data[\"longest_row\"],state.rows[data[\"longest_row\"]]-1)\n",
    "            else : \n",
    "                    ply = Nimply(data[\"longest_row\"],state.rows[data[\"longest_row\"]]-1)\n",
    "        \n",
    "        if arn ==2 : \n",
    "                ply = Nimply(data[\"longest_row\"],1)\n",
    "                      \n",
    "        if arn == 1 : \n",
    "                ply = Nimply(data[\"longest_row\"], state.rows[data['longest_row']])\n",
    "        \n",
    "        \n",
    "        return ply\n",
    "\n",
    "    \n"
   ]
  },
  {
   "attachments": {},
   "cell_type": "markdown",
   "metadata": {},
   "source": [
    "One game of Nim"
   ]
  },
  {
   "cell_type": "code",
   "execution_count": 190,
   "metadata": {},
   "outputs": [],
   "source": [
    "\n",
    "\n",
    "def Play_Nim(player1 : classmethod , player2:classmethod,NIM_SIZE):\n",
    "\n",
    "    strategy = (player1,player2)\n",
    "    logging.info(f\"PLAYER 1 : {player1.__class__.__name__}\")\n",
    "    logging.info(f\"PLAYER 2 : {player2.__class__.__name__}\")\n",
    "    nim = Nim(NIM_SIZE)\n",
    "    logging.debug(f\"status: Initial board  -> {nim}\")\n",
    "    player = 0\n",
    "    while nim:\n",
    "        ply = strategy[player].choose_action(nim)\n",
    "        nim.nimming(ply)\n",
    "        logging.debug(f\"status: After player {player} -> {nim}\")\n",
    "        player = 1 - player\n",
    "    winner = 1 - player\n",
    "    logging.info(f\"status: Player {winner+1} ({strategy[winner].__class__.__name__}) won!\")"
   ]
  },
  {
   "attachments": {},
   "cell_type": "markdown",
   "metadata": {},
   "source": [
    "evaluation of the agents based on his winning ratio against another agent. \n",
    "\n",
    "the ratio defines the winning percentage of the first player based \"NUM_MATCHES\" a variable predefined by us."
   ]
  },
  {
   "cell_type": "code",
   "execution_count": 23,
   "metadata": {},
   "outputs": [],
   "source": [
    "\n",
    "\n",
    "\n",
    "def evaluate(player1: classmethod, player2:classmethod, NIM_SIZE,NUM_MATCHES) -> float:\n",
    "    opponent = (player1,player2)\n",
    "    won = 0\n",
    "\n",
    "    for m in range(NUM_MATCHES):\n",
    "        nim = Nim(NIM_SIZE)\n",
    "        player = 0\n",
    "        while nim:\n",
    "\n",
    "            ply = opponent[player].choose_action(nim)\n",
    "            nim.nimming(ply)\n",
    "            player = 1 - player\n",
    "        if player == 1:\n",
    "            won += 1\n",
    "    \n",
    "    return won / NUM_MATCHES"
   ]
  },
  {
   "cell_type": "code",
   "execution_count": 198,
   "metadata": {},
   "outputs": [
    {
     "name": "stderr",
     "output_type": "stream",
     "text": [
      "INFO:root:PLAYER 1  have won 0.86 of matches  \n"
     ]
    }
   ],
   "source": [
    "logging.getLogger().setLevel(logging.DEBUG)\n",
    "ratio = evaluate(expert_strategy({\"p\": 0.5, \"q\":0.5}),random_agent(),5,100)\n",
    "logging.info(f\"PLAYER 1  have won {ratio} of matches  \")"
   ]
  },
  {
   "attachments": {},
   "cell_type": "markdown",
   "metadata": {},
   "source": [
    "# TASK 2 : evolved rules\n",
    "\n",
    "The goal is to find the optimal or sub optimal set of $p$ and $q$ (defined in task one) by using a genetic algorithm. \n",
    "By optimality we mean the set that will guarantee the highest winning ratio against the Random Agent"
   ]
  },
  {
   "cell_type": "code",
   "execution_count": 201,
   "metadata": {},
   "outputs": [],
   "source": [
    "Inidividual = namedtuple(\"Individual\", [\"genome\",\"fitness\"])\n",
    "PROBLEM_SIZE = 2 \n",
    "POPULATION_SIZE = 30\n",
    "def fitness(genome) -> float:\n",
    "    ## fitness is the sum of the winning ratios against the random agent for three Nim sizes. \n",
    "    NIM_SIZES = [4,5,6]\n",
    "    fitness = 0\n",
    "    for i in NIM_SIZES:\n",
    "        fitness+=evaluate(expert_strategy({\"p\":genome[0],\"q\":genome[1]}),random_agent(),i,100)\n",
    "    return fitness\n",
    "def tournament(population, tourrnament_size=2): \n",
    "    return max(random.choices(population, k = tourrnament_size), key = lambda x : x.fitness)\n",
    "\n",
    "def cross_over(g1,g2): \n",
    "    child = tuple()\n",
    "    for i, j in zip(g1,g2):\n",
    "        child+=((i+j)/2,) \n",
    "    return child\n",
    "\n",
    "\n",
    "def mutation(child ): \n",
    "    choice = random.choice([0,1])\n",
    "    return child[:choice] + (random.random(),) + child[choice + 1 :]\n",
    "\n",
    "    "
   ]
  },
  {
   "attachments": {},
   "cell_type": "markdown",
   "metadata": {},
   "source": [
    "Initial Population"
   ]
  },
  {
   "cell_type": "code",
   "execution_count": 202,
   "metadata": {},
   "outputs": [
    {
     "name": "stderr",
     "output_type": "stream",
     "text": [
      "INFO:root:init: pop_size=30; max=2.74\n"
     ]
    }
   ],
   "source": [
    "population = list()\n",
    "\n",
    "for genome in [tuple( [random.random() for _ in range(PROBLEM_SIZE)] ) for _ in range(POPULATION_SIZE)]:\n",
    "    population.append(Inidividual(genome ,fitness(genome)))\n",
    "    \n",
    "logging.info(f\"init: pop_size={len(population)}; max={max(population, key=lambda i: i.fitness)[1]}\")"
   ]
  },
  {
   "attachments": {},
   "cell_type": "markdown",
   "metadata": {},
   "source": [
    "GA"
   ]
  },
  {
   "cell_type": "code",
   "execution_count": 203,
   "metadata": {},
   "outputs": [
    {
     "name": "stderr",
     "output_type": "stream",
     "text": [
      "INFO:root:GENRATION 0, BEST FITNESS 2.74\n",
      "INFO:root:GENRATION 1, BEST FITNESS 2.74\n",
      "INFO:root:GENRATION 2, BEST FITNESS 2.76\n",
      "INFO:root:GENRATION 3, BEST FITNESS 2.76\n",
      "INFO:root:GENRATION 4, BEST FITNESS 2.76\n",
      "INFO:root:GENRATION 5, BEST FITNESS 2.76\n",
      "INFO:root:GENRATION 6, BEST FITNESS 2.76\n",
      "INFO:root:GENRATION 7, BEST FITNESS 2.78\n",
      "INFO:root:GENRATION 8, BEST FITNESS 2.78\n",
      "INFO:root:GENRATION 9, BEST FITNESS 2.78\n",
      "INFO:root:GENRATION 10, BEST FITNESS 2.78\n",
      "INFO:root:GENRATION 11, BEST FITNESS 2.78\n",
      "INFO:root:GENRATION 12, BEST FITNESS 2.78\n",
      "INFO:root:GENRATION 13, BEST FITNESS 2.78\n",
      "INFO:root:GENRATION 14, BEST FITNESS 2.78\n",
      "INFO:root:GENRATION 15, BEST FITNESS 2.78\n",
      "INFO:root:GENRATION 16, BEST FITNESS 2.78\n",
      "INFO:root:GENRATION 17, BEST FITNESS 2.81\n",
      "INFO:root:GENRATION 18, BEST FITNESS 2.81\n",
      "INFO:root:GENRATION 19, BEST FITNESS 2.81\n",
      "INFO:root:GENRATION 20, BEST FITNESS 2.81\n",
      "INFO:root:GENRATION 21, BEST FITNESS 2.81\n",
      "INFO:root:GENRATION 22, BEST FITNESS 2.81\n",
      "INFO:root:GENRATION 23, BEST FITNESS 2.81\n",
      "INFO:root:GENRATION 24, BEST FITNESS 2.81\n",
      "INFO:root:GENRATION 25, BEST FITNESS 2.81\n",
      "INFO:root:GENRATION 26, BEST FITNESS 2.81\n",
      "INFO:root:GENRATION 27, BEST FITNESS 2.81\n",
      "INFO:root:GENRATION 28, BEST FITNESS 2.81\n",
      "INFO:root:GENRATION 29, BEST FITNESS 2.81\n",
      "INFO:root:GENRATION 30, BEST FITNESS 2.81\n",
      "INFO:root:GENRATION 31, BEST FITNESS 2.81\n",
      "INFO:root:GENRATION 32, BEST FITNESS 2.81\n",
      "INFO:root:GENRATION 33, BEST FITNESS 2.81\n",
      "INFO:root:GENRATION 34, BEST FITNESS 2.81\n",
      "INFO:root:GENRATION 35, BEST FITNESS 2.81\n",
      "INFO:root:GENRATION 36, BEST FITNESS 2.81\n",
      "INFO:root:GENRATION 37, BEST FITNESS 2.83\n",
      "INFO:root:GENRATION 38, BEST FITNESS 2.83\n",
      "INFO:root:GENRATION 39, BEST FITNESS 2.83\n",
      "INFO:root:GENRATION 40, BEST FITNESS 2.83\n",
      "INFO:root:GENRATION 41, BEST FITNESS 2.83\n",
      "INFO:root:GENRATION 42, BEST FITNESS 2.83\n",
      "INFO:root:GENRATION 43, BEST FITNESS 2.83\n",
      "INFO:root:GENRATION 44, BEST FITNESS 2.83\n",
      "INFO:root:GENRATION 45, BEST FITNESS 2.83\n",
      "INFO:root:GENRATION 46, BEST FITNESS 2.83\n",
      "INFO:root:GENRATION 47, BEST FITNESS 2.83\n",
      "INFO:root:GENRATION 48, BEST FITNESS 2.83\n",
      "INFO:root:GENRATION 49, BEST FITNESS 2.83\n",
      "INFO:root:GENRATION 50, BEST FITNESS 2.83\n",
      "INFO:root:GENRATION 51, BEST FITNESS 2.83\n",
      "INFO:root:GENRATION 52, BEST FITNESS 2.83\n",
      "INFO:root:GENRATION 53, BEST FITNESS 2.83\n",
      "INFO:root:GENRATION 54, BEST FITNESS 2.83\n",
      "INFO:root:GENRATION 55, BEST FITNESS 2.83\n",
      "INFO:root:GENRATION 56, BEST FITNESS 2.83\n",
      "INFO:root:GENRATION 57, BEST FITNESS 2.83\n",
      "INFO:root:GENRATION 58, BEST FITNESS 2.83\n",
      "INFO:root:GENRATION 59, BEST FITNESS 2.83\n",
      "INFO:root:GENRATION 60, BEST FITNESS 2.83\n",
      "INFO:root:GENRATION 61, BEST FITNESS 2.83\n",
      "INFO:root:GENRATION 62, BEST FITNESS 2.83\n",
      "INFO:root:GENRATION 63, BEST FITNESS 2.83\n",
      "INFO:root:GENRATION 64, BEST FITNESS 2.83\n",
      "INFO:root:GENRATION 65, BEST FITNESS 2.83\n",
      "INFO:root:GENRATION 66, BEST FITNESS 2.83\n",
      "INFO:root:GENRATION 67, BEST FITNESS 2.83\n",
      "INFO:root:GENRATION 68, BEST FITNESS 2.83\n",
      "INFO:root:GENRATION 69, BEST FITNESS 2.83\n",
      "INFO:root:GENRATION 70, BEST FITNESS 2.83\n",
      "INFO:root:GENRATION 71, BEST FITNESS 2.83\n",
      "INFO:root:GENRATION 72, BEST FITNESS 2.83\n",
      "INFO:root:GENRATION 73, BEST FITNESS 2.83\n",
      "INFO:root:GENRATION 74, BEST FITNESS 2.83\n",
      "INFO:root:GENRATION 75, BEST FITNESS 2.83\n",
      "INFO:root:GENRATION 76, BEST FITNESS 2.83\n",
      "INFO:root:GENRATION 77, BEST FITNESS 2.83\n",
      "INFO:root:GENRATION 78, BEST FITNESS 2.83\n",
      "INFO:root:GENRATION 79, BEST FITNESS 2.83\n",
      "INFO:root:GENRATION 80, BEST FITNESS 2.83\n",
      "INFO:root:GENRATION 81, BEST FITNESS 2.83\n",
      "INFO:root:GENRATION 82, BEST FITNESS 2.83\n",
      "INFO:root:GENRATION 83, BEST FITNESS 2.83\n",
      "INFO:root:GENRATION 84, BEST FITNESS 2.83\n",
      "INFO:root:GENRATION 85, BEST FITNESS 2.83\n",
      "INFO:root:GENRATION 86, BEST FITNESS 2.83\n",
      "INFO:root:GENRATION 87, BEST FITNESS 2.83\n",
      "INFO:root:GENRATION 88, BEST FITNESS 2.83\n",
      "INFO:root:GENRATION 89, BEST FITNESS 2.83\n",
      "INFO:root:GENRATION 90, BEST FITNESS 2.83\n",
      "INFO:root:GENRATION 91, BEST FITNESS 2.83\n",
      "INFO:root:GENRATION 92, BEST FITNESS 2.83\n",
      "INFO:root:GENRATION 93, BEST FITNESS 2.83\n",
      "INFO:root:GENRATION 94, BEST FITNESS 2.83\n",
      "INFO:root:GENRATION 95, BEST FITNESS 2.83\n",
      "INFO:root:GENRATION 96, BEST FITNESS 2.83\n",
      "INFO:root:GENRATION 97, BEST FITNESS 2.83\n",
      "INFO:root:GENRATION 98, BEST FITNESS 2.83\n",
      "INFO:root:GENRATION 99, BEST FITNESS 2.83\n",
      "INFO:root:GENRATION 100, BEST FITNESS 2.83\n",
      "INFO:root:GENRATION 101, BEST FITNESS 2.83\n",
      "INFO:root:GENRATION 102, BEST FITNESS 2.83\n",
      "INFO:root:GENRATION 103, BEST FITNESS 2.83\n",
      "INFO:root:GENRATION 104, BEST FITNESS 2.83\n",
      "INFO:root:GENRATION 105, BEST FITNESS 2.83\n",
      "INFO:root:GENRATION 106, BEST FITNESS 2.83\n",
      "INFO:root:GENRATION 107, BEST FITNESS 2.83\n",
      "INFO:root:GENRATION 108, BEST FITNESS 2.83\n",
      "INFO:root:GENRATION 109, BEST FITNESS 2.83\n",
      "INFO:root:GENRATION 110, BEST FITNESS 2.83\n",
      "INFO:root:GENRATION 111, BEST FITNESS 2.83\n",
      "INFO:root:GENRATION 112, BEST FITNESS 2.83\n",
      "INFO:root:GENRATION 113, BEST FITNESS 2.83\n",
      "INFO:root:GENRATION 114, BEST FITNESS 2.83\n",
      "INFO:root:GENRATION 115, BEST FITNESS 2.83\n",
      "INFO:root:GENRATION 116, BEST FITNESS 2.83\n",
      "INFO:root:GENRATION 117, BEST FITNESS 2.83\n",
      "INFO:root:GENRATION 118, BEST FITNESS 2.83\n",
      "INFO:root:GENRATION 119, BEST FITNESS 2.83\n",
      "INFO:root:GENRATION 120, BEST FITNESS 2.83\n",
      "INFO:root:GENRATION 121, BEST FITNESS 2.83\n",
      "INFO:root:GENRATION 122, BEST FITNESS 2.83\n",
      "INFO:root:GENRATION 123, BEST FITNESS 2.83\n",
      "INFO:root:GENRATION 124, BEST FITNESS 2.83\n",
      "INFO:root:GENRATION 125, BEST FITNESS 2.83\n",
      "INFO:root:GENRATION 126, BEST FITNESS 2.83\n",
      "INFO:root:GENRATION 127, BEST FITNESS 2.83\n",
      "INFO:root:GENRATION 128, BEST FITNESS 2.83\n",
      "INFO:root:GENRATION 129, BEST FITNESS 2.83\n",
      "INFO:root:GENRATION 130, BEST FITNESS 2.83\n",
      "INFO:root:GENRATION 131, BEST FITNESS 2.83\n",
      "INFO:root:GENRATION 132, BEST FITNESS 2.83\n",
      "INFO:root:GENRATION 133, BEST FITNESS 2.84\n",
      "INFO:root:GENRATION 134, BEST FITNESS 2.84\n",
      "INFO:root:GENRATION 135, BEST FITNESS 2.84\n",
      "INFO:root:GENRATION 136, BEST FITNESS 2.84\n",
      "INFO:root:GENRATION 137, BEST FITNESS 2.84\n",
      "INFO:root:GENRATION 138, BEST FITNESS 2.84\n",
      "INFO:root:GENRATION 139, BEST FITNESS 2.84\n",
      "INFO:root:GENRATION 140, BEST FITNESS 2.84\n",
      "INFO:root:GENRATION 141, BEST FITNESS 2.84\n",
      "INFO:root:GENRATION 142, BEST FITNESS 2.84\n",
      "INFO:root:GENRATION 143, BEST FITNESS 2.84\n",
      "INFO:root:GENRATION 144, BEST FITNESS 2.84\n",
      "INFO:root:GENRATION 145, BEST FITNESS 2.84\n",
      "INFO:root:GENRATION 146, BEST FITNESS 2.84\n",
      "INFO:root:GENRATION 147, BEST FITNESS 2.84\n",
      "INFO:root:GENRATION 148, BEST FITNESS 2.84\n",
      "INFO:root:GENRATION 149, BEST FITNESS 2.84\n",
      "INFO:root:GENRATION 150, BEST FITNESS 2.84\n",
      "INFO:root:GENRATION 151, BEST FITNESS 2.84\n",
      "INFO:root:GENRATION 152, BEST FITNESS 2.84\n",
      "INFO:root:GENRATION 153, BEST FITNESS 2.84\n",
      "INFO:root:GENRATION 154, BEST FITNESS 2.84\n",
      "INFO:root:GENRATION 155, BEST FITNESS 2.84\n",
      "INFO:root:GENRATION 156, BEST FITNESS 2.84\n",
      "INFO:root:GENRATION 157, BEST FITNESS 2.84\n",
      "INFO:root:GENRATION 158, BEST FITNESS 2.84\n",
      "INFO:root:GENRATION 159, BEST FITNESS 2.84\n",
      "INFO:root:GENRATION 160, BEST FITNESS 2.84\n",
      "INFO:root:GENRATION 161, BEST FITNESS 2.84\n",
      "INFO:root:GENRATION 162, BEST FITNESS 2.84\n",
      "INFO:root:GENRATION 163, BEST FITNESS 2.84\n",
      "INFO:root:GENRATION 164, BEST FITNESS 2.84\n",
      "INFO:root:GENRATION 165, BEST FITNESS 2.84\n",
      "INFO:root:GENRATION 166, BEST FITNESS 2.84\n",
      "INFO:root:GENRATION 167, BEST FITNESS 2.84\n",
      "INFO:root:GENRATION 168, BEST FITNESS 2.84\n",
      "INFO:root:GENRATION 169, BEST FITNESS 2.84\n",
      "INFO:root:GENRATION 170, BEST FITNESS 2.84\n",
      "INFO:root:GENRATION 171, BEST FITNESS 2.84\n",
      "INFO:root:GENRATION 172, BEST FITNESS 2.84\n",
      "INFO:root:GENRATION 173, BEST FITNESS 2.84\n",
      "INFO:root:GENRATION 174, BEST FITNESS 2.84\n",
      "INFO:root:GENRATION 175, BEST FITNESS 2.84\n",
      "INFO:root:GENRATION 176, BEST FITNESS 2.84\n",
      "INFO:root:GENRATION 177, BEST FITNESS 2.84\n",
      "INFO:root:GENRATION 178, BEST FITNESS 2.84\n",
      "INFO:root:GENRATION 179, BEST FITNESS 2.84\n",
      "INFO:root:GENRATION 180, BEST FITNESS 2.84\n",
      "INFO:root:GENRATION 181, BEST FITNESS 2.84\n",
      "INFO:root:GENRATION 182, BEST FITNESS 2.84\n",
      "INFO:root:GENRATION 183, BEST FITNESS 2.84\n",
      "INFO:root:GENRATION 184, BEST FITNESS 2.84\n",
      "INFO:root:GENRATION 185, BEST FITNESS 2.84\n",
      "INFO:root:GENRATION 186, BEST FITNESS 2.84\n",
      "INFO:root:GENRATION 187, BEST FITNESS 2.84\n",
      "INFO:root:GENRATION 188, BEST FITNESS 2.84\n",
      "INFO:root:GENRATION 189, BEST FITNESS 2.84\n",
      "INFO:root:GENRATION 190, BEST FITNESS 2.84\n",
      "INFO:root:GENRATION 191, BEST FITNESS 2.84\n",
      "INFO:root:GENRATION 192, BEST FITNESS 2.84\n",
      "INFO:root:GENRATION 193, BEST FITNESS 2.84\n",
      "INFO:root:GENRATION 194, BEST FITNESS 2.84\n",
      "INFO:root:GENRATION 195, BEST FITNESS 2.84\n",
      "INFO:root:GENRATION 196, BEST FITNESS 2.84\n",
      "INFO:root:GENRATION 197, BEST FITNESS 2.84\n",
      "INFO:root:GENRATION 198, BEST FITNESS 2.84\n",
      "INFO:root:GENRATION 199, BEST FITNESS 2.84\n"
     ]
    }
   ],
   "source": [
    "fitness_log = [(0,i.fitness) for i in population]\n",
    "NUM_GENETATIONS = 200\n",
    "OFF_SPRING = 3\n",
    "for g in range(NUM_GENETATIONS): \n",
    "    offspring = list()\n",
    "    for i in range(OFF_SPRING): \n",
    "        if random.random()<0.5 : \n",
    "            p = tournament(population)\n",
    "\n",
    "            c = mutation(p.genome)\n",
    "        \n",
    "\n",
    "        else  : \n",
    "            p1 =tournament(population)\n",
    "            p2 =tournament(population)\n",
    "            c = cross_over(p1.genome , p2.genome)\n",
    "\n",
    "\n",
    "        f = fitness(c)\n",
    "        fitness_log.append((g+1,f))\n",
    "        offspring.append(Inidividual(c,f))\n",
    "    population+=offspring\n",
    "    population = sorted(population , key = lambda x :x.fitness , reverse=True)[:POPULATION_SIZE]\n",
    "    logging.info(f\"GENRATION {g}, BEST FITNESS {population[0].fitness}\")\n",
    "    "
   ]
  },
  {
   "cell_type": "code",
   "execution_count": 204,
   "metadata": {},
   "outputs": [
    {
     "data": {
      "text/plain": [
       "(0.24227048837727017, 0.8985911046801514)"
      ]
     },
     "execution_count": 204,
     "metadata": {},
     "output_type": "execute_result"
    }
   ],
   "source": [
    "EG = population[0].genome\n",
    "EG\n"
   ]
  },
  {
   "attachments": {},
   "cell_type": "markdown",
   "metadata": {},
   "source": [
    "EVOLVED VS NON-EVVOLVED"
   ]
  },
  {
   "cell_type": "code",
   "execution_count": 232,
   "metadata": {},
   "outputs": [
    {
     "name": "stderr",
     "output_type": "stream",
     "text": [
      "INFO:root:----EVOLVED GOES FIRST----\n",
      "INFO:root:PLAYER 1  have won 0.63 of matches  \n",
      "INFO:root:----NON EVOLVED GOES FIRST----\n",
      "INFO:root:PLAYER 1  have won 0.36 of matches  \n"
     ]
    }
   ],
   "source": [
    "logging.getLogger().setLevel(logging.DEBUG)\n",
    "logging.info(f\"----EVOLVED GOES FIRST----\")\n",
    "ratio=evaluate(expert_strategy({\"p\":EG[0] , \"q\":EG[1]}),expert_strategy({\"p\": 0.5, \"q\":0.5}),5,100)\n",
    "logging.info(f\"PLAYER 1  have won {ratio} of matches  \")\n",
    "logging.info(f\"----NON EVOLVED GOES FIRST----\")\n",
    "ratio=evaluate(expert_strategy({\"p\":0.5 , \"q\":0.5}),expert_strategy({\"p\": EG[0], \"q\":EG[1]}),5,100)\n",
    "logging.info(f\"PLAYER 1  have won {ratio} of matches  \")\n"
   ]
  },
  {
   "attachments": {},
   "cell_type": "markdown",
   "metadata": {},
   "source": [
    "EVOLVED VS RANDOM"
   ]
  },
  {
   "cell_type": "code",
   "execution_count": 226,
   "metadata": {},
   "outputs": [
    {
     "name": "stderr",
     "output_type": "stream",
     "text": [
      "INFO:root:PLAYER 1  have won 0.89 of matches \n"
     ]
    }
   ],
   "source": [
    "NIM_SIZE = 5\n",
    "ratio = evaluate(expert_strategy({\"p\":EG[0],\"q\":EG[1]}),random_agent(),NIM_SIZE,100)\n",
    "logging.info(f\"PLAYER 1  have won {ratio} of matches \")\n"
   ]
  },
  {
   "attachments": {},
   "cell_type": "markdown",
   "metadata": {},
   "source": [
    "EVOLVED VS OPTIMAL"
   ]
  },
  {
   "cell_type": "code",
   "execution_count": 227,
   "metadata": {},
   "outputs": [
    {
     "name": "stderr",
     "output_type": "stream",
     "text": [
      "INFO:root:PLAYER 1  have won 0.0 of matches \n"
     ]
    }
   ],
   "source": [
    "NIM_SIZE = 5\n",
    "ratio = evaluate(expert_strategy({\"p\":EG[0],\"q\":EG[1]}),optimal_agent(),NIM_SIZE,100)\n",
    "logging.info(f\"PLAYER 1  have won {ratio} of matches \")"
   ]
  },
  {
   "attachments": {},
   "cell_type": "markdown",
   "metadata": {},
   "source": [
    "# TASK 3 : MinMax"
   ]
  },
  {
   "cell_type": "code",
   "execution_count": 146,
   "metadata": {},
   "outputs": [],
   "source": [
    "\n",
    "def minmax(state : Nim, MaximizingPlayer : bool): \n",
    "    if not state :  \n",
    "        return 1 if MaximizingPlayer else -1\n",
    "\n",
    "    stats = possible_moves(state)\n",
    "\n",
    "\n",
    "    if MaximizingPlayer : \n",
    "        maxEval = -np.inf\n",
    "        for child in stats: \n",
    "            tmp_max = deepcopy(state)\n",
    "            tmp_max.nimming(child)\n",
    "\n",
    "            evaluation = minmax(tmp_max  , False )\n",
    "            maxEval = max(maxEval ,evaluation)\n",
    "        return maxEval\n",
    "    else  : \n",
    "        minEval = + np.inf ; \n",
    "        for child in  stats: \n",
    "            tmp_min = deepcopy(state)\n",
    "            tmp_min.nimming(child)\n",
    "\n",
    "            evaluation = minmax(tmp_min  , True)\n",
    "            minEval = min(minEval, evaluation)\n",
    "        return minEval \n",
    "    \n",
    "            "
   ]
  },
  {
   "cell_type": "code",
   "execution_count": 86,
   "metadata": {},
   "outputs": [
    {
     "name": "stdout",
     "output_type": "stream",
     "text": [
      "1\n"
     ]
    }
   ],
   "source": [
    "nim = Nim(3)\n",
    "result = minmax(nim ,True)\n",
    "print(result)"
   ]
  },
  {
   "cell_type": "code",
   "execution_count": 24,
   "metadata": {},
   "outputs": [],
   "source": [
    "\n",
    "def alpha_beta(state:Nim ,alpha : float, beta:float,  MaximizingPlayer : bool)-> int:\n",
    "\n",
    "    decisions = list()\n",
    "    moves = possible_moves(state)\n",
    "    if not state :  \n",
    "        return (None,1) if not MaximizingPlayer else (None,-1)\n",
    "  \n",
    "\n",
    "    \n",
    "    if MaximizingPlayer : \n",
    "        maxEval = - np.inf\n",
    "\n",
    "        for i in  moves : \n",
    "            \n",
    "            tmp_max = deepcopy(state)\n",
    "            tmp_max.nimming(i)\n",
    "            _,evaluation = alpha_beta(tmp_max , alpha , beta , False)\n",
    "            decisions.append((i,evaluation))\n",
    "            \n",
    "            #maxEval = max(maxEval , evaluation)\n",
    "            alpha = max(alpha, evaluation)\n",
    "            if beta <= alpha : \n",
    "\n",
    "                break  \n",
    "\n",
    "        return max(decisions,key= lambda y:y[1])\n",
    "    else : \n",
    "        minEval = np.inf\n",
    "\n",
    "        for i in moves : \n",
    "            tmp_min = deepcopy(state)\n",
    "            tmp_min.nimming(i)\n",
    "            _,evaluation = alpha_beta(tmp_min, alpha ,beta , True)\n",
    "            decisions.append((i,evaluation))\n",
    "            #minEval = min(minEval , evaluation)\n",
    "            beta = min(beta,evaluation)\n",
    "            if beta <= alpha : \n",
    "\n",
    "                break  \n",
    "        return min(decisions,key= lambda y:y[1])\n",
    "    \n"
   ]
  },
  {
   "cell_type": "code",
   "execution_count": 25,
   "metadata": {},
   "outputs": [
    {
     "name": "stderr",
     "output_type": "stream",
     "text": [
      "INFO:root:You Won Congrats\n"
     ]
    },
    {
     "name": "stdout",
     "output_type": "stream",
     "text": [
      "(Nimply(row=2, num_objects=3), 1)\n"
     ]
    }
   ],
   "source": [
    "logging.getLogger().setLevel(logging.DEBUG)\n",
    "nim = Nim(3)\n",
    "a = alpha_beta(nim ,-np.inf, np.inf,True)\n",
    "print(a)\n",
    "if a : \n",
    "    logging.info(\"You Won Congrats\")\n",
    "else : \n",
    "    logging.info(\"You Lost Dumbass\")\n"
   ]
  },
  {
   "cell_type": "code",
   "execution_count": 26,
   "metadata": {},
   "outputs": [],
   "source": [
    "class min_max_strategy(Agent):\n",
    " \n",
    "\n",
    "    def choose_action(self,state:Nim): \n",
    "        return alpha_beta(state,-np.inf, np.inf,True)[0]\n"
   ]
  },
  {
   "attachments": {},
   "cell_type": "markdown",
   "metadata": {},
   "source": [
    "MIN MAX VS RANDOM"
   ]
  },
  {
   "cell_type": "code",
   "execution_count": 27,
   "metadata": {},
   "outputs": [
    {
     "ename": "NameError",
     "evalue": "name 'random_agent' is not defined",
     "output_type": "error",
     "traceback": [
      "\u001b[0;31m---------------------------------------------------------------------------\u001b[0m",
      "\u001b[0;31mNameError\u001b[0m                                 Traceback (most recent call last)",
      "Cell \u001b[0;32mIn[27], line 3\u001b[0m\n\u001b[1;32m      1\u001b[0m NIM_SIZE \u001b[39m=\u001b[39m \u001b[39m3\u001b[39m\n\u001b[0;32m----> 3\u001b[0m ratio \u001b[39m=\u001b[39m evaluate(min_max_strategy(), random_agent(),NIM_SIZE,\u001b[39m100\u001b[39m)\n\u001b[1;32m      4\u001b[0m logging\u001b[39m.\u001b[39minfo(\u001b[39mf\u001b[39m\u001b[39m\"\u001b[39m\u001b[39mPLAYER 1  have won \u001b[39m\u001b[39m{\u001b[39;00mratio\u001b[39m}\u001b[39;00m\u001b[39m of matches \u001b[39m\u001b[39m\"\u001b[39m)\n",
      "\u001b[0;31mNameError\u001b[0m: name 'random_agent' is not defined"
     ]
    }
   ],
   "source": [
    "NIM_SIZE = 3\n",
    "\n",
    "ratio = evaluate(min_max_strategy(), random_agent(),NIM_SIZE,100)\n",
    "logging.info(f\"PLAYER 1  have won {ratio} of matches \")\n"
   ]
  },
  {
   "attachments": {},
   "cell_type": "markdown",
   "metadata": {},
   "source": [
    "MIN MAX VS OPTIMAL STRATEGY"
   ]
  },
  {
   "cell_type": "code",
   "execution_count": 28,
   "metadata": {},
   "outputs": [
    {
     "name": "stderr",
     "output_type": "stream",
     "text": [
      "INFO:root:PLAYER 1  have won 1.0 of matches \n"
     ]
    }
   ],
   "source": [
    "NIM_SIZE = 3\n",
    "ratio = evaluate(min_max_strategy(),optimal_agent(),NIM_SIZE,100)\n",
    "logging.info(f\"PLAYER 1  have won {ratio} of matches \")"
   ]
  },
  {
   "attachments": {},
   "cell_type": "markdown",
   "metadata": {},
   "source": [
    "# TASK 4 : REINFORCMENT LEARNING \n",
    "\n",
    "• Q learning\n",
    "\n",
    "• SARSA \n",
    "\n",
    "• Incremental implementation based on the estimate of every state $G$"
   ]
  },
  {
   "cell_type": "code",
   "execution_count": 9,
   "metadata": {},
   "outputs": [],
   "source": [
    "from math import exp \n",
    "class  Q_leaning:\n",
    "    def __init__(self, alpha , gamma , epsilon, temp_start,train: bool):\n",
    "        self.epsilon = epsilon\n",
    "        self.gamma = gamma \n",
    "        self.alpha = alpha\n",
    "        self.Q = dict()\n",
    "        self.prevS = self.prevA = None\n",
    "        self.WIN_REWARD , self.LOSS_REWARD = 1,-1\n",
    "        self.temp = temp_start\n",
    "        self.train = train\n",
    "\n",
    "        self.history = list()\n",
    "    def annealing(self,update_temp = lambda x : x*0.995)-> float:\n",
    "            a = exp(- 0.001/ self.temp)\n",
    "            self.temp = update_temp(self.temp)\n",
    "            return a\n",
    "    def SaveQ(self,currS :Nim)->None:\n",
    "        possible_actions = possible_moves(currS)\n",
    "        if (currS.rows,possible_actions[0]) not  in self.Q: \n",
    "            for action in possible_actions : \n",
    "                self.Q[(currS.rows,action)] = np.random.uniform(0.0,0.01)\n",
    "    \n",
    "    def choose_action(self, currS,random_factor): \n",
    "        possible_actions = possible_moves(currS)\n",
    "       \n",
    "        if np.random.random() > random_factor and self.train: \n",
    "            \n",
    "            Q_value = [self.Q[(currS.rows , action)] for action in possible_actions]\n",
    "            return possible_actions[np.argmax(Q_value)]\n",
    "        elif not self.train : \n",
    "            if (currS.rows,possible_actions[0]) not  in self.Q: \n",
    "                 self.SaveQ(currS)\n",
    "            Q_value = [self.Q[(currS.rows , action)] for action in possible_actions ]\n",
    "            return possible_actions[np.argmax(Q_value)]     \n",
    "              \n",
    "        else: \n",
    "\n",
    "            return random.choice(possible_actions)\n",
    "    \n",
    "\n",
    "    def learn(self,currS, random_factor): \n",
    "        if not currS: \n",
    "            self.Q[(self.prevS.rows, self.prevA)] += self.alpha *(self.LOSS_REWARD - self.Q[(self.prevS.rows, self.prevA)])\n",
    "            currA = self.prevS = self.prevA = None\n",
    "        else : \n",
    "\n",
    "            self.SaveQ(currS)\n",
    "            currA = self.choose_action(currS, random_factor)\n",
    "            if self.prevA is not None: \n",
    "                nextS = deepcopy(currS)\n",
    "                nextS.nimming(currA)\n",
    "                \n",
    "                reward = 0 if nextS else self.WIN_REWARD \n",
    "                \n",
    "                maxQ = max(self.Q[(currS.rows, action)] for action in possible_moves(currS))\n",
    "                self.Q[(self.prevS.rows,self.prevA)] +=self.alpha *(reward+self.gamma*maxQ - self.Q[(self.prevS.rows,self.prevA)])\n",
    "            self.prevS, self.prevA = deepcopy(currS) , deepcopy(currA)\n",
    "\n",
    "        return currA\n",
    "                \n",
    "                 "
   ]
  },
  {
   "cell_type": "code",
   "execution_count": 10,
   "metadata": {},
   "outputs": [],
   "source": [
    "from math import exp \n",
    "class  SARSA:\n",
    "    def __init__(self, alpha , gamma , epsilon, temp_start, train : bool):\n",
    "        self.epsilon = epsilon\n",
    "        self.gamma = gamma \n",
    "        self.alpha = alpha\n",
    "        self.Q = dict()\n",
    "        self.prevS = self.prevA = None\n",
    "        self.WIN_REWARD , self.LOSS_REWARD = 1,-1\n",
    "        self.temp = temp_start\n",
    "        self.train = train\n",
    "\n",
    "        self.history = list()\n",
    "    def annealing(self,update_temp = lambda x : x*0.995)-> float:\n",
    "            a = exp(- 0.001/ self.temp)\n",
    "            self.temp = update_temp(self.temp)\n",
    "            return a\n",
    "    def SaveQ(self,currS :Nim)->None:\n",
    "        possible_actions = possible_moves(currS)\n",
    "        if (currS.rows,possible_actions[0]) not  in self.Q: \n",
    "            for action in possible_actions : \n",
    "                self.Q[(currS.rows,action)] = np.random.uniform(0.0,0.1)\n",
    "    \n",
    "    def choose_action(self, currS,random_factor): \n",
    "        possible_actions = possible_moves(currS)\n",
    "       \n",
    "        if np.random.random() > random_factor and self.train: \n",
    "            \n",
    "            Q_value = [self.Q[(currS.rows , action)] for action in possible_actions ]\n",
    "            return possible_actions[np.argmax(Q_value)]\n",
    "        elif not self.train : \n",
    "            if (currS.rows,possible_actions[0]) not  in self.Q: \n",
    "                self.SaveQ(currS)\n",
    "            Q_value = [self.Q[(currS.rows , action)] for action in possible_actions ]\n",
    "            return possible_actions[np.argmax(Q_value)]\n",
    "        else: \n",
    "\n",
    "            return random.choice(possible_actions)\n",
    "    \n",
    "\n",
    "    def learn(self,currS, random_factor): \n",
    "        if not currS: \n",
    "            self.Q[(self.prevS.rows, self.prevA)] += self.alpha *(self.LOSS_REWARD - self.Q[(self.prevS.rows, self.prevA)])\n",
    "            currA = self.prevS = self.prevA = None\n",
    "        else : \n",
    "\n",
    "            self.SaveQ(currS)\n",
    "            currA = self.choose_action(currS, random_factor)\n",
    "            if self.prevA is not None: \n",
    "                nextS = deepcopy(currS)\n",
    "                nextS.nimming(currA)\n",
    "                reward = 0 if  nextS else self.WIN_REWARD \n",
    "\n",
    "                self.Q[(self.prevS.rows,self.prevA)] +=self.alpha *(reward+self.gamma*self.Q[(currS.rows,currA)] - self.Q[(self.prevS.rows,self.prevA)])\n",
    "            self.prevS, self.prevA = deepcopy(currS) , deepcopy(currA)\n",
    "\n",
    "        return currA\n",
    "                \n",
    "                 "
   ]
  },
  {
   "attachments": {},
   "cell_type": "markdown",
   "metadata": {},
   "source": [
    "TRAINING OPERATOR FOR SARSA AND Q LEARNING"
   ]
  },
  {
   "cell_type": "code",
   "execution_count": 44,
   "metadata": {},
   "outputs": [],
   "source": [
    "\n",
    "\n",
    "def train_v1( initS :Nim,player1 : classmethod, player2: classmethod, NUM_MATCHES): \n",
    "        rateHistory = []\n",
    "        indices = []\n",
    "        win_ratio = 0\n",
    "        for match in range(NUM_MATCHES): \n",
    "            currS = deepcopy(initS)\n",
    "\n",
    "            random_factor= player1.annealing()\n",
    "            player1.history.clear()\n",
    "            while True : \n",
    "                # P1 turn \n",
    "                P1_action = player1.learn(currS , random_factor)\n",
    "                if P1_action is None : \n",
    "                    break \n",
    "                currS.nimming(P1_action)\n",
    "                if not currS : \n",
    "                    win_ratio +=1\n",
    "                    break \n",
    "                \n",
    "\n",
    "                # P2 turn \n",
    "                P2_action =player2.choose_action(currS)\n",
    "\n",
    "                currS.nimming(P2_action)\n",
    "        \n",
    "            if match % 100 == 0:\n",
    "                rateHistory.append(win_ratio / 100)\n",
    "                indices.append(match)\n",
    "                win_ratio = 0\n",
    "\n",
    "\n",
    "        plt.semilogy(indices, rateHistory, \"b\")\n",
    "        plt.grid()\n",
    "        plt.title(f\"{player1.__class__.__name__}\")\n",
    "        plt.savefig(f\"{player1.__class__.__name__}.jpg\")\n",
    "        plt.show()\n",
    "\n",
    "\n",
    "\n",
    "                "
   ]
  },
  {
   "attachments": {},
   "cell_type": "markdown",
   "metadata": {},
   "source": [
    "PLAY A GAME OF NIM FOR SARSA AND Q LEARNING"
   ]
  },
  {
   "cell_type": "code",
   "execution_count": 14,
   "metadata": {},
   "outputs": [],
   "source": [
    "def Play(initS :Nim,player1 : classmethod, player2: classmethod, NUM_MATCHES): \n",
    "    win_ratio = 0 \n",
    "    for match in range(NUM_MATCHES): \n",
    "            currS = deepcopy(initS)\n",
    "            random_factor = 0\n",
    "\n",
    "            while True : \n",
    "                # P1 turn \n",
    "                P1_action = player1.choose_action(currS , random_factor)\n",
    "                \n",
    "                currS.nimming(P1_action)\n",
    "                if not currS : \n",
    "                    win_ratio +=1\n",
    "                    break \n",
    "                \n",
    "\n",
    "                # P2 turn \n",
    "                P2_action =player2.choose_action(currS)\n",
    "\n",
    "                currS.nimming(P2_action)\n",
    "                if not currS: \n",
    "                    break\n",
    "    return win_ratio/NUM_MATCHES\n",
    "            "
   ]
  },
  {
   "cell_type": "code",
   "execution_count": 46,
   "metadata": {},
   "outputs": [
    {
     "data": {
      "application/javascript": "/* Put everything inside the global mpl namespace */\n/* global mpl */\nwindow.mpl = {};\n\nmpl.get_websocket_type = function () {\n    if (typeof WebSocket !== 'undefined') {\n        return WebSocket;\n    } else if (typeof MozWebSocket !== 'undefined') {\n        return MozWebSocket;\n    } else {\n        alert(\n            'Your browser does not have WebSocket support. ' +\n                'Please try Chrome, Safari or Firefox ≥ 6. ' +\n                'Firefox 4 and 5 are also supported but you ' +\n                'have to enable WebSockets in about:config.'\n        );\n    }\n};\n\nmpl.figure = function (figure_id, websocket, ondownload, parent_element) {\n    this.id = figure_id;\n\n    this.ws = websocket;\n\n    this.supports_binary = this.ws.binaryType !== undefined;\n\n    if (!this.supports_binary) {\n        var warnings = document.getElementById('mpl-warnings');\n        if (warnings) {\n            warnings.style.display = 'block';\n            warnings.textContent =\n                'This browser does not support binary websocket messages. ' +\n                'Performance may be slow.';\n        }\n    }\n\n    this.imageObj = new Image();\n\n    this.context = undefined;\n    this.message = undefined;\n    this.canvas = undefined;\n    this.rubberband_canvas = undefined;\n    this.rubberband_context = undefined;\n    this.format_dropdown = undefined;\n\n    this.image_mode = 'full';\n\n    this.root = document.createElement('div');\n    this.root.setAttribute('style', 'display: inline-block');\n    this._root_extra_style(this.root);\n\n    parent_element.appendChild(this.root);\n\n    this._init_header(this);\n    this._init_canvas(this);\n    this._init_toolbar(this);\n\n    var fig = this;\n\n    this.waiting = false;\n\n    this.ws.onopen = function () {\n        fig.send_message('supports_binary', { value: fig.supports_binary });\n        fig.send_message('send_image_mode', {});\n        if (fig.ratio !== 1) {\n            fig.send_message('set_device_pixel_ratio', {\n                device_pixel_ratio: fig.ratio,\n            });\n        }\n        fig.send_message('refresh', {});\n    };\n\n    this.imageObj.onload = function () {\n        if (fig.image_mode === 'full') {\n            // Full images could contain transparency (where diff images\n            // almost always do), so we need to clear the canvas so that\n            // there is no ghosting.\n            fig.context.clearRect(0, 0, fig.canvas.width, fig.canvas.height);\n        }\n        fig.context.drawImage(fig.imageObj, 0, 0);\n    };\n\n    this.imageObj.onunload = function () {\n        fig.ws.close();\n    };\n\n    this.ws.onmessage = this._make_on_message_function(this);\n\n    this.ondownload = ondownload;\n};\n\nmpl.figure.prototype._init_header = function () {\n    var titlebar = document.createElement('div');\n    titlebar.classList =\n        'ui-dialog-titlebar ui-widget-header ui-corner-all ui-helper-clearfix';\n    var titletext = document.createElement('div');\n    titletext.classList = 'ui-dialog-title';\n    titletext.setAttribute(\n        'style',\n        'width: 100%; text-align: center; padding: 3px;'\n    );\n    titlebar.appendChild(titletext);\n    this.root.appendChild(titlebar);\n    this.header = titletext;\n};\n\nmpl.figure.prototype._canvas_extra_style = function (_canvas_div) {};\n\nmpl.figure.prototype._root_extra_style = function (_canvas_div) {};\n\nmpl.figure.prototype._init_canvas = function () {\n    var fig = this;\n\n    var canvas_div = (this.canvas_div = document.createElement('div'));\n    canvas_div.setAttribute(\n        'style',\n        'border: 1px solid #ddd;' +\n            'box-sizing: content-box;' +\n            'clear: both;' +\n            'min-height: 1px;' +\n            'min-width: 1px;' +\n            'outline: 0;' +\n            'overflow: hidden;' +\n            'position: relative;' +\n            'resize: both;'\n    );\n\n    function on_keyboard_event_closure(name) {\n        return function (event) {\n            return fig.key_event(event, name);\n        };\n    }\n\n    canvas_div.addEventListener(\n        'keydown',\n        on_keyboard_event_closure('key_press')\n    );\n    canvas_div.addEventListener(\n        'keyup',\n        on_keyboard_event_closure('key_release')\n    );\n\n    this._canvas_extra_style(canvas_div);\n    this.root.appendChild(canvas_div);\n\n    var canvas = (this.canvas = document.createElement('canvas'));\n    canvas.classList.add('mpl-canvas');\n    canvas.setAttribute('style', 'box-sizing: content-box;');\n\n    this.context = canvas.getContext('2d');\n\n    var backingStore =\n        this.context.backingStorePixelRatio ||\n        this.context.webkitBackingStorePixelRatio ||\n        this.context.mozBackingStorePixelRatio ||\n        this.context.msBackingStorePixelRatio ||\n        this.context.oBackingStorePixelRatio ||\n        this.context.backingStorePixelRatio ||\n        1;\n\n    this.ratio = (window.devicePixelRatio || 1) / backingStore;\n\n    var rubberband_canvas = (this.rubberband_canvas = document.createElement(\n        'canvas'\n    ));\n    rubberband_canvas.setAttribute(\n        'style',\n        'box-sizing: content-box; position: absolute; left: 0; top: 0; z-index: 1;'\n    );\n\n    // Apply a ponyfill if ResizeObserver is not implemented by browser.\n    if (this.ResizeObserver === undefined) {\n        if (window.ResizeObserver !== undefined) {\n            this.ResizeObserver = window.ResizeObserver;\n        } else {\n            var obs = _JSXTOOLS_RESIZE_OBSERVER({});\n            this.ResizeObserver = obs.ResizeObserver;\n        }\n    }\n\n    this.resizeObserverInstance = new this.ResizeObserver(function (entries) {\n        var nentries = entries.length;\n        for (var i = 0; i < nentries; i++) {\n            var entry = entries[i];\n            var width, height;\n            if (entry.contentBoxSize) {\n                if (entry.contentBoxSize instanceof Array) {\n                    // Chrome 84 implements new version of spec.\n                    width = entry.contentBoxSize[0].inlineSize;\n                    height = entry.contentBoxSize[0].blockSize;\n                } else {\n                    // Firefox implements old version of spec.\n                    width = entry.contentBoxSize.inlineSize;\n                    height = entry.contentBoxSize.blockSize;\n                }\n            } else {\n                // Chrome <84 implements even older version of spec.\n                width = entry.contentRect.width;\n                height = entry.contentRect.height;\n            }\n\n            // Keep the size of the canvas and rubber band canvas in sync with\n            // the canvas container.\n            if (entry.devicePixelContentBoxSize) {\n                // Chrome 84 implements new version of spec.\n                canvas.setAttribute(\n                    'width',\n                    entry.devicePixelContentBoxSize[0].inlineSize\n                );\n                canvas.setAttribute(\n                    'height',\n                    entry.devicePixelContentBoxSize[0].blockSize\n                );\n            } else {\n                canvas.setAttribute('width', width * fig.ratio);\n                canvas.setAttribute('height', height * fig.ratio);\n            }\n            canvas.setAttribute(\n                'style',\n                'width: ' + width + 'px; height: ' + height + 'px;'\n            );\n\n            rubberband_canvas.setAttribute('width', width);\n            rubberband_canvas.setAttribute('height', height);\n\n            // And update the size in Python. We ignore the initial 0/0 size\n            // that occurs as the element is placed into the DOM, which should\n            // otherwise not happen due to the minimum size styling.\n            if (fig.ws.readyState == 1 && width != 0 && height != 0) {\n                fig.request_resize(width, height);\n            }\n        }\n    });\n    this.resizeObserverInstance.observe(canvas_div);\n\n    function on_mouse_event_closure(name) {\n        return function (event) {\n            return fig.mouse_event(event, name);\n        };\n    }\n\n    rubberband_canvas.addEventListener(\n        'mousedown',\n        on_mouse_event_closure('button_press')\n    );\n    rubberband_canvas.addEventListener(\n        'mouseup',\n        on_mouse_event_closure('button_release')\n    );\n    rubberband_canvas.addEventListener(\n        'dblclick',\n        on_mouse_event_closure('dblclick')\n    );\n    // Throttle sequential mouse events to 1 every 20ms.\n    rubberband_canvas.addEventListener(\n        'mousemove',\n        on_mouse_event_closure('motion_notify')\n    );\n\n    rubberband_canvas.addEventListener(\n        'mouseenter',\n        on_mouse_event_closure('figure_enter')\n    );\n    rubberband_canvas.addEventListener(\n        'mouseleave',\n        on_mouse_event_closure('figure_leave')\n    );\n\n    canvas_div.addEventListener('wheel', function (event) {\n        if (event.deltaY < 0) {\n            event.step = 1;\n        } else {\n            event.step = -1;\n        }\n        on_mouse_event_closure('scroll')(event);\n    });\n\n    canvas_div.appendChild(canvas);\n    canvas_div.appendChild(rubberband_canvas);\n\n    this.rubberband_context = rubberband_canvas.getContext('2d');\n    this.rubberband_context.strokeStyle = '#000000';\n\n    this._resize_canvas = function (width, height, forward) {\n        if (forward) {\n            canvas_div.style.width = width + 'px';\n            canvas_div.style.height = height + 'px';\n        }\n    };\n\n    // Disable right mouse context menu.\n    this.rubberband_canvas.addEventListener('contextmenu', function (_e) {\n        event.preventDefault();\n        return false;\n    });\n\n    function set_focus() {\n        canvas.focus();\n        canvas_div.focus();\n    }\n\n    window.setTimeout(set_focus, 100);\n};\n\nmpl.figure.prototype._init_toolbar = function () {\n    var fig = this;\n\n    var toolbar = document.createElement('div');\n    toolbar.classList = 'mpl-toolbar';\n    this.root.appendChild(toolbar);\n\n    function on_click_closure(name) {\n        return function (_event) {\n            return fig.toolbar_button_onclick(name);\n        };\n    }\n\n    function on_mouseover_closure(tooltip) {\n        return function (event) {\n            if (!event.currentTarget.disabled) {\n                return fig.toolbar_button_onmouseover(tooltip);\n            }\n        };\n    }\n\n    fig.buttons = {};\n    var buttonGroup = document.createElement('div');\n    buttonGroup.classList = 'mpl-button-group';\n    for (var toolbar_ind in mpl.toolbar_items) {\n        var name = mpl.toolbar_items[toolbar_ind][0];\n        var tooltip = mpl.toolbar_items[toolbar_ind][1];\n        var image = mpl.toolbar_items[toolbar_ind][2];\n        var method_name = mpl.toolbar_items[toolbar_ind][3];\n\n        if (!name) {\n            /* Instead of a spacer, we start a new button group. */\n            if (buttonGroup.hasChildNodes()) {\n                toolbar.appendChild(buttonGroup);\n            }\n            buttonGroup = document.createElement('div');\n            buttonGroup.classList = 'mpl-button-group';\n            continue;\n        }\n\n        var button = (fig.buttons[name] = document.createElement('button'));\n        button.classList = 'mpl-widget';\n        button.setAttribute('role', 'button');\n        button.setAttribute('aria-disabled', 'false');\n        button.addEventListener('click', on_click_closure(method_name));\n        button.addEventListener('mouseover', on_mouseover_closure(tooltip));\n\n        var icon_img = document.createElement('img');\n        icon_img.src = '_images/' + image + '.png';\n        icon_img.srcset = '_images/' + image + '_large.png 2x';\n        icon_img.alt = tooltip;\n        button.appendChild(icon_img);\n\n        buttonGroup.appendChild(button);\n    }\n\n    if (buttonGroup.hasChildNodes()) {\n        toolbar.appendChild(buttonGroup);\n    }\n\n    var fmt_picker = document.createElement('select');\n    fmt_picker.classList = 'mpl-widget';\n    toolbar.appendChild(fmt_picker);\n    this.format_dropdown = fmt_picker;\n\n    for (var ind in mpl.extensions) {\n        var fmt = mpl.extensions[ind];\n        var option = document.createElement('option');\n        option.selected = fmt === mpl.default_extension;\n        option.innerHTML = fmt;\n        fmt_picker.appendChild(option);\n    }\n\n    var status_bar = document.createElement('span');\n    status_bar.classList = 'mpl-message';\n    toolbar.appendChild(status_bar);\n    this.message = status_bar;\n};\n\nmpl.figure.prototype.request_resize = function (x_pixels, y_pixels) {\n    // Request matplotlib to resize the figure. Matplotlib will then trigger a resize in the client,\n    // which will in turn request a refresh of the image.\n    this.send_message('resize', { width: x_pixels, height: y_pixels });\n};\n\nmpl.figure.prototype.send_message = function (type, properties) {\n    properties['type'] = type;\n    properties['figure_id'] = this.id;\n    this.ws.send(JSON.stringify(properties));\n};\n\nmpl.figure.prototype.send_draw_message = function () {\n    if (!this.waiting) {\n        this.waiting = true;\n        this.ws.send(JSON.stringify({ type: 'draw', figure_id: this.id }));\n    }\n};\n\nmpl.figure.prototype.handle_save = function (fig, _msg) {\n    var format_dropdown = fig.format_dropdown;\n    var format = format_dropdown.options[format_dropdown.selectedIndex].value;\n    fig.ondownload(fig, format);\n};\n\nmpl.figure.prototype.handle_resize = function (fig, msg) {\n    var size = msg['size'];\n    if (size[0] !== fig.canvas.width || size[1] !== fig.canvas.height) {\n        fig._resize_canvas(size[0], size[1], msg['forward']);\n        fig.send_message('refresh', {});\n    }\n};\n\nmpl.figure.prototype.handle_rubberband = function (fig, msg) {\n    var x0 = msg['x0'] / fig.ratio;\n    var y0 = (fig.canvas.height - msg['y0']) / fig.ratio;\n    var x1 = msg['x1'] / fig.ratio;\n    var y1 = (fig.canvas.height - msg['y1']) / fig.ratio;\n    x0 = Math.floor(x0) + 0.5;\n    y0 = Math.floor(y0) + 0.5;\n    x1 = Math.floor(x1) + 0.5;\n    y1 = Math.floor(y1) + 0.5;\n    var min_x = Math.min(x0, x1);\n    var min_y = Math.min(y0, y1);\n    var width = Math.abs(x1 - x0);\n    var height = Math.abs(y1 - y0);\n\n    fig.rubberband_context.clearRect(\n        0,\n        0,\n        fig.canvas.width / fig.ratio,\n        fig.canvas.height / fig.ratio\n    );\n\n    fig.rubberband_context.strokeRect(min_x, min_y, width, height);\n};\n\nmpl.figure.prototype.handle_figure_label = function (fig, msg) {\n    // Updates the figure title.\n    fig.header.textContent = msg['label'];\n};\n\nmpl.figure.prototype.handle_cursor = function (fig, msg) {\n    fig.rubberband_canvas.style.cursor = msg['cursor'];\n};\n\nmpl.figure.prototype.handle_message = function (fig, msg) {\n    fig.message.textContent = msg['message'];\n};\n\nmpl.figure.prototype.handle_draw = function (fig, _msg) {\n    // Request the server to send over a new figure.\n    fig.send_draw_message();\n};\n\nmpl.figure.prototype.handle_image_mode = function (fig, msg) {\n    fig.image_mode = msg['mode'];\n};\n\nmpl.figure.prototype.handle_history_buttons = function (fig, msg) {\n    for (var key in msg) {\n        if (!(key in fig.buttons)) {\n            continue;\n        }\n        fig.buttons[key].disabled = !msg[key];\n        fig.buttons[key].setAttribute('aria-disabled', !msg[key]);\n    }\n};\n\nmpl.figure.prototype.handle_navigate_mode = function (fig, msg) {\n    if (msg['mode'] === 'PAN') {\n        fig.buttons['Pan'].classList.add('active');\n        fig.buttons['Zoom'].classList.remove('active');\n    } else if (msg['mode'] === 'ZOOM') {\n        fig.buttons['Pan'].classList.remove('active');\n        fig.buttons['Zoom'].classList.add('active');\n    } else {\n        fig.buttons['Pan'].classList.remove('active');\n        fig.buttons['Zoom'].classList.remove('active');\n    }\n};\n\nmpl.figure.prototype.updated_canvas_event = function () {\n    // Called whenever the canvas gets updated.\n    this.send_message('ack', {});\n};\n\n// A function to construct a web socket function for onmessage handling.\n// Called in the figure constructor.\nmpl.figure.prototype._make_on_message_function = function (fig) {\n    return function socket_on_message(evt) {\n        if (evt.data instanceof Blob) {\n            var img = evt.data;\n            if (img.type !== 'image/png') {\n                /* FIXME: We get \"Resource interpreted as Image but\n                 * transferred with MIME type text/plain:\" errors on\n                 * Chrome.  But how to set the MIME type?  It doesn't seem\n                 * to be part of the websocket stream */\n                img.type = 'image/png';\n            }\n\n            /* Free the memory for the previous frames */\n            if (fig.imageObj.src) {\n                (window.URL || window.webkitURL).revokeObjectURL(\n                    fig.imageObj.src\n                );\n            }\n\n            fig.imageObj.src = (window.URL || window.webkitURL).createObjectURL(\n                img\n            );\n            fig.updated_canvas_event();\n            fig.waiting = false;\n            return;\n        } else if (\n            typeof evt.data === 'string' &&\n            evt.data.slice(0, 21) === 'data:image/png;base64'\n        ) {\n            fig.imageObj.src = evt.data;\n            fig.updated_canvas_event();\n            fig.waiting = false;\n            return;\n        }\n\n        var msg = JSON.parse(evt.data);\n        var msg_type = msg['type'];\n\n        // Call the  \"handle_{type}\" callback, which takes\n        // the figure and JSON message as its only arguments.\n        try {\n            var callback = fig['handle_' + msg_type];\n        } catch (e) {\n            console.log(\n                \"No handler for the '\" + msg_type + \"' message type: \",\n                msg\n            );\n            return;\n        }\n\n        if (callback) {\n            try {\n                // console.log(\"Handling '\" + msg_type + \"' message: \", msg);\n                callback(fig, msg);\n            } catch (e) {\n                console.log(\n                    \"Exception inside the 'handler_\" + msg_type + \"' callback:\",\n                    e,\n                    e.stack,\n                    msg\n                );\n            }\n        }\n    };\n};\n\n// from https://stackoverflow.com/questions/1114465/getting-mouse-location-in-canvas\nmpl.findpos = function (e) {\n    //this section is from http://www.quirksmode.org/js/events_properties.html\n    var targ;\n    if (!e) {\n        e = window.event;\n    }\n    if (e.target) {\n        targ = e.target;\n    } else if (e.srcElement) {\n        targ = e.srcElement;\n    }\n    if (targ.nodeType === 3) {\n        // defeat Safari bug\n        targ = targ.parentNode;\n    }\n\n    // pageX,Y are the mouse positions relative to the document\n    var boundingRect = targ.getBoundingClientRect();\n    var x = e.pageX - (boundingRect.left + document.body.scrollLeft);\n    var y = e.pageY - (boundingRect.top + document.body.scrollTop);\n\n    return { x: x, y: y };\n};\n\n/*\n * return a copy of an object with only non-object keys\n * we need this to avoid circular references\n * https://stackoverflow.com/a/24161582/3208463\n */\nfunction simpleKeys(original) {\n    return Object.keys(original).reduce(function (obj, key) {\n        if (typeof original[key] !== 'object') {\n            obj[key] = original[key];\n        }\n        return obj;\n    }, {});\n}\n\nmpl.figure.prototype.mouse_event = function (event, name) {\n    var canvas_pos = mpl.findpos(event);\n\n    if (name === 'button_press') {\n        this.canvas.focus();\n        this.canvas_div.focus();\n    }\n\n    var x = canvas_pos.x * this.ratio;\n    var y = canvas_pos.y * this.ratio;\n\n    this.send_message(name, {\n        x: x,\n        y: y,\n        button: event.button,\n        step: event.step,\n        guiEvent: simpleKeys(event),\n    });\n\n    /* This prevents the web browser from automatically changing to\n     * the text insertion cursor when the button is pressed.  We want\n     * to control all of the cursor setting manually through the\n     * 'cursor' event from matplotlib */\n    event.preventDefault();\n    return false;\n};\n\nmpl.figure.prototype._key_event_extra = function (_event, _name) {\n    // Handle any extra behaviour associated with a key event\n};\n\nmpl.figure.prototype.key_event = function (event, name) {\n    // Prevent repeat events\n    if (name === 'key_press') {\n        if (event.key === this._key) {\n            return;\n        } else {\n            this._key = event.key;\n        }\n    }\n    if (name === 'key_release') {\n        this._key = null;\n    }\n\n    var value = '';\n    if (event.ctrlKey && event.key !== 'Control') {\n        value += 'ctrl+';\n    }\n    else if (event.altKey && event.key !== 'Alt') {\n        value += 'alt+';\n    }\n    else if (event.shiftKey && event.key !== 'Shift') {\n        value += 'shift+';\n    }\n\n    value += 'k' + event.key;\n\n    this._key_event_extra(event, name);\n\n    this.send_message(name, { key: value, guiEvent: simpleKeys(event) });\n    return false;\n};\n\nmpl.figure.prototype.toolbar_button_onclick = function (name) {\n    if (name === 'download') {\n        this.handle_save(this, null);\n    } else {\n        this.send_message('toolbar_button', { name: name });\n    }\n};\n\nmpl.figure.prototype.toolbar_button_onmouseover = function (tooltip) {\n    this.message.textContent = tooltip;\n};\n\n///////////////// REMAINING CONTENT GENERATED BY embed_js.py /////////////////\n// prettier-ignore\nvar _JSXTOOLS_RESIZE_OBSERVER=function(A){var t,i=new WeakMap,n=new WeakMap,a=new WeakMap,r=new WeakMap,o=new Set;function s(e){if(!(this instanceof s))throw new TypeError(\"Constructor requires 'new' operator\");i.set(this,e)}function h(){throw new TypeError(\"Function is not a constructor\")}function c(e,t,i,n){e=0 in arguments?Number(arguments[0]):0,t=1 in arguments?Number(arguments[1]):0,i=2 in arguments?Number(arguments[2]):0,n=3 in arguments?Number(arguments[3]):0,this.right=(this.x=this.left=e)+(this.width=i),this.bottom=(this.y=this.top=t)+(this.height=n),Object.freeze(this)}function d(){t=requestAnimationFrame(d);var s=new WeakMap,p=new Set;o.forEach((function(t){r.get(t).forEach((function(i){var r=t instanceof window.SVGElement,o=a.get(t),d=r?0:parseFloat(o.paddingTop),f=r?0:parseFloat(o.paddingRight),l=r?0:parseFloat(o.paddingBottom),u=r?0:parseFloat(o.paddingLeft),g=r?0:parseFloat(o.borderTopWidth),m=r?0:parseFloat(o.borderRightWidth),w=r?0:parseFloat(o.borderBottomWidth),b=u+f,F=d+l,v=(r?0:parseFloat(o.borderLeftWidth))+m,W=g+w,y=r?0:t.offsetHeight-W-t.clientHeight,E=r?0:t.offsetWidth-v-t.clientWidth,R=b+v,z=F+W,M=r?t.width:parseFloat(o.width)-R-E,O=r?t.height:parseFloat(o.height)-z-y;if(n.has(t)){var k=n.get(t);if(k[0]===M&&k[1]===O)return}n.set(t,[M,O]);var S=Object.create(h.prototype);S.target=t,S.contentRect=new c(u,d,M,O),s.has(i)||(s.set(i,[]),p.add(i)),s.get(i).push(S)}))})),p.forEach((function(e){i.get(e).call(e,s.get(e),e)}))}return s.prototype.observe=function(i){if(i instanceof window.Element){r.has(i)||(r.set(i,new Set),o.add(i),a.set(i,window.getComputedStyle(i)));var n=r.get(i);n.has(this)||n.add(this),cancelAnimationFrame(t),t=requestAnimationFrame(d)}},s.prototype.unobserve=function(i){if(i instanceof window.Element&&r.has(i)){var n=r.get(i);n.has(this)&&(n.delete(this),n.size||(r.delete(i),o.delete(i))),n.size||r.delete(i),o.size||cancelAnimationFrame(t)}},A.DOMRectReadOnly=c,A.ResizeObserver=s,A.ResizeObserverEntry=h,A}; // eslint-disable-line\nmpl.toolbar_items = [[\"Home\", \"Reset original view\", \"fa fa-home icon-home\", \"home\"], [\"Back\", \"Back to previous view\", \"fa fa-arrow-left icon-arrow-left\", \"back\"], [\"Forward\", \"Forward to next view\", \"fa fa-arrow-right icon-arrow-right\", \"forward\"], [\"\", \"\", \"\", \"\"], [\"Pan\", \"Left button pans, Right button zooms\\nx/y fixes axis, CTRL fixes aspect\", \"fa fa-arrows icon-move\", \"pan\"], [\"Zoom\", \"Zoom to rectangle\\nx/y fixes axis\", \"fa fa-square-o icon-check-empty\", \"zoom\"], [\"\", \"\", \"\", \"\"], [\"Download\", \"Download plot\", \"fa fa-floppy-o icon-save\", \"download\"]];\n\nmpl.extensions = [\"eps\", \"jpeg\", \"pgf\", \"pdf\", \"png\", \"ps\", \"raw\", \"svg\", \"tif\"];\n\nmpl.default_extension = \"png\";/* global mpl */\n\nvar comm_websocket_adapter = function (comm) {\n    // Create a \"websocket\"-like object which calls the given IPython comm\n    // object with the appropriate methods. Currently this is a non binary\n    // socket, so there is still some room for performance tuning.\n    var ws = {};\n\n    ws.binaryType = comm.kernel.ws.binaryType;\n    ws.readyState = comm.kernel.ws.readyState;\n    function updateReadyState(_event) {\n        if (comm.kernel.ws) {\n            ws.readyState = comm.kernel.ws.readyState;\n        } else {\n            ws.readyState = 3; // Closed state.\n        }\n    }\n    comm.kernel.ws.addEventListener('open', updateReadyState);\n    comm.kernel.ws.addEventListener('close', updateReadyState);\n    comm.kernel.ws.addEventListener('error', updateReadyState);\n\n    ws.close = function () {\n        comm.close();\n    };\n    ws.send = function (m) {\n        //console.log('sending', m);\n        comm.send(m);\n    };\n    // Register the callback with on_msg.\n    comm.on_msg(function (msg) {\n        //console.log('receiving', msg['content']['data'], msg);\n        var data = msg['content']['data'];\n        if (data['blob'] !== undefined) {\n            data = {\n                data: new Blob(msg['buffers'], { type: data['blob'] }),\n            };\n        }\n        // Pass the mpl event to the overridden (by mpl) onmessage function.\n        ws.onmessage(data);\n    });\n    return ws;\n};\n\nmpl.mpl_figure_comm = function (comm, msg) {\n    // This is the function which gets called when the mpl process\n    // starts-up an IPython Comm through the \"matplotlib\" channel.\n\n    var id = msg.content.data.id;\n    // Get hold of the div created by the display call when the Comm\n    // socket was opened in Python.\n    var element = document.getElementById(id);\n    var ws_proxy = comm_websocket_adapter(comm);\n\n    function ondownload(figure, _format) {\n        window.open(figure.canvas.toDataURL());\n    }\n\n    var fig = new mpl.figure(id, ws_proxy, ondownload, element);\n\n    // Call onopen now - mpl needs it, as it is assuming we've passed it a real\n    // web socket which is closed, not our websocket->open comm proxy.\n    ws_proxy.onopen();\n\n    fig.parent_element = element;\n    fig.cell_info = mpl.find_output_cell(\"<div id='\" + id + \"'></div>\");\n    if (!fig.cell_info) {\n        console.error('Failed to find cell for figure', id, fig);\n        return;\n    }\n    fig.cell_info[0].output_area.element.on(\n        'cleared',\n        { fig: fig },\n        fig._remove_fig_handler\n    );\n};\n\nmpl.figure.prototype.handle_close = function (fig, msg) {\n    var width = fig.canvas.width / fig.ratio;\n    fig.cell_info[0].output_area.element.off(\n        'cleared',\n        fig._remove_fig_handler\n    );\n    fig.resizeObserverInstance.unobserve(fig.canvas_div);\n\n    // Update the output cell to use the data from the current canvas.\n    fig.push_to_output();\n    var dataURL = fig.canvas.toDataURL();\n    // Re-enable the keyboard manager in IPython - without this line, in FF,\n    // the notebook keyboard shortcuts fail.\n    IPython.keyboard_manager.enable();\n    fig.parent_element.innerHTML =\n        '<img src=\"' + dataURL + '\" width=\"' + width + '\">';\n    fig.close_ws(fig, msg);\n};\n\nmpl.figure.prototype.close_ws = function (fig, msg) {\n    fig.send_message('closing', msg);\n    // fig.ws.close()\n};\n\nmpl.figure.prototype.push_to_output = function (_remove_interactive) {\n    // Turn the data on the canvas into data in the output cell.\n    var width = this.canvas.width / this.ratio;\n    var dataURL = this.canvas.toDataURL();\n    this.cell_info[1]['text/html'] =\n        '<img src=\"' + dataURL + '\" width=\"' + width + '\">';\n};\n\nmpl.figure.prototype.updated_canvas_event = function () {\n    // Tell IPython that the notebook contents must change.\n    IPython.notebook.set_dirty(true);\n    this.send_message('ack', {});\n    var fig = this;\n    // Wait a second, then push the new image to the DOM so\n    // that it is saved nicely (might be nice to debounce this).\n    setTimeout(function () {\n        fig.push_to_output();\n    }, 1000);\n};\n\nmpl.figure.prototype._init_toolbar = function () {\n    var fig = this;\n\n    var toolbar = document.createElement('div');\n    toolbar.classList = 'btn-toolbar';\n    this.root.appendChild(toolbar);\n\n    function on_click_closure(name) {\n        return function (_event) {\n            return fig.toolbar_button_onclick(name);\n        };\n    }\n\n    function on_mouseover_closure(tooltip) {\n        return function (event) {\n            if (!event.currentTarget.disabled) {\n                return fig.toolbar_button_onmouseover(tooltip);\n            }\n        };\n    }\n\n    fig.buttons = {};\n    var buttonGroup = document.createElement('div');\n    buttonGroup.classList = 'btn-group';\n    var button;\n    for (var toolbar_ind in mpl.toolbar_items) {\n        var name = mpl.toolbar_items[toolbar_ind][0];\n        var tooltip = mpl.toolbar_items[toolbar_ind][1];\n        var image = mpl.toolbar_items[toolbar_ind][2];\n        var method_name = mpl.toolbar_items[toolbar_ind][3];\n\n        if (!name) {\n            /* Instead of a spacer, we start a new button group. */\n            if (buttonGroup.hasChildNodes()) {\n                toolbar.appendChild(buttonGroup);\n            }\n            buttonGroup = document.createElement('div');\n            buttonGroup.classList = 'btn-group';\n            continue;\n        }\n\n        button = fig.buttons[name] = document.createElement('button');\n        button.classList = 'btn btn-default';\n        button.href = '#';\n        button.title = name;\n        button.innerHTML = '<i class=\"fa ' + image + ' fa-lg\"></i>';\n        button.addEventListener('click', on_click_closure(method_name));\n        button.addEventListener('mouseover', on_mouseover_closure(tooltip));\n        buttonGroup.appendChild(button);\n    }\n\n    if (buttonGroup.hasChildNodes()) {\n        toolbar.appendChild(buttonGroup);\n    }\n\n    // Add the status bar.\n    var status_bar = document.createElement('span');\n    status_bar.classList = 'mpl-message pull-right';\n    toolbar.appendChild(status_bar);\n    this.message = status_bar;\n\n    // Add the close button to the window.\n    var buttongrp = document.createElement('div');\n    buttongrp.classList = 'btn-group inline pull-right';\n    button = document.createElement('button');\n    button.classList = 'btn btn-mini btn-primary';\n    button.href = '#';\n    button.title = 'Stop Interaction';\n    button.innerHTML = '<i class=\"fa fa-power-off icon-remove icon-large\"></i>';\n    button.addEventListener('click', function (_evt) {\n        fig.handle_close(fig, {});\n    });\n    button.addEventListener(\n        'mouseover',\n        on_mouseover_closure('Stop Interaction')\n    );\n    buttongrp.appendChild(button);\n    var titlebar = this.root.querySelector('.ui-dialog-titlebar');\n    titlebar.insertBefore(buttongrp, titlebar.firstChild);\n};\n\nmpl.figure.prototype._remove_fig_handler = function (event) {\n    var fig = event.data.fig;\n    if (event.target !== this) {\n        // Ignore bubbled events from children.\n        return;\n    }\n    fig.close_ws(fig, {});\n};\n\nmpl.figure.prototype._root_extra_style = function (el) {\n    el.style.boxSizing = 'content-box'; // override notebook setting of border-box.\n};\n\nmpl.figure.prototype._canvas_extra_style = function (el) {\n    // this is important to make the div 'focusable\n    el.setAttribute('tabindex', 0);\n    // reach out to IPython and tell the keyboard manager to turn it's self\n    // off when our div gets focus\n\n    // location in version 3\n    if (IPython.notebook.keyboard_manager) {\n        IPython.notebook.keyboard_manager.register_events(el);\n    } else {\n        // location in version 2\n        IPython.keyboard_manager.register_events(el);\n    }\n};\n\nmpl.figure.prototype._key_event_extra = function (event, _name) {\n    // Check for shift+enter\n    if (event.shiftKey && event.which === 13) {\n        this.canvas_div.blur();\n        // select the cell after this one\n        var index = IPython.notebook.find_cell_index(this.cell_info[0]);\n        IPython.notebook.select(index + 1);\n    }\n};\n\nmpl.figure.prototype.handle_save = function (fig, _msg) {\n    fig.ondownload(fig, null);\n};\n\nmpl.find_output_cell = function (html_output) {\n    // Return the cell and output element which can be found *uniquely* in the notebook.\n    // Note - this is a bit hacky, but it is done because the \"notebook_saving.Notebook\"\n    // IPython event is triggered only after the cells have been serialised, which for\n    // our purposes (turning an active figure into a static one), is too late.\n    var cells = IPython.notebook.get_cells();\n    var ncells = cells.length;\n    for (var i = 0; i < ncells; i++) {\n        var cell = cells[i];\n        if (cell.cell_type === 'code') {\n            for (var j = 0; j < cell.output_area.outputs.length; j++) {\n                var data = cell.output_area.outputs[j];\n                if (data.data) {\n                    // IPython >= 3 moved mimebundle to data attribute of output\n                    data = data.data;\n                }\n                if (data['text/html'] === html_output) {\n                    return [cell, data, j];\n                }\n            }\n        }\n    }\n};\n\n// Register the function which deals with the matplotlib target/channel.\n// The kernel may be null if the page has been refreshed.\nif (IPython.notebook.kernel !== null) {\n    IPython.notebook.kernel.comm_manager.register_target(\n        'matplotlib',\n        mpl.mpl_figure_comm\n    );\n}\n",
      "text/plain": [
       "<IPython.core.display.Javascript object>"
      ]
     },
     "metadata": {},
     "output_type": "display_data"
    },
    {
     "data": {
      "text/html": [
       "<div id='bf40c61a-4329-45b4-9f72-26816802caca'></div>"
      ],
      "text/plain": [
       "<IPython.core.display.HTML object>"
      ]
     },
     "metadata": {},
     "output_type": "display_data"
    },
    {
     "name": "stdout",
     "output_type": "stream",
     "text": [
      "ratio : 0.9942\n"
     ]
    }
   ],
   "source": [
    "\n",
    "Q_agent=Q_leaning(0.15,0.99,0.25,7500,True)\n",
    "opt_agent = optimal_agent()\n",
    "nim = Nim(5)\n",
    "train_v1(nim,Q_agent,opt_agent,10_000)\n",
    "\n",
    "Q_agent.train = False\n",
    "nim = Nim(5)\n",
    "ratio_test = Play(nim,Q_agent , opt_agent, 10_000)\n",
    "\n",
    "print(f\"ratio : {ratio_test}\")"
   ]
  },
  {
   "cell_type": "code",
   "execution_count": 48,
   "metadata": {},
   "outputs": [
    {
     "data": {
      "application/javascript": "/* Put everything inside the global mpl namespace */\n/* global mpl */\nwindow.mpl = {};\n\nmpl.get_websocket_type = function () {\n    if (typeof WebSocket !== 'undefined') {\n        return WebSocket;\n    } else if (typeof MozWebSocket !== 'undefined') {\n        return MozWebSocket;\n    } else {\n        alert(\n            'Your browser does not have WebSocket support. ' +\n                'Please try Chrome, Safari or Firefox ≥ 6. ' +\n                'Firefox 4 and 5 are also supported but you ' +\n                'have to enable WebSockets in about:config.'\n        );\n    }\n};\n\nmpl.figure = function (figure_id, websocket, ondownload, parent_element) {\n    this.id = figure_id;\n\n    this.ws = websocket;\n\n    this.supports_binary = this.ws.binaryType !== undefined;\n\n    if (!this.supports_binary) {\n        var warnings = document.getElementById('mpl-warnings');\n        if (warnings) {\n            warnings.style.display = 'block';\n            warnings.textContent =\n                'This browser does not support binary websocket messages. ' +\n                'Performance may be slow.';\n        }\n    }\n\n    this.imageObj = new Image();\n\n    this.context = undefined;\n    this.message = undefined;\n    this.canvas = undefined;\n    this.rubberband_canvas = undefined;\n    this.rubberband_context = undefined;\n    this.format_dropdown = undefined;\n\n    this.image_mode = 'full';\n\n    this.root = document.createElement('div');\n    this.root.setAttribute('style', 'display: inline-block');\n    this._root_extra_style(this.root);\n\n    parent_element.appendChild(this.root);\n\n    this._init_header(this);\n    this._init_canvas(this);\n    this._init_toolbar(this);\n\n    var fig = this;\n\n    this.waiting = false;\n\n    this.ws.onopen = function () {\n        fig.send_message('supports_binary', { value: fig.supports_binary });\n        fig.send_message('send_image_mode', {});\n        if (fig.ratio !== 1) {\n            fig.send_message('set_device_pixel_ratio', {\n                device_pixel_ratio: fig.ratio,\n            });\n        }\n        fig.send_message('refresh', {});\n    };\n\n    this.imageObj.onload = function () {\n        if (fig.image_mode === 'full') {\n            // Full images could contain transparency (where diff images\n            // almost always do), so we need to clear the canvas so that\n            // there is no ghosting.\n            fig.context.clearRect(0, 0, fig.canvas.width, fig.canvas.height);\n        }\n        fig.context.drawImage(fig.imageObj, 0, 0);\n    };\n\n    this.imageObj.onunload = function () {\n        fig.ws.close();\n    };\n\n    this.ws.onmessage = this._make_on_message_function(this);\n\n    this.ondownload = ondownload;\n};\n\nmpl.figure.prototype._init_header = function () {\n    var titlebar = document.createElement('div');\n    titlebar.classList =\n        'ui-dialog-titlebar ui-widget-header ui-corner-all ui-helper-clearfix';\n    var titletext = document.createElement('div');\n    titletext.classList = 'ui-dialog-title';\n    titletext.setAttribute(\n        'style',\n        'width: 100%; text-align: center; padding: 3px;'\n    );\n    titlebar.appendChild(titletext);\n    this.root.appendChild(titlebar);\n    this.header = titletext;\n};\n\nmpl.figure.prototype._canvas_extra_style = function (_canvas_div) {};\n\nmpl.figure.prototype._root_extra_style = function (_canvas_div) {};\n\nmpl.figure.prototype._init_canvas = function () {\n    var fig = this;\n\n    var canvas_div = (this.canvas_div = document.createElement('div'));\n    canvas_div.setAttribute(\n        'style',\n        'border: 1px solid #ddd;' +\n            'box-sizing: content-box;' +\n            'clear: both;' +\n            'min-height: 1px;' +\n            'min-width: 1px;' +\n            'outline: 0;' +\n            'overflow: hidden;' +\n            'position: relative;' +\n            'resize: both;'\n    );\n\n    function on_keyboard_event_closure(name) {\n        return function (event) {\n            return fig.key_event(event, name);\n        };\n    }\n\n    canvas_div.addEventListener(\n        'keydown',\n        on_keyboard_event_closure('key_press')\n    );\n    canvas_div.addEventListener(\n        'keyup',\n        on_keyboard_event_closure('key_release')\n    );\n\n    this._canvas_extra_style(canvas_div);\n    this.root.appendChild(canvas_div);\n\n    var canvas = (this.canvas = document.createElement('canvas'));\n    canvas.classList.add('mpl-canvas');\n    canvas.setAttribute('style', 'box-sizing: content-box;');\n\n    this.context = canvas.getContext('2d');\n\n    var backingStore =\n        this.context.backingStorePixelRatio ||\n        this.context.webkitBackingStorePixelRatio ||\n        this.context.mozBackingStorePixelRatio ||\n        this.context.msBackingStorePixelRatio ||\n        this.context.oBackingStorePixelRatio ||\n        this.context.backingStorePixelRatio ||\n        1;\n\n    this.ratio = (window.devicePixelRatio || 1) / backingStore;\n\n    var rubberband_canvas = (this.rubberband_canvas = document.createElement(\n        'canvas'\n    ));\n    rubberband_canvas.setAttribute(\n        'style',\n        'box-sizing: content-box; position: absolute; left: 0; top: 0; z-index: 1;'\n    );\n\n    // Apply a ponyfill if ResizeObserver is not implemented by browser.\n    if (this.ResizeObserver === undefined) {\n        if (window.ResizeObserver !== undefined) {\n            this.ResizeObserver = window.ResizeObserver;\n        } else {\n            var obs = _JSXTOOLS_RESIZE_OBSERVER({});\n            this.ResizeObserver = obs.ResizeObserver;\n        }\n    }\n\n    this.resizeObserverInstance = new this.ResizeObserver(function (entries) {\n        var nentries = entries.length;\n        for (var i = 0; i < nentries; i++) {\n            var entry = entries[i];\n            var width, height;\n            if (entry.contentBoxSize) {\n                if (entry.contentBoxSize instanceof Array) {\n                    // Chrome 84 implements new version of spec.\n                    width = entry.contentBoxSize[0].inlineSize;\n                    height = entry.contentBoxSize[0].blockSize;\n                } else {\n                    // Firefox implements old version of spec.\n                    width = entry.contentBoxSize.inlineSize;\n                    height = entry.contentBoxSize.blockSize;\n                }\n            } else {\n                // Chrome <84 implements even older version of spec.\n                width = entry.contentRect.width;\n                height = entry.contentRect.height;\n            }\n\n            // Keep the size of the canvas and rubber band canvas in sync with\n            // the canvas container.\n            if (entry.devicePixelContentBoxSize) {\n                // Chrome 84 implements new version of spec.\n                canvas.setAttribute(\n                    'width',\n                    entry.devicePixelContentBoxSize[0].inlineSize\n                );\n                canvas.setAttribute(\n                    'height',\n                    entry.devicePixelContentBoxSize[0].blockSize\n                );\n            } else {\n                canvas.setAttribute('width', width * fig.ratio);\n                canvas.setAttribute('height', height * fig.ratio);\n            }\n            canvas.setAttribute(\n                'style',\n                'width: ' + width + 'px; height: ' + height + 'px;'\n            );\n\n            rubberband_canvas.setAttribute('width', width);\n            rubberband_canvas.setAttribute('height', height);\n\n            // And update the size in Python. We ignore the initial 0/0 size\n            // that occurs as the element is placed into the DOM, which should\n            // otherwise not happen due to the minimum size styling.\n            if (fig.ws.readyState == 1 && width != 0 && height != 0) {\n                fig.request_resize(width, height);\n            }\n        }\n    });\n    this.resizeObserverInstance.observe(canvas_div);\n\n    function on_mouse_event_closure(name) {\n        return function (event) {\n            return fig.mouse_event(event, name);\n        };\n    }\n\n    rubberband_canvas.addEventListener(\n        'mousedown',\n        on_mouse_event_closure('button_press')\n    );\n    rubberband_canvas.addEventListener(\n        'mouseup',\n        on_mouse_event_closure('button_release')\n    );\n    rubberband_canvas.addEventListener(\n        'dblclick',\n        on_mouse_event_closure('dblclick')\n    );\n    // Throttle sequential mouse events to 1 every 20ms.\n    rubberband_canvas.addEventListener(\n        'mousemove',\n        on_mouse_event_closure('motion_notify')\n    );\n\n    rubberband_canvas.addEventListener(\n        'mouseenter',\n        on_mouse_event_closure('figure_enter')\n    );\n    rubberband_canvas.addEventListener(\n        'mouseleave',\n        on_mouse_event_closure('figure_leave')\n    );\n\n    canvas_div.addEventListener('wheel', function (event) {\n        if (event.deltaY < 0) {\n            event.step = 1;\n        } else {\n            event.step = -1;\n        }\n        on_mouse_event_closure('scroll')(event);\n    });\n\n    canvas_div.appendChild(canvas);\n    canvas_div.appendChild(rubberband_canvas);\n\n    this.rubberband_context = rubberband_canvas.getContext('2d');\n    this.rubberband_context.strokeStyle = '#000000';\n\n    this._resize_canvas = function (width, height, forward) {\n        if (forward) {\n            canvas_div.style.width = width + 'px';\n            canvas_div.style.height = height + 'px';\n        }\n    };\n\n    // Disable right mouse context menu.\n    this.rubberband_canvas.addEventListener('contextmenu', function (_e) {\n        event.preventDefault();\n        return false;\n    });\n\n    function set_focus() {\n        canvas.focus();\n        canvas_div.focus();\n    }\n\n    window.setTimeout(set_focus, 100);\n};\n\nmpl.figure.prototype._init_toolbar = function () {\n    var fig = this;\n\n    var toolbar = document.createElement('div');\n    toolbar.classList = 'mpl-toolbar';\n    this.root.appendChild(toolbar);\n\n    function on_click_closure(name) {\n        return function (_event) {\n            return fig.toolbar_button_onclick(name);\n        };\n    }\n\n    function on_mouseover_closure(tooltip) {\n        return function (event) {\n            if (!event.currentTarget.disabled) {\n                return fig.toolbar_button_onmouseover(tooltip);\n            }\n        };\n    }\n\n    fig.buttons = {};\n    var buttonGroup = document.createElement('div');\n    buttonGroup.classList = 'mpl-button-group';\n    for (var toolbar_ind in mpl.toolbar_items) {\n        var name = mpl.toolbar_items[toolbar_ind][0];\n        var tooltip = mpl.toolbar_items[toolbar_ind][1];\n        var image = mpl.toolbar_items[toolbar_ind][2];\n        var method_name = mpl.toolbar_items[toolbar_ind][3];\n\n        if (!name) {\n            /* Instead of a spacer, we start a new button group. */\n            if (buttonGroup.hasChildNodes()) {\n                toolbar.appendChild(buttonGroup);\n            }\n            buttonGroup = document.createElement('div');\n            buttonGroup.classList = 'mpl-button-group';\n            continue;\n        }\n\n        var button = (fig.buttons[name] = document.createElement('button'));\n        button.classList = 'mpl-widget';\n        button.setAttribute('role', 'button');\n        button.setAttribute('aria-disabled', 'false');\n        button.addEventListener('click', on_click_closure(method_name));\n        button.addEventListener('mouseover', on_mouseover_closure(tooltip));\n\n        var icon_img = document.createElement('img');\n        icon_img.src = '_images/' + image + '.png';\n        icon_img.srcset = '_images/' + image + '_large.png 2x';\n        icon_img.alt = tooltip;\n        button.appendChild(icon_img);\n\n        buttonGroup.appendChild(button);\n    }\n\n    if (buttonGroup.hasChildNodes()) {\n        toolbar.appendChild(buttonGroup);\n    }\n\n    var fmt_picker = document.createElement('select');\n    fmt_picker.classList = 'mpl-widget';\n    toolbar.appendChild(fmt_picker);\n    this.format_dropdown = fmt_picker;\n\n    for (var ind in mpl.extensions) {\n        var fmt = mpl.extensions[ind];\n        var option = document.createElement('option');\n        option.selected = fmt === mpl.default_extension;\n        option.innerHTML = fmt;\n        fmt_picker.appendChild(option);\n    }\n\n    var status_bar = document.createElement('span');\n    status_bar.classList = 'mpl-message';\n    toolbar.appendChild(status_bar);\n    this.message = status_bar;\n};\n\nmpl.figure.prototype.request_resize = function (x_pixels, y_pixels) {\n    // Request matplotlib to resize the figure. Matplotlib will then trigger a resize in the client,\n    // which will in turn request a refresh of the image.\n    this.send_message('resize', { width: x_pixels, height: y_pixels });\n};\n\nmpl.figure.prototype.send_message = function (type, properties) {\n    properties['type'] = type;\n    properties['figure_id'] = this.id;\n    this.ws.send(JSON.stringify(properties));\n};\n\nmpl.figure.prototype.send_draw_message = function () {\n    if (!this.waiting) {\n        this.waiting = true;\n        this.ws.send(JSON.stringify({ type: 'draw', figure_id: this.id }));\n    }\n};\n\nmpl.figure.prototype.handle_save = function (fig, _msg) {\n    var format_dropdown = fig.format_dropdown;\n    var format = format_dropdown.options[format_dropdown.selectedIndex].value;\n    fig.ondownload(fig, format);\n};\n\nmpl.figure.prototype.handle_resize = function (fig, msg) {\n    var size = msg['size'];\n    if (size[0] !== fig.canvas.width || size[1] !== fig.canvas.height) {\n        fig._resize_canvas(size[0], size[1], msg['forward']);\n        fig.send_message('refresh', {});\n    }\n};\n\nmpl.figure.prototype.handle_rubberband = function (fig, msg) {\n    var x0 = msg['x0'] / fig.ratio;\n    var y0 = (fig.canvas.height - msg['y0']) / fig.ratio;\n    var x1 = msg['x1'] / fig.ratio;\n    var y1 = (fig.canvas.height - msg['y1']) / fig.ratio;\n    x0 = Math.floor(x0) + 0.5;\n    y0 = Math.floor(y0) + 0.5;\n    x1 = Math.floor(x1) + 0.5;\n    y1 = Math.floor(y1) + 0.5;\n    var min_x = Math.min(x0, x1);\n    var min_y = Math.min(y0, y1);\n    var width = Math.abs(x1 - x0);\n    var height = Math.abs(y1 - y0);\n\n    fig.rubberband_context.clearRect(\n        0,\n        0,\n        fig.canvas.width / fig.ratio,\n        fig.canvas.height / fig.ratio\n    );\n\n    fig.rubberband_context.strokeRect(min_x, min_y, width, height);\n};\n\nmpl.figure.prototype.handle_figure_label = function (fig, msg) {\n    // Updates the figure title.\n    fig.header.textContent = msg['label'];\n};\n\nmpl.figure.prototype.handle_cursor = function (fig, msg) {\n    fig.rubberband_canvas.style.cursor = msg['cursor'];\n};\n\nmpl.figure.prototype.handle_message = function (fig, msg) {\n    fig.message.textContent = msg['message'];\n};\n\nmpl.figure.prototype.handle_draw = function (fig, _msg) {\n    // Request the server to send over a new figure.\n    fig.send_draw_message();\n};\n\nmpl.figure.prototype.handle_image_mode = function (fig, msg) {\n    fig.image_mode = msg['mode'];\n};\n\nmpl.figure.prototype.handle_history_buttons = function (fig, msg) {\n    for (var key in msg) {\n        if (!(key in fig.buttons)) {\n            continue;\n        }\n        fig.buttons[key].disabled = !msg[key];\n        fig.buttons[key].setAttribute('aria-disabled', !msg[key]);\n    }\n};\n\nmpl.figure.prototype.handle_navigate_mode = function (fig, msg) {\n    if (msg['mode'] === 'PAN') {\n        fig.buttons['Pan'].classList.add('active');\n        fig.buttons['Zoom'].classList.remove('active');\n    } else if (msg['mode'] === 'ZOOM') {\n        fig.buttons['Pan'].classList.remove('active');\n        fig.buttons['Zoom'].classList.add('active');\n    } else {\n        fig.buttons['Pan'].classList.remove('active');\n        fig.buttons['Zoom'].classList.remove('active');\n    }\n};\n\nmpl.figure.prototype.updated_canvas_event = function () {\n    // Called whenever the canvas gets updated.\n    this.send_message('ack', {});\n};\n\n// A function to construct a web socket function for onmessage handling.\n// Called in the figure constructor.\nmpl.figure.prototype._make_on_message_function = function (fig) {\n    return function socket_on_message(evt) {\n        if (evt.data instanceof Blob) {\n            var img = evt.data;\n            if (img.type !== 'image/png') {\n                /* FIXME: We get \"Resource interpreted as Image but\n                 * transferred with MIME type text/plain:\" errors on\n                 * Chrome.  But how to set the MIME type?  It doesn't seem\n                 * to be part of the websocket stream */\n                img.type = 'image/png';\n            }\n\n            /* Free the memory for the previous frames */\n            if (fig.imageObj.src) {\n                (window.URL || window.webkitURL).revokeObjectURL(\n                    fig.imageObj.src\n                );\n            }\n\n            fig.imageObj.src = (window.URL || window.webkitURL).createObjectURL(\n                img\n            );\n            fig.updated_canvas_event();\n            fig.waiting = false;\n            return;\n        } else if (\n            typeof evt.data === 'string' &&\n            evt.data.slice(0, 21) === 'data:image/png;base64'\n        ) {\n            fig.imageObj.src = evt.data;\n            fig.updated_canvas_event();\n            fig.waiting = false;\n            return;\n        }\n\n        var msg = JSON.parse(evt.data);\n        var msg_type = msg['type'];\n\n        // Call the  \"handle_{type}\" callback, which takes\n        // the figure and JSON message as its only arguments.\n        try {\n            var callback = fig['handle_' + msg_type];\n        } catch (e) {\n            console.log(\n                \"No handler for the '\" + msg_type + \"' message type: \",\n                msg\n            );\n            return;\n        }\n\n        if (callback) {\n            try {\n                // console.log(\"Handling '\" + msg_type + \"' message: \", msg);\n                callback(fig, msg);\n            } catch (e) {\n                console.log(\n                    \"Exception inside the 'handler_\" + msg_type + \"' callback:\",\n                    e,\n                    e.stack,\n                    msg\n                );\n            }\n        }\n    };\n};\n\n// from https://stackoverflow.com/questions/1114465/getting-mouse-location-in-canvas\nmpl.findpos = function (e) {\n    //this section is from http://www.quirksmode.org/js/events_properties.html\n    var targ;\n    if (!e) {\n        e = window.event;\n    }\n    if (e.target) {\n        targ = e.target;\n    } else if (e.srcElement) {\n        targ = e.srcElement;\n    }\n    if (targ.nodeType === 3) {\n        // defeat Safari bug\n        targ = targ.parentNode;\n    }\n\n    // pageX,Y are the mouse positions relative to the document\n    var boundingRect = targ.getBoundingClientRect();\n    var x = e.pageX - (boundingRect.left + document.body.scrollLeft);\n    var y = e.pageY - (boundingRect.top + document.body.scrollTop);\n\n    return { x: x, y: y };\n};\n\n/*\n * return a copy of an object with only non-object keys\n * we need this to avoid circular references\n * https://stackoverflow.com/a/24161582/3208463\n */\nfunction simpleKeys(original) {\n    return Object.keys(original).reduce(function (obj, key) {\n        if (typeof original[key] !== 'object') {\n            obj[key] = original[key];\n        }\n        return obj;\n    }, {});\n}\n\nmpl.figure.prototype.mouse_event = function (event, name) {\n    var canvas_pos = mpl.findpos(event);\n\n    if (name === 'button_press') {\n        this.canvas.focus();\n        this.canvas_div.focus();\n    }\n\n    var x = canvas_pos.x * this.ratio;\n    var y = canvas_pos.y * this.ratio;\n\n    this.send_message(name, {\n        x: x,\n        y: y,\n        button: event.button,\n        step: event.step,\n        guiEvent: simpleKeys(event),\n    });\n\n    /* This prevents the web browser from automatically changing to\n     * the text insertion cursor when the button is pressed.  We want\n     * to control all of the cursor setting manually through the\n     * 'cursor' event from matplotlib */\n    event.preventDefault();\n    return false;\n};\n\nmpl.figure.prototype._key_event_extra = function (_event, _name) {\n    // Handle any extra behaviour associated with a key event\n};\n\nmpl.figure.prototype.key_event = function (event, name) {\n    // Prevent repeat events\n    if (name === 'key_press') {\n        if (event.key === this._key) {\n            return;\n        } else {\n            this._key = event.key;\n        }\n    }\n    if (name === 'key_release') {\n        this._key = null;\n    }\n\n    var value = '';\n    if (event.ctrlKey && event.key !== 'Control') {\n        value += 'ctrl+';\n    }\n    else if (event.altKey && event.key !== 'Alt') {\n        value += 'alt+';\n    }\n    else if (event.shiftKey && event.key !== 'Shift') {\n        value += 'shift+';\n    }\n\n    value += 'k' + event.key;\n\n    this._key_event_extra(event, name);\n\n    this.send_message(name, { key: value, guiEvent: simpleKeys(event) });\n    return false;\n};\n\nmpl.figure.prototype.toolbar_button_onclick = function (name) {\n    if (name === 'download') {\n        this.handle_save(this, null);\n    } else {\n        this.send_message('toolbar_button', { name: name });\n    }\n};\n\nmpl.figure.prototype.toolbar_button_onmouseover = function (tooltip) {\n    this.message.textContent = tooltip;\n};\n\n///////////////// REMAINING CONTENT GENERATED BY embed_js.py /////////////////\n// prettier-ignore\nvar _JSXTOOLS_RESIZE_OBSERVER=function(A){var t,i=new WeakMap,n=new WeakMap,a=new WeakMap,r=new WeakMap,o=new Set;function s(e){if(!(this instanceof s))throw new TypeError(\"Constructor requires 'new' operator\");i.set(this,e)}function h(){throw new TypeError(\"Function is not a constructor\")}function c(e,t,i,n){e=0 in arguments?Number(arguments[0]):0,t=1 in arguments?Number(arguments[1]):0,i=2 in arguments?Number(arguments[2]):0,n=3 in arguments?Number(arguments[3]):0,this.right=(this.x=this.left=e)+(this.width=i),this.bottom=(this.y=this.top=t)+(this.height=n),Object.freeze(this)}function d(){t=requestAnimationFrame(d);var s=new WeakMap,p=new Set;o.forEach((function(t){r.get(t).forEach((function(i){var r=t instanceof window.SVGElement,o=a.get(t),d=r?0:parseFloat(o.paddingTop),f=r?0:parseFloat(o.paddingRight),l=r?0:parseFloat(o.paddingBottom),u=r?0:parseFloat(o.paddingLeft),g=r?0:parseFloat(o.borderTopWidth),m=r?0:parseFloat(o.borderRightWidth),w=r?0:parseFloat(o.borderBottomWidth),b=u+f,F=d+l,v=(r?0:parseFloat(o.borderLeftWidth))+m,W=g+w,y=r?0:t.offsetHeight-W-t.clientHeight,E=r?0:t.offsetWidth-v-t.clientWidth,R=b+v,z=F+W,M=r?t.width:parseFloat(o.width)-R-E,O=r?t.height:parseFloat(o.height)-z-y;if(n.has(t)){var k=n.get(t);if(k[0]===M&&k[1]===O)return}n.set(t,[M,O]);var S=Object.create(h.prototype);S.target=t,S.contentRect=new c(u,d,M,O),s.has(i)||(s.set(i,[]),p.add(i)),s.get(i).push(S)}))})),p.forEach((function(e){i.get(e).call(e,s.get(e),e)}))}return s.prototype.observe=function(i){if(i instanceof window.Element){r.has(i)||(r.set(i,new Set),o.add(i),a.set(i,window.getComputedStyle(i)));var n=r.get(i);n.has(this)||n.add(this),cancelAnimationFrame(t),t=requestAnimationFrame(d)}},s.prototype.unobserve=function(i){if(i instanceof window.Element&&r.has(i)){var n=r.get(i);n.has(this)&&(n.delete(this),n.size||(r.delete(i),o.delete(i))),n.size||r.delete(i),o.size||cancelAnimationFrame(t)}},A.DOMRectReadOnly=c,A.ResizeObserver=s,A.ResizeObserverEntry=h,A}; // eslint-disable-line\nmpl.toolbar_items = [[\"Home\", \"Reset original view\", \"fa fa-home icon-home\", \"home\"], [\"Back\", \"Back to previous view\", \"fa fa-arrow-left icon-arrow-left\", \"back\"], [\"Forward\", \"Forward to next view\", \"fa fa-arrow-right icon-arrow-right\", \"forward\"], [\"\", \"\", \"\", \"\"], [\"Pan\", \"Left button pans, Right button zooms\\nx/y fixes axis, CTRL fixes aspect\", \"fa fa-arrows icon-move\", \"pan\"], [\"Zoom\", \"Zoom to rectangle\\nx/y fixes axis\", \"fa fa-square-o icon-check-empty\", \"zoom\"], [\"\", \"\", \"\", \"\"], [\"Download\", \"Download plot\", \"fa fa-floppy-o icon-save\", \"download\"]];\n\nmpl.extensions = [\"eps\", \"jpeg\", \"pgf\", \"pdf\", \"png\", \"ps\", \"raw\", \"svg\", \"tif\"];\n\nmpl.default_extension = \"png\";/* global mpl */\n\nvar comm_websocket_adapter = function (comm) {\n    // Create a \"websocket\"-like object which calls the given IPython comm\n    // object with the appropriate methods. Currently this is a non binary\n    // socket, so there is still some room for performance tuning.\n    var ws = {};\n\n    ws.binaryType = comm.kernel.ws.binaryType;\n    ws.readyState = comm.kernel.ws.readyState;\n    function updateReadyState(_event) {\n        if (comm.kernel.ws) {\n            ws.readyState = comm.kernel.ws.readyState;\n        } else {\n            ws.readyState = 3; // Closed state.\n        }\n    }\n    comm.kernel.ws.addEventListener('open', updateReadyState);\n    comm.kernel.ws.addEventListener('close', updateReadyState);\n    comm.kernel.ws.addEventListener('error', updateReadyState);\n\n    ws.close = function () {\n        comm.close();\n    };\n    ws.send = function (m) {\n        //console.log('sending', m);\n        comm.send(m);\n    };\n    // Register the callback with on_msg.\n    comm.on_msg(function (msg) {\n        //console.log('receiving', msg['content']['data'], msg);\n        var data = msg['content']['data'];\n        if (data['blob'] !== undefined) {\n            data = {\n                data: new Blob(msg['buffers'], { type: data['blob'] }),\n            };\n        }\n        // Pass the mpl event to the overridden (by mpl) onmessage function.\n        ws.onmessage(data);\n    });\n    return ws;\n};\n\nmpl.mpl_figure_comm = function (comm, msg) {\n    // This is the function which gets called when the mpl process\n    // starts-up an IPython Comm through the \"matplotlib\" channel.\n\n    var id = msg.content.data.id;\n    // Get hold of the div created by the display call when the Comm\n    // socket was opened in Python.\n    var element = document.getElementById(id);\n    var ws_proxy = comm_websocket_adapter(comm);\n\n    function ondownload(figure, _format) {\n        window.open(figure.canvas.toDataURL());\n    }\n\n    var fig = new mpl.figure(id, ws_proxy, ondownload, element);\n\n    // Call onopen now - mpl needs it, as it is assuming we've passed it a real\n    // web socket which is closed, not our websocket->open comm proxy.\n    ws_proxy.onopen();\n\n    fig.parent_element = element;\n    fig.cell_info = mpl.find_output_cell(\"<div id='\" + id + \"'></div>\");\n    if (!fig.cell_info) {\n        console.error('Failed to find cell for figure', id, fig);\n        return;\n    }\n    fig.cell_info[0].output_area.element.on(\n        'cleared',\n        { fig: fig },\n        fig._remove_fig_handler\n    );\n};\n\nmpl.figure.prototype.handle_close = function (fig, msg) {\n    var width = fig.canvas.width / fig.ratio;\n    fig.cell_info[0].output_area.element.off(\n        'cleared',\n        fig._remove_fig_handler\n    );\n    fig.resizeObserverInstance.unobserve(fig.canvas_div);\n\n    // Update the output cell to use the data from the current canvas.\n    fig.push_to_output();\n    var dataURL = fig.canvas.toDataURL();\n    // Re-enable the keyboard manager in IPython - without this line, in FF,\n    // the notebook keyboard shortcuts fail.\n    IPython.keyboard_manager.enable();\n    fig.parent_element.innerHTML =\n        '<img src=\"' + dataURL + '\" width=\"' + width + '\">';\n    fig.close_ws(fig, msg);\n};\n\nmpl.figure.prototype.close_ws = function (fig, msg) {\n    fig.send_message('closing', msg);\n    // fig.ws.close()\n};\n\nmpl.figure.prototype.push_to_output = function (_remove_interactive) {\n    // Turn the data on the canvas into data in the output cell.\n    var width = this.canvas.width / this.ratio;\n    var dataURL = this.canvas.toDataURL();\n    this.cell_info[1]['text/html'] =\n        '<img src=\"' + dataURL + '\" width=\"' + width + '\">';\n};\n\nmpl.figure.prototype.updated_canvas_event = function () {\n    // Tell IPython that the notebook contents must change.\n    IPython.notebook.set_dirty(true);\n    this.send_message('ack', {});\n    var fig = this;\n    // Wait a second, then push the new image to the DOM so\n    // that it is saved nicely (might be nice to debounce this).\n    setTimeout(function () {\n        fig.push_to_output();\n    }, 1000);\n};\n\nmpl.figure.prototype._init_toolbar = function () {\n    var fig = this;\n\n    var toolbar = document.createElement('div');\n    toolbar.classList = 'btn-toolbar';\n    this.root.appendChild(toolbar);\n\n    function on_click_closure(name) {\n        return function (_event) {\n            return fig.toolbar_button_onclick(name);\n        };\n    }\n\n    function on_mouseover_closure(tooltip) {\n        return function (event) {\n            if (!event.currentTarget.disabled) {\n                return fig.toolbar_button_onmouseover(tooltip);\n            }\n        };\n    }\n\n    fig.buttons = {};\n    var buttonGroup = document.createElement('div');\n    buttonGroup.classList = 'btn-group';\n    var button;\n    for (var toolbar_ind in mpl.toolbar_items) {\n        var name = mpl.toolbar_items[toolbar_ind][0];\n        var tooltip = mpl.toolbar_items[toolbar_ind][1];\n        var image = mpl.toolbar_items[toolbar_ind][2];\n        var method_name = mpl.toolbar_items[toolbar_ind][3];\n\n        if (!name) {\n            /* Instead of a spacer, we start a new button group. */\n            if (buttonGroup.hasChildNodes()) {\n                toolbar.appendChild(buttonGroup);\n            }\n            buttonGroup = document.createElement('div');\n            buttonGroup.classList = 'btn-group';\n            continue;\n        }\n\n        button = fig.buttons[name] = document.createElement('button');\n        button.classList = 'btn btn-default';\n        button.href = '#';\n        button.title = name;\n        button.innerHTML = '<i class=\"fa ' + image + ' fa-lg\"></i>';\n        button.addEventListener('click', on_click_closure(method_name));\n        button.addEventListener('mouseover', on_mouseover_closure(tooltip));\n        buttonGroup.appendChild(button);\n    }\n\n    if (buttonGroup.hasChildNodes()) {\n        toolbar.appendChild(buttonGroup);\n    }\n\n    // Add the status bar.\n    var status_bar = document.createElement('span');\n    status_bar.classList = 'mpl-message pull-right';\n    toolbar.appendChild(status_bar);\n    this.message = status_bar;\n\n    // Add the close button to the window.\n    var buttongrp = document.createElement('div');\n    buttongrp.classList = 'btn-group inline pull-right';\n    button = document.createElement('button');\n    button.classList = 'btn btn-mini btn-primary';\n    button.href = '#';\n    button.title = 'Stop Interaction';\n    button.innerHTML = '<i class=\"fa fa-power-off icon-remove icon-large\"></i>';\n    button.addEventListener('click', function (_evt) {\n        fig.handle_close(fig, {});\n    });\n    button.addEventListener(\n        'mouseover',\n        on_mouseover_closure('Stop Interaction')\n    );\n    buttongrp.appendChild(button);\n    var titlebar = this.root.querySelector('.ui-dialog-titlebar');\n    titlebar.insertBefore(buttongrp, titlebar.firstChild);\n};\n\nmpl.figure.prototype._remove_fig_handler = function (event) {\n    var fig = event.data.fig;\n    if (event.target !== this) {\n        // Ignore bubbled events from children.\n        return;\n    }\n    fig.close_ws(fig, {});\n};\n\nmpl.figure.prototype._root_extra_style = function (el) {\n    el.style.boxSizing = 'content-box'; // override notebook setting of border-box.\n};\n\nmpl.figure.prototype._canvas_extra_style = function (el) {\n    // this is important to make the div 'focusable\n    el.setAttribute('tabindex', 0);\n    // reach out to IPython and tell the keyboard manager to turn it's self\n    // off when our div gets focus\n\n    // location in version 3\n    if (IPython.notebook.keyboard_manager) {\n        IPython.notebook.keyboard_manager.register_events(el);\n    } else {\n        // location in version 2\n        IPython.keyboard_manager.register_events(el);\n    }\n};\n\nmpl.figure.prototype._key_event_extra = function (event, _name) {\n    // Check for shift+enter\n    if (event.shiftKey && event.which === 13) {\n        this.canvas_div.blur();\n        // select the cell after this one\n        var index = IPython.notebook.find_cell_index(this.cell_info[0]);\n        IPython.notebook.select(index + 1);\n    }\n};\n\nmpl.figure.prototype.handle_save = function (fig, _msg) {\n    fig.ondownload(fig, null);\n};\n\nmpl.find_output_cell = function (html_output) {\n    // Return the cell and output element which can be found *uniquely* in the notebook.\n    // Note - this is a bit hacky, but it is done because the \"notebook_saving.Notebook\"\n    // IPython event is triggered only after the cells have been serialised, which for\n    // our purposes (turning an active figure into a static one), is too late.\n    var cells = IPython.notebook.get_cells();\n    var ncells = cells.length;\n    for (var i = 0; i < ncells; i++) {\n        var cell = cells[i];\n        if (cell.cell_type === 'code') {\n            for (var j = 0; j < cell.output_area.outputs.length; j++) {\n                var data = cell.output_area.outputs[j];\n                if (data.data) {\n                    // IPython >= 3 moved mimebundle to data attribute of output\n                    data = data.data;\n                }\n                if (data['text/html'] === html_output) {\n                    return [cell, data, j];\n                }\n            }\n        }\n    }\n};\n\n// Register the function which deals with the matplotlib target/channel.\n// The kernel may be null if the page has been refreshed.\nif (IPython.notebook.kernel !== null) {\n    IPython.notebook.kernel.comm_manager.register_target(\n        'matplotlib',\n        mpl.mpl_figure_comm\n    );\n}\n",
      "text/plain": [
       "<IPython.core.display.Javascript object>"
      ]
     },
     "metadata": {},
     "output_type": "display_data"
    },
    {
     "data": {
      "text/html": [
       "<div id='9d298997-16dc-4cec-94c1-dd2f6a1187a0'></div>"
      ],
      "text/plain": [
       "<IPython.core.display.HTML object>"
      ]
     },
     "metadata": {},
     "output_type": "display_data"
    },
    {
     "name": "stdout",
     "output_type": "stream",
     "text": [
      "ratio : 0.9938\n"
     ]
    }
   ],
   "source": [
    "sarsa_agent = SARSA(0.15,0.99,0.25,7500, True )\n",
    "opt_agent = optimal_agent()\n",
    "nim = Nim(5)\n",
    "train_v1(nim,sarsa_agent,opt_agent,10_000)\n",
    "\n",
    "sarsa_agent.train = False \n",
    "nim = Nim(5)\n",
    "ratio_test = Play(nim,sarsa_agent, opt_agent, 10_000)\n",
    "\n",
    "print(f\"ratio : {ratio_test}\")"
   ]
  },
  {
   "cell_type": "code",
   "execution_count": 15,
   "metadata": {},
   "outputs": [],
   "source": [
    "import numpy as np\n",
    "from math import exp\n",
    "class RL_Agent(object):\n",
    "    def __init__(self,temp_start, alpha, train :bool ):  # 80% explore, 20% exploit\n",
    "        self.state_history = []  # state, reward\n",
    "        self.alpha = alpha\n",
    "\n",
    "        self.G = {}\n",
    "        self.temp = temp_start\n",
    "        self.train = train\n",
    "        \n",
    "    def annealing(self,update_temp = lambda x : x*0.995)-> float:\n",
    "            a = exp(- 0.001/ self.temp)\n",
    "            self.temp = update_temp(self.temp)\n",
    "            return a\n",
    "    \n",
    "    def registerG(self, state):\n",
    "       \n",
    "        possible_actions = possible_moves(state)\n",
    "        if state.rows not  in self.G.keys(): \n",
    "                self.G[state.rows] = np.random.uniform(0.0,0.00001)\n",
    "            \n",
    "\n",
    "    def choose_action(self, state, random_factor):\n",
    "        possible_actions = possible_moves(state)\n",
    "        maxG = -10e15\n",
    "       \n",
    "        if np.random.random() > random_factor and self.train  : \n",
    "            for action in possible_actions : \n",
    "                new_state = deepcopy(state)\n",
    "                new_state.nimming(action)\n",
    "                self.registerG(new_state)\n",
    "                if self.G[new_state.rows] >= maxG:\n",
    "                    next_move = action\n",
    "                    maxG = self.G[new_state.rows]\n",
    "            return next_move\n",
    "        \n",
    "        elif not  self.train  : \n",
    "            for action in possible_actions : \n",
    "                new_state = deepcopy(state)\n",
    "                new_state.nimming(action)\n",
    "                self.registerG(new_state)\n",
    "                if self.G[new_state.rows] >= maxG:\n",
    "                    next_move = action\n",
    "                    maxG = self.G[new_state.rows]\n",
    "            return next_move\n",
    "        \n",
    "        else  : \n",
    "\n",
    "                action = random.choice(possible_actions)\n",
    "\n",
    "                new_state = deepcopy(state)\n",
    "                new_state.nimming(action)\n",
    "\n",
    "                self.registerG(new_state)\n",
    "                return action\n",
    " \n",
    "\n",
    "    def update_state_history(self, state, reward):\n",
    "        self.state_history.append((state.rows, reward)) \n",
    "\n",
    "    def learn(self):\n",
    "        target = 0\n",
    "\n",
    "        for prev, reward in reversed(self.state_history):\n",
    "            self.G[prev] = self.G[prev] + self.alpha * (target - self.G[prev])\n",
    "            target += reward\n",
    "\n",
    "        self.state_history = []\n",
    "\n",
    "\n"
   ]
  },
  {
   "attachments": {},
   "cell_type": "markdown",
   "metadata": {},
   "source": [
    "TRAINING OPERATOR FOR RL AGENT "
   ]
  },
  {
   "cell_type": "code",
   "execution_count": 16,
   "metadata": {},
   "outputs": [],
   "source": [
    "def train(player1: classmethod, player2: classmethod,NUM_MATCHES):\n",
    "\n",
    "    NIM_NUM = 5\n",
    "    nim = Nim(NIM_NUM)\n",
    "    rateHistory = []\n",
    "    indices = []\n",
    "    win_ratio = 0\n",
    "    player1.registerG(nim)\n",
    "    for match in range(NUM_MATCHES):\n",
    "        random_factor = player1.annealing()\n",
    "        player1.update_state_history(nim,0)\n",
    "        while True:\n",
    "\n",
    "            action = player1.choose_action(nim,random_factor)\n",
    "            nim.nimming(action)\n",
    "            reward = 0 if nim else 1 \n",
    "            player1.update_state_history(nim, reward)\n",
    "            if not nim : \n",
    "                win_ratio +=1\n",
    "\n",
    "                break \n",
    "\n",
    "            \n",
    "            action =player2.choose_action(nim)\n",
    "            nim.nimming(action)\n",
    "            if not nim : \n",
    "                break \n",
    "\n",
    "\n",
    "        player1.learn()\n",
    "        if match % 100 == 0:\n",
    "            rateHistory.append(win_ratio / 100)\n",
    "            indices.append(match)\n",
    "            win_ratio = 0\n",
    "        nim = Nim(NIM_NUM)\n",
    "\n",
    "    plt.semilogy(indices, rateHistory, \"b\")\n",
    "    plt.title(f\"{player1.__class__.__name__}\")\n",
    "    plt.savefig(f\"{player1.__class__.__name__}.jpg\")\n",
    "    plt.show()"
   ]
  },
  {
   "cell_type": "code",
   "execution_count": null,
   "metadata": {},
   "outputs": [
    {
     "data": {
      "application/vnd.jupyter.widget-view+json": {
       "model_id": "b946f3ac91e44e3e98366652f97f9129",
       "version_major": 2,
       "version_minor": 0
      },
      "image/png": "[encoded data removed]",
      "text/html": [
       "\n",
       "            <div style=\"display: inline-block;\">\n",
       "                <div class=\"jupyter-widgets widget-label\" style=\"text-align: center;\">\n",
       "                    Figure\n",
       "                </div>\n",
       "                <img src='data:image/png;base64,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' width=640.0/>\n",
       "            </div>\n",
       "        "
      ],
      "text/plain": [
       "Canvas(toolbar=Toolbar(toolitems=[('Home', 'Reset original view', 'home', 'home'), ('Back', 'Back to previous …"
      ]
     },
     "metadata": {},
     "output_type": "display_data"
    },
    {
     "name": "stdout",
     "output_type": "stream",
     "text": [
      "0.8191\n"
     ]
    },
    {
     "name": "stderr",
     "output_type": "stream",
     "text": [
      "DEBUG:Comm:handle_msg[b946f3ac91e44e3e98366652f97f9129]({'header': {'date': datetime.datetime(2023, 1, 1, 20, 41, 23, 611000, tzinfo=tzutc()), 'msg_id': '9896bd22-63ed-48bd-9b57-3dc1d0c5bec2', 'msg_type': 'comm_msg', 'session': '6f8e374b-a9de-40f0-a176-cc8a574138d6', 'username': '', 'version': '5.2'}, 'msg_id': '9896bd22-63ed-48bd-9b57-3dc1d0c5bec2', 'msg_type': 'comm_msg', 'parent_header': {}, 'metadata': {}, 'content': {'comm_id': 'b946f3ac91e44e3e98366652f97f9129', 'data': {'method': 'custom', 'content': {'x': 410, 'y': 262, 'button': 0, 'step': 1, 'guiEvent': {'isTrusted': True, 'data': 'scroll', 'step': 1}, 'type': 'scroll'}}}, 'buffers': []})\n",
      "DEBUG:matplotlib.ticker:vmin 0.007972157177388521 vmax 1.1665600405342795\n",
      "DEBUG:matplotlib.ticker:ticklocs array([1.e-04, 1.e-03, 1.e-02, 1.e-01, 1.e+00, 1.e+01, 1.e+02])\n",
      "DEBUG:matplotlib.ticker:vmin 0.007972157177388521 vmax 1.1665600405342795\n",
      "DEBUG:matplotlib.ticker:ticklocs array([2.e-04, 3.e-04, 4.e-04, 5.e-04, 6.e-04, 7.e-04, 8.e-04, 9.e-04,\n",
      "       2.e-03, 3.e-03, 4.e-03, 5.e-03, 6.e-03, 7.e-03, 8.e-03, 9.e-03,\n",
      "       2.e-02, 3.e-02, 4.e-02, 5.e-02, 6.e-02, 7.e-02, 8.e-02, 9.e-02,\n",
      "       2.e-01, 3.e-01, 4.e-01, 5.e-01, 6.e-01, 7.e-01, 8.e-01, 9.e-01,\n",
      "       2.e+00, 3.e+00, 4.e+00, 5.e+00, 6.e+00, 7.e+00, 8.e+00, 9.e+00,\n",
      "       2.e+01, 3.e+01, 4.e+01, 5.e+01, 6.e+01, 7.e+01, 8.e+01, 9.e+01,\n",
      "       2.e+02, 3.e+02, 4.e+02, 5.e+02, 6.e+02, 7.e+02, 8.e+02, 9.e+02])\n",
      "DEBUG:matplotlib.ticker:vmin 0.007972157177388521 vmax 1.1665600405342795\n",
      "DEBUG:matplotlib.ticker:ticklocs array([1.e-04, 1.e-03, 1.e-02, 1.e-01, 1.e+00, 1.e+01, 1.e+02])\n",
      "DEBUG:Comm:handle_msg[b946f3ac91e44e3e98366652f97f9129]({'header': {'date': datetime.datetime(2023, 1, 1, 20, 41, 23, 644000, tzinfo=tzutc()), 'msg_id': '23f63d0f-e760-481b-9933-ca73e2c42115', 'msg_type': 'comm_msg', 'session': '6f8e374b-a9de-40f0-a176-cc8a574138d6', 'username': '', 'version': '5.2'}, 'msg_id': '23f63d0f-e760-481b-9933-ca73e2c42115', 'msg_type': 'comm_msg', 'parent_header': {}, 'metadata': {}, 'content': {'comm_id': 'b946f3ac91e44e3e98366652f97f9129', 'data': {'method': 'custom', 'content': {'x': 410, 'y': 246, 'button': 0, 'step': 1, 'guiEvent': {'isTrusted': True, 'data': 'scroll', 'step': 1}, 'type': 'scroll'}}}, 'buffers': []})\n",
      "DEBUG:matplotlib.ticker:vmin 0.007972157177388521 vmax 1.1665600405342795\n",
      "DEBUG:matplotlib.ticker:ticklocs array([1.e-04, 1.e-03, 1.e-02, 1.e-01, 1.e+00, 1.e+01, 1.e+02])\n",
      "DEBUG:matplotlib.ticker:vmin 0.007972157177388521 vmax 1.1665600405342795\n",
      "DEBUG:matplotlib.ticker:ticklocs array([2.e-04, 3.e-04, 4.e-04, 5.e-04, 6.e-04, 7.e-04, 8.e-04, 9.e-04,\n",
      "       2.e-03, 3.e-03, 4.e-03, 5.e-03, 6.e-03, 7.e-03, 8.e-03, 9.e-03,\n",
      "       2.e-02, 3.e-02, 4.e-02, 5.e-02, 6.e-02, 7.e-02, 8.e-02, 9.e-02,\n",
      "       2.e-01, 3.e-01, 4.e-01, 5.e-01, 6.e-01, 7.e-01, 8.e-01, 9.e-01,\n",
      "       2.e+00, 3.e+00, 4.e+00, 5.e+00, 6.e+00, 7.e+00, 8.e+00, 9.e+00,\n",
      "       2.e+01, 3.e+01, 4.e+01, 5.e+01, 6.e+01, 7.e+01, 8.e+01, 9.e+01,\n",
      "       2.e+02, 3.e+02, 4.e+02, 5.e+02, 6.e+02, 7.e+02, 8.e+02, 9.e+02])\n",
      "DEBUG:matplotlib.ticker:vmin 0.007972157177388521 vmax 1.1665600405342795\n",
      "DEBUG:matplotlib.ticker:ticklocs array([1.e-04, 1.e-03, 1.e-02, 1.e-01, 1.e+00, 1.e+01, 1.e+02])\n",
      "DEBUG:Comm:handle_msg[b946f3ac91e44e3e98366652f97f9129]({'header': {'date': datetime.datetime(2023, 1, 1, 20, 41, 23, 677000, tzinfo=tzutc()), 'msg_id': 'b795101b-4cd2-42b3-8f37-71916684c92a', 'msg_type': 'comm_msg', 'session': '6f8e374b-a9de-40f0-a176-cc8a574138d6', 'username': '', 'version': '5.2'}, 'msg_id': 'b795101b-4cd2-42b3-8f37-71916684c92a', 'msg_type': 'comm_msg', 'parent_header': {}, 'metadata': {}, 'content': {'comm_id': 'b946f3ac91e44e3e98366652f97f9129', 'data': {'method': 'custom', 'content': {'x': 410, 'y': 150, 'button': 0, 'step': 1, 'guiEvent': {'isTrusted': True, 'data': 'scroll', 'step': 1}, 'type': 'scroll'}}}, 'buffers': []})\n",
      "DEBUG:matplotlib.ticker:vmin 0.007972157177388521 vmax 1.1665600405342795\n",
      "DEBUG:matplotlib.ticker:ticklocs array([1.e-04, 1.e-03, 1.e-02, 1.e-01, 1.e+00, 1.e+01, 1.e+02])\n",
      "DEBUG:matplotlib.ticker:vmin 0.007972157177388521 vmax 1.1665600405342795\n",
      "DEBUG:matplotlib.ticker:ticklocs array([2.e-04, 3.e-04, 4.e-04, 5.e-04, 6.e-04, 7.e-04, 8.e-04, 9.e-04,\n",
      "       2.e-03, 3.e-03, 4.e-03, 5.e-03, 6.e-03, 7.e-03, 8.e-03, 9.e-03,\n",
      "       2.e-02, 3.e-02, 4.e-02, 5.e-02, 6.e-02, 7.e-02, 8.e-02, 9.e-02,\n",
      "       2.e-01, 3.e-01, 4.e-01, 5.e-01, 6.e-01, 7.e-01, 8.e-01, 9.e-01,\n",
      "       2.e+00, 3.e+00, 4.e+00, 5.e+00, 6.e+00, 7.e+00, 8.e+00, 9.e+00,\n",
      "       2.e+01, 3.e+01, 4.e+01, 5.e+01, 6.e+01, 7.e+01, 8.e+01, 9.e+01,\n",
      "       2.e+02, 3.e+02, 4.e+02, 5.e+02, 6.e+02, 7.e+02, 8.e+02, 9.e+02])\n",
      "DEBUG:matplotlib.ticker:vmin 0.007972157177388521 vmax 1.1665600405342795\n",
      "DEBUG:matplotlib.ticker:ticklocs array([1.e-04, 1.e-03, 1.e-02, 1.e-01, 1.e+00, 1.e+01, 1.e+02])\n",
      "DEBUG:Comm:handle_msg[b946f3ac91e44e3e98366652f97f9129]({'header': {'date': datetime.datetime(2023, 1, 1, 20, 41, 23, 723000, tzinfo=tzutc()), 'msg_id': 'bc841640-616c-4442-94be-e7566ffa2861', 'msg_type': 'comm_msg', 'session': '6f8e374b-a9de-40f0-a176-cc8a574138d6', 'username': '', 'version': '5.2'}, 'msg_id': 'bc841640-616c-4442-94be-e7566ffa2861', 'msg_type': 'comm_msg', 'parent_header': {}, 'metadata': {}, 'content': {'comm_id': 'b946f3ac91e44e3e98366652f97f9129', 'data': {'method': 'custom', 'content': {'x': 410, 'y': -60, 'button': 0, 'step': 1, 'guiEvent': {'isTrusted': True, 'data': 'scroll', 'step': 1}, 'type': 'scroll'}}}, 'buffers': []})\n",
      "DEBUG:matplotlib.ticker:vmin 0.007972157177388521 vmax 1.1665600405342795\n",
      "DEBUG:matplotlib.ticker:ticklocs array([1.e-04, 1.e-03, 1.e-02, 1.e-01, 1.e+00, 1.e+01, 1.e+02])\n",
      "DEBUG:matplotlib.ticker:vmin 0.007972157177388521 vmax 1.1665600405342795\n",
      "DEBUG:matplotlib.ticker:ticklocs array([2.e-04, 3.e-04, 4.e-04, 5.e-04, 6.e-04, 7.e-04, 8.e-04, 9.e-04,\n",
      "       2.e-03, 3.e-03, 4.e-03, 5.e-03, 6.e-03, 7.e-03, 8.e-03, 9.e-03,\n",
      "       2.e-02, 3.e-02, 4.e-02, 5.e-02, 6.e-02, 7.e-02, 8.e-02, 9.e-02,\n",
      "       2.e-01, 3.e-01, 4.e-01, 5.e-01, 6.e-01, 7.e-01, 8.e-01, 9.e-01,\n",
      "       2.e+00, 3.e+00, 4.e+00, 5.e+00, 6.e+00, 7.e+00, 8.e+00, 9.e+00,\n",
      "       2.e+01, 3.e+01, 4.e+01, 5.e+01, 6.e+01, 7.e+01, 8.e+01, 9.e+01,\n",
      "       2.e+02, 3.e+02, 4.e+02, 5.e+02, 6.e+02, 7.e+02, 8.e+02, 9.e+02])\n",
      "DEBUG:matplotlib.ticker:vmin 0.007972157177388521 vmax 1.1665600405342795\n",
      "DEBUG:matplotlib.ticker:ticklocs array([1.e-04, 1.e-03, 1.e-02, 1.e-01, 1.e+00, 1.e+01, 1.e+02])\n",
      "DEBUG:Comm:handle_msg[b946f3ac91e44e3e98366652f97f9129]({'header': {'date': datetime.datetime(2023, 1, 1, 20, 41, 23, 756000, tzinfo=tzutc()), 'msg_id': 'dbc775bb-9879-418e-a44a-7e23bdc46c10', 'msg_type': 'comm_msg', 'session': '6f8e374b-a9de-40f0-a176-cc8a574138d6', 'username': '', 'version': '5.2'}, 'msg_id': 'dbc775bb-9879-418e-a44a-7e23bdc46c10', 'msg_type': 'comm_msg', 'parent_header': {}, 'metadata': {}, 'content': {'comm_id': 'b946f3ac91e44e3e98366652f97f9129', 'data': {'method': 'custom', 'content': {'x': 410, 'y': -340, 'button': 0, 'step': 1, 'guiEvent': {'isTrusted': True, 'data': 'scroll', 'step': 1}, 'type': 'scroll'}}}, 'buffers': []})\n",
      "DEBUG:matplotlib.ticker:vmin 0.007972157177388521 vmax 1.1665600405342795\n",
      "DEBUG:matplotlib.ticker:ticklocs array([1.e-04, 1.e-03, 1.e-02, 1.e-01, 1.e+00, 1.e+01, 1.e+02])\n",
      "DEBUG:matplotlib.ticker:vmin 0.007972157177388521 vmax 1.1665600405342795\n",
      "DEBUG:matplotlib.ticker:ticklocs array([2.e-04, 3.e-04, 4.e-04, 5.e-04, 6.e-04, 7.e-04, 8.e-04, 9.e-04,\n",
      "       2.e-03, 3.e-03, 4.e-03, 5.e-03, 6.e-03, 7.e-03, 8.e-03, 9.e-03,\n",
      "       2.e-02, 3.e-02, 4.e-02, 5.e-02, 6.e-02, 7.e-02, 8.e-02, 9.e-02,\n",
      "       2.e-01, 3.e-01, 4.e-01, 5.e-01, 6.e-01, 7.e-01, 8.e-01, 9.e-01,\n",
      "       2.e+00, 3.e+00, 4.e+00, 5.e+00, 6.e+00, 7.e+00, 8.e+00, 9.e+00,\n",
      "       2.e+01, 3.e+01, 4.e+01, 5.e+01, 6.e+01, 7.e+01, 8.e+01, 9.e+01,\n",
      "       2.e+02, 3.e+02, 4.e+02, 5.e+02, 6.e+02, 7.e+02, 8.e+02, 9.e+02])\n",
      "DEBUG:matplotlib.ticker:vmin 0.007972157177388521 vmax 1.1665600405342795\n",
      "DEBUG:matplotlib.ticker:ticklocs array([1.e-04, 1.e-03, 1.e-02, 1.e-01, 1.e+00, 1.e+01, 1.e+02])\n",
      "DEBUG:Comm:handle_msg[b946f3ac91e44e3e98366652f97f9129]({'header': {'date': datetime.datetime(2023, 1, 1, 20, 41, 23, 791000, tzinfo=tzutc()), 'msg_id': '002e0f64-35ec-4f48-b1a3-a1330c2912b7', 'msg_type': 'comm_msg', 'session': '6f8e374b-a9de-40f0-a176-cc8a574138d6', 'username': '', 'version': '5.2'}, 'msg_id': '002e0f64-35ec-4f48-b1a3-a1330c2912b7', 'msg_type': 'comm_msg', 'parent_header': {}, 'metadata': {}, 'content': {'comm_id': 'b946f3ac91e44e3e98366652f97f9129', 'data': {'method': 'custom', 'content': {'x': 410, 'y': -1066, 'button': 0, 'step': 1, 'guiEvent': {'isTrusted': True, 'data': 'scroll', 'step': 1}, 'type': 'scroll'}}}, 'buffers': []})\n",
      "DEBUG:matplotlib.ticker:vmin 0.007972157177388521 vmax 1.1665600405342795\n",
      "DEBUG:matplotlib.ticker:ticklocs array([1.e-04, 1.e-03, 1.e-02, 1.e-01, 1.e+00, 1.e+01, 1.e+02])\n",
      "DEBUG:matplotlib.ticker:vmin 0.007972157177388521 vmax 1.1665600405342795\n",
      "DEBUG:matplotlib.ticker:ticklocs array([2.e-04, 3.e-04, 4.e-04, 5.e-04, 6.e-04, 7.e-04, 8.e-04, 9.e-04,\n",
      "       2.e-03, 3.e-03, 4.e-03, 5.e-03, 6.e-03, 7.e-03, 8.e-03, 9.e-03,\n",
      "       2.e-02, 3.e-02, 4.e-02, 5.e-02, 6.e-02, 7.e-02, 8.e-02, 9.e-02,\n",
      "       2.e-01, 3.e-01, 4.e-01, 5.e-01, 6.e-01, 7.e-01, 8.e-01, 9.e-01,\n",
      "       2.e+00, 3.e+00, 4.e+00, 5.e+00, 6.e+00, 7.e+00, 8.e+00, 9.e+00,\n",
      "       2.e+01, 3.e+01, 4.e+01, 5.e+01, 6.e+01, 7.e+01, 8.e+01, 9.e+01,\n",
      "       2.e+02, 3.e+02, 4.e+02, 5.e+02, 6.e+02, 7.e+02, 8.e+02, 9.e+02])\n",
      "DEBUG:matplotlib.ticker:vmin 0.007972157177388521 vmax 1.1665600405342795\n",
      "DEBUG:matplotlib.ticker:ticklocs array([1.e-04, 1.e-03, 1.e-02, 1.e-01, 1.e+00, 1.e+01, 1.e+02])\n",
      "DEBUG:Comm:handle_msg[b946f3ac91e44e3e98366652f97f9129]({'header': {'date': datetime.datetime(2023, 1, 1, 20, 41, 23, 824000, tzinfo=tzutc()), 'msg_id': '79369aa3-bd0b-48d2-8af0-8e3fdc8c6627', 'msg_type': 'comm_msg', 'session': '6f8e374b-a9de-40f0-a176-cc8a574138d6', 'username': '', 'version': '5.2'}, 'msg_id': '79369aa3-bd0b-48d2-8af0-8e3fdc8c6627', 'msg_type': 'comm_msg', 'parent_header': {}, 'metadata': {}, 'content': {'comm_id': 'b946f3ac91e44e3e98366652f97f9129', 'data': {'method': 'custom', 'content': {'x': 410, 'y': -1066, 'button': 0, 'step': 1, 'guiEvent': {'isTrusted': True, 'data': 'scroll', 'step': 1}, 'type': 'scroll'}}}, 'buffers': []})\n",
      "DEBUG:matplotlib.ticker:vmin 0.007972157177388521 vmax 1.1665600405342795\n",
      "DEBUG:matplotlib.ticker:ticklocs array([1.e-04, 1.e-03, 1.e-02, 1.e-01, 1.e+00, 1.e+01, 1.e+02])\n",
      "DEBUG:matplotlib.ticker:vmin 0.007972157177388521 vmax 1.1665600405342795\n",
      "DEBUG:matplotlib.ticker:ticklocs array([2.e-04, 3.e-04, 4.e-04, 5.e-04, 6.e-04, 7.e-04, 8.e-04, 9.e-04,\n",
      "       2.e-03, 3.e-03, 4.e-03, 5.e-03, 6.e-03, 7.e-03, 8.e-03, 9.e-03,\n",
      "       2.e-02, 3.e-02, 4.e-02, 5.e-02, 6.e-02, 7.e-02, 8.e-02, 9.e-02,\n",
      "       2.e-01, 3.e-01, 4.e-01, 5.e-01, 6.e-01, 7.e-01, 8.e-01, 9.e-01,\n",
      "       2.e+00, 3.e+00, 4.e+00, 5.e+00, 6.e+00, 7.e+00, 8.e+00, 9.e+00,\n",
      "       2.e+01, 3.e+01, 4.e+01, 5.e+01, 6.e+01, 7.e+01, 8.e+01, 9.e+01,\n",
      "       2.e+02, 3.e+02, 4.e+02, 5.e+02, 6.e+02, 7.e+02, 8.e+02, 9.e+02])\n",
      "DEBUG:matplotlib.ticker:vmin 0.007972157177388521 vmax 1.1665600405342795\n",
      "DEBUG:matplotlib.ticker:ticklocs array([1.e-04, 1.e-03, 1.e-02, 1.e-01, 1.e+00, 1.e+01, 1.e+02])\n",
      "DEBUG:Comm:handle_msg[b946f3ac91e44e3e98366652f97f9129]({'header': {'date': datetime.datetime(2023, 1, 1, 20, 41, 23, 872000, tzinfo=tzutc()), 'msg_id': '98433a1b-aa3c-41e2-97b8-295ed3aa977d', 'msg_type': 'comm_msg', 'session': '6f8e374b-a9de-40f0-a176-cc8a574138d6', 'username': '', 'version': '5.2'}, 'msg_id': '98433a1b-aa3c-41e2-97b8-295ed3aa977d', 'msg_type': 'comm_msg', 'parent_header': {}, 'metadata': {}, 'content': {'comm_id': 'b946f3ac91e44e3e98366652f97f9129', 'data': {'method': 'custom', 'content': {'x': 410, 'y': -1312, 'button': 0, 'step': 1, 'guiEvent': {'isTrusted': True, 'data': 'scroll', 'step': 1}, 'type': 'scroll'}}}, 'buffers': []})\n",
      "DEBUG:matplotlib.ticker:vmin 0.007972157177388521 vmax 1.1665600405342795\n",
      "DEBUG:matplotlib.ticker:ticklocs array([1.e-04, 1.e-03, 1.e-02, 1.e-01, 1.e+00, 1.e+01, 1.e+02])\n",
      "DEBUG:matplotlib.ticker:vmin 0.007972157177388521 vmax 1.1665600405342795\n",
      "DEBUG:matplotlib.ticker:ticklocs array([2.e-04, 3.e-04, 4.e-04, 5.e-04, 6.e-04, 7.e-04, 8.e-04, 9.e-04,\n",
      "       2.e-03, 3.e-03, 4.e-03, 5.e-03, 6.e-03, 7.e-03, 8.e-03, 9.e-03,\n",
      "       2.e-02, 3.e-02, 4.e-02, 5.e-02, 6.e-02, 7.e-02, 8.e-02, 9.e-02,\n",
      "       2.e-01, 3.e-01, 4.e-01, 5.e-01, 6.e-01, 7.e-01, 8.e-01, 9.e-01,\n",
      "       2.e+00, 3.e+00, 4.e+00, 5.e+00, 6.e+00, 7.e+00, 8.e+00, 9.e+00,\n",
      "       2.e+01, 3.e+01, 4.e+01, 5.e+01, 6.e+01, 7.e+01, 8.e+01, 9.e+01,\n",
      "       2.e+02, 3.e+02, 4.e+02, 5.e+02, 6.e+02, 7.e+02, 8.e+02, 9.e+02])\n",
      "DEBUG:matplotlib.ticker:vmin 0.007972157177388521 vmax 1.1665600405342795\n",
      "DEBUG:matplotlib.ticker:ticklocs array([1.e-04, 1.e-03, 1.e-02, 1.e-01, 1.e+00, 1.e+01, 1.e+02])\n",
      "DEBUG:Comm:handle_msg[b946f3ac91e44e3e98366652f97f9129]({'header': {'date': datetime.datetime(2023, 1, 1, 20, 41, 23, 905000, tzinfo=tzutc()), 'msg_id': '9f9c49db-9856-488a-8a6e-a1c350f42406', 'msg_type': 'comm_msg', 'session': '6f8e374b-a9de-40f0-a176-cc8a574138d6', 'username': '', 'version': '5.2'}, 'msg_id': '9f9c49db-9856-488a-8a6e-a1c350f42406', 'msg_type': 'comm_msg', 'parent_header': {}, 'metadata': {}, 'content': {'comm_id': 'b946f3ac91e44e3e98366652f97f9129', 'data': {'method': 'custom', 'content': {'x': 410, 'y': -1312, 'button': 0, 'step': 1, 'guiEvent': {'isTrusted': True, 'data': 'scroll', 'step': 1}, 'type': 'scroll'}}}, 'buffers': []})\n",
      "DEBUG:matplotlib.ticker:vmin 0.007972157177388521 vmax 1.1665600405342795\n",
      "DEBUG:matplotlib.ticker:ticklocs array([1.e-04, 1.e-03, 1.e-02, 1.e-01, 1.e+00, 1.e+01, 1.e+02])\n",
      "DEBUG:matplotlib.ticker:vmin 0.007972157177388521 vmax 1.1665600405342795\n",
      "DEBUG:matplotlib.ticker:ticklocs array([2.e-04, 3.e-04, 4.e-04, 5.e-04, 6.e-04, 7.e-04, 8.e-04, 9.e-04,\n",
      "       2.e-03, 3.e-03, 4.e-03, 5.e-03, 6.e-03, 7.e-03, 8.e-03, 9.e-03,\n",
      "       2.e-02, 3.e-02, 4.e-02, 5.e-02, 6.e-02, 7.e-02, 8.e-02, 9.e-02,\n",
      "       2.e-01, 3.e-01, 4.e-01, 5.e-01, 6.e-01, 7.e-01, 8.e-01, 9.e-01,\n",
      "       2.e+00, 3.e+00, 4.e+00, 5.e+00, 6.e+00, 7.e+00, 8.e+00, 9.e+00,\n",
      "       2.e+01, 3.e+01, 4.e+01, 5.e+01, 6.e+01, 7.e+01, 8.e+01, 9.e+01,\n",
      "       2.e+02, 3.e+02, 4.e+02, 5.e+02, 6.e+02, 7.e+02, 8.e+02, 9.e+02])\n",
      "DEBUG:matplotlib.ticker:vmin 0.007972157177388521 vmax 1.1665600405342795\n",
      "DEBUG:matplotlib.ticker:ticklocs array([1.e-04, 1.e-03, 1.e-02, 1.e-01, 1.e+00, 1.e+01, 1.e+02])\n",
      "DEBUG:Comm:handle_msg[b946f3ac91e44e3e98366652f97f9129]({'header': {'date': datetime.datetime(2023, 1, 1, 21, 45, 9, 346000, tzinfo=tzutc()), 'msg_id': '2bec42a6-89d8-4a7a-9ac0-545a64495da8', 'msg_type': 'comm_msg', 'session': '6f8e374b-a9de-40f0-a176-cc8a574138d6', 'username': '', 'version': '5.2'}, 'msg_id': '2bec42a6-89d8-4a7a-9ac0-545a64495da8', 'msg_type': 'comm_msg', 'parent_header': {}, 'metadata': {}, 'content': {'comm_id': 'b946f3ac91e44e3e98366652f97f9129', 'data': {'method': 'custom', 'content': {'x': 136, 'y': 24, 'button': 0, 'step': 1, 'guiEvent': {'isTrusted': True, 'data': 'scroll', 'step': 1}, 'type': 'scroll'}}}, 'buffers': []})\n",
      "DEBUG:matplotlib.ticker:vmin 0.007972157177388521 vmax 1.1665600405342795\n",
      "DEBUG:matplotlib.ticker:ticklocs array([1.e-04, 1.e-03, 1.e-02, 1.e-01, 1.e+00, 1.e+01, 1.e+02])\n",
      "DEBUG:matplotlib.ticker:vmin 0.007972157177388521 vmax 1.1665600405342795\n",
      "DEBUG:matplotlib.ticker:ticklocs array([2.e-04, 3.e-04, 4.e-04, 5.e-04, 6.e-04, 7.e-04, 8.e-04, 9.e-04,\n",
      "       2.e-03, 3.e-03, 4.e-03, 5.e-03, 6.e-03, 7.e-03, 8.e-03, 9.e-03,\n",
      "       2.e-02, 3.e-02, 4.e-02, 5.e-02, 6.e-02, 7.e-02, 8.e-02, 9.e-02,\n",
      "       2.e-01, 3.e-01, 4.e-01, 5.e-01, 6.e-01, 7.e-01, 8.e-01, 9.e-01,\n",
      "       2.e+00, 3.e+00, 4.e+00, 5.e+00, 6.e+00, 7.e+00, 8.e+00, 9.e+00,\n",
      "       2.e+01, 3.e+01, 4.e+01, 5.e+01, 6.e+01, 7.e+01, 8.e+01, 9.e+01,\n",
      "       2.e+02, 3.e+02, 4.e+02, 5.e+02, 6.e+02, 7.e+02, 8.e+02, 9.e+02])\n",
      "DEBUG:matplotlib.ticker:vmin 0.007972157177388521 vmax 1.1665600405342795\n",
      "DEBUG:matplotlib.ticker:ticklocs array([1.e-04, 1.e-03, 1.e-02, 1.e-01, 1.e+00, 1.e+01, 1.e+02])\n",
      "DEBUG:Comm:handle_msg[b946f3ac91e44e3e98366652f97f9129]({'header': {'date': datetime.datetime(2023, 1, 1, 21, 45, 9, 380000, tzinfo=tzutc()), 'msg_id': '788bde6c-493d-4516-9b57-0f6881e54f87', 'msg_type': 'comm_msg', 'session': '6f8e374b-a9de-40f0-a176-cc8a574138d6', 'username': '', 'version': '5.2'}, 'msg_id': '788bde6c-493d-4516-9b57-0f6881e54f87', 'msg_type': 'comm_msg', 'parent_header': {}, 'metadata': {}, 'content': {'comm_id': 'b946f3ac91e44e3e98366652f97f9129', 'data': {'method': 'custom', 'content': {'x': 136, 'y': 18, 'button': 0, 'step': 1, 'guiEvent': {'isTrusted': True, 'data': 'scroll', 'step': 1}, 'type': 'scroll'}}}, 'buffers': []})\n",
      "DEBUG:matplotlib.ticker:vmin 0.007972157177388521 vmax 1.1665600405342795\n",
      "DEBUG:matplotlib.ticker:ticklocs array([1.e-04, 1.e-03, 1.e-02, 1.e-01, 1.e+00, 1.e+01, 1.e+02])\n",
      "DEBUG:matplotlib.ticker:vmin 0.007972157177388521 vmax 1.1665600405342795\n",
      "DEBUG:matplotlib.ticker:ticklocs array([2.e-04, 3.e-04, 4.e-04, 5.e-04, 6.e-04, 7.e-04, 8.e-04, 9.e-04,\n",
      "       2.e-03, 3.e-03, 4.e-03, 5.e-03, 6.e-03, 7.e-03, 8.e-03, 9.e-03,\n",
      "       2.e-02, 3.e-02, 4.e-02, 5.e-02, 6.e-02, 7.e-02, 8.e-02, 9.e-02,\n",
      "       2.e-01, 3.e-01, 4.e-01, 5.e-01, 6.e-01, 7.e-01, 8.e-01, 9.e-01,\n",
      "       2.e+00, 3.e+00, 4.e+00, 5.e+00, 6.e+00, 7.e+00, 8.e+00, 9.e+00,\n",
      "       2.e+01, 3.e+01, 4.e+01, 5.e+01, 6.e+01, 7.e+01, 8.e+01, 9.e+01,\n",
      "       2.e+02, 3.e+02, 4.e+02, 5.e+02, 6.e+02, 7.e+02, 8.e+02, 9.e+02])\n",
      "DEBUG:matplotlib.ticker:vmin 0.007972157177388521 vmax 1.1665600405342795\n",
      "DEBUG:matplotlib.ticker:ticklocs array([1.e-04, 1.e-03, 1.e-02, 1.e-01, 1.e+00, 1.e+01, 1.e+02])\n",
      "DEBUG:Comm:handle_msg[b946f3ac91e44e3e98366652f97f9129]({'header': {'date': datetime.datetime(2023, 1, 1, 21, 45, 9, 421000, tzinfo=tzutc()), 'msg_id': '02ea8c67-6322-4bf6-804a-34e2616d56bb', 'msg_type': 'comm_msg', 'session': '6f8e374b-a9de-40f0-a176-cc8a574138d6', 'username': '', 'version': '5.2'}, 'msg_id': '02ea8c67-6322-4bf6-804a-34e2616d56bb', 'msg_type': 'comm_msg', 'parent_header': {}, 'metadata': {}, 'content': {'comm_id': 'b946f3ac91e44e3e98366652f97f9129', 'data': {'method': 'custom', 'content': {'x': 136, 'y': -52, 'button': 0, 'step': 1, 'guiEvent': {'isTrusted': True, 'data': 'scroll', 'step': 1}, 'type': 'scroll'}}}, 'buffers': []})\n",
      "DEBUG:matplotlib.ticker:vmin 0.007972157177388521 vmax 1.1665600405342795\n",
      "DEBUG:matplotlib.ticker:ticklocs array([1.e-04, 1.e-03, 1.e-02, 1.e-01, 1.e+00, 1.e+01, 1.e+02])\n",
      "DEBUG:matplotlib.ticker:vmin 0.007972157177388521 vmax 1.1665600405342795\n",
      "DEBUG:matplotlib.ticker:ticklocs array([2.e-04, 3.e-04, 4.e-04, 5.e-04, 6.e-04, 7.e-04, 8.e-04, 9.e-04,\n",
      "       2.e-03, 3.e-03, 4.e-03, 5.e-03, 6.e-03, 7.e-03, 8.e-03, 9.e-03,\n",
      "       2.e-02, 3.e-02, 4.e-02, 5.e-02, 6.e-02, 7.e-02, 8.e-02, 9.e-02,\n",
      "       2.e-01, 3.e-01, 4.e-01, 5.e-01, 6.e-01, 7.e-01, 8.e-01, 9.e-01,\n",
      "       2.e+00, 3.e+00, 4.e+00, 5.e+00, 6.e+00, 7.e+00, 8.e+00, 9.e+00,\n",
      "       2.e+01, 3.e+01, 4.e+01, 5.e+01, 6.e+01, 7.e+01, 8.e+01, 9.e+01,\n",
      "       2.e+02, 3.e+02, 4.e+02, 5.e+02, 6.e+02, 7.e+02, 8.e+02, 9.e+02])\n",
      "DEBUG:matplotlib.ticker:vmin 0.007972157177388521 vmax 1.1665600405342795\n",
      "DEBUG:matplotlib.ticker:ticklocs array([1.e-04, 1.e-03, 1.e-02, 1.e-01, 1.e+00, 1.e+01, 1.e+02])\n",
      "DEBUG:Comm:handle_msg[b946f3ac91e44e3e98366652f97f9129]({'header': {'date': datetime.datetime(2023, 1, 1, 21, 45, 9, 459000, tzinfo=tzutc()), 'msg_id': '77bb9fd5-8ccb-42f5-88cd-03fa60ae0db2', 'msg_type': 'comm_msg', 'session': '6f8e374b-a9de-40f0-a176-cc8a574138d6', 'username': '', 'version': '5.2'}, 'msg_id': '77bb9fd5-8ccb-42f5-88cd-03fa60ae0db2', 'msg_type': 'comm_msg', 'parent_header': {}, 'metadata': {}, 'content': {'comm_id': 'b946f3ac91e44e3e98366652f97f9129', 'data': {'method': 'custom', 'content': {'x': 136, 'y': -52, 'button': 0, 'step': 1, 'guiEvent': {'isTrusted': True, 'data': 'scroll', 'step': 1}, 'type': 'scroll'}}}, 'buffers': []})\n",
      "DEBUG:matplotlib.ticker:vmin 0.007972157177388521 vmax 1.1665600405342795\n",
      "DEBUG:matplotlib.ticker:ticklocs array([1.e-04, 1.e-03, 1.e-02, 1.e-01, 1.e+00, 1.e+01, 1.e+02])\n",
      "DEBUG:matplotlib.ticker:vmin 0.007972157177388521 vmax 1.1665600405342795\n",
      "DEBUG:matplotlib.ticker:ticklocs array([2.e-04, 3.e-04, 4.e-04, 5.e-04, 6.e-04, 7.e-04, 8.e-04, 9.e-04,\n",
      "       2.e-03, 3.e-03, 4.e-03, 5.e-03, 6.e-03, 7.e-03, 8.e-03, 9.e-03,\n",
      "       2.e-02, 3.e-02, 4.e-02, 5.e-02, 6.e-02, 7.e-02, 8.e-02, 9.e-02,\n",
      "       2.e-01, 3.e-01, 4.e-01, 5.e-01, 6.e-01, 7.e-01, 8.e-01, 9.e-01,\n",
      "       2.e+00, 3.e+00, 4.e+00, 5.e+00, 6.e+00, 7.e+00, 8.e+00, 9.e+00,\n",
      "       2.e+01, 3.e+01, 4.e+01, 5.e+01, 6.e+01, 7.e+01, 8.e+01, 9.e+01,\n",
      "       2.e+02, 3.e+02, 4.e+02, 5.e+02, 6.e+02, 7.e+02, 8.e+02, 9.e+02])\n",
      "DEBUG:matplotlib.ticker:vmin 0.007972157177388521 vmax 1.1665600405342795\n",
      "DEBUG:matplotlib.ticker:ticklocs array([1.e-04, 1.e-03, 1.e-02, 1.e-01, 1.e+00, 1.e+01, 1.e+02])\n",
      "DEBUG:Comm:handle_msg[b946f3ac91e44e3e98366652f97f9129]({'header': {'date': datetime.datetime(2023, 1, 1, 21, 45, 9, 493000, tzinfo=tzutc()), 'msg_id': '519fb692-76c9-48a8-a1a2-2cc16ae89514', 'msg_type': 'comm_msg', 'session': '6f8e374b-a9de-40f0-a176-cc8a574138d6', 'username': '', 'version': '5.2'}, 'msg_id': '519fb692-76c9-48a8-a1a2-2cc16ae89514', 'msg_type': 'comm_msg', 'parent_header': {}, 'metadata': {}, 'content': {'comm_id': 'b946f3ac91e44e3e98366652f97f9129', 'data': {'method': 'custom', 'content': {'x': 136, 'y': -158, 'button': 0, 'step': 1, 'guiEvent': {'isTrusted': True, 'data': 'scroll', 'step': 1}, 'type': 'scroll'}}}, 'buffers': []})\n",
      "DEBUG:matplotlib.ticker:vmin 0.007972157177388521 vmax 1.1665600405342795\n",
      "DEBUG:matplotlib.ticker:ticklocs array([1.e-04, 1.e-03, 1.e-02, 1.e-01, 1.e+00, 1.e+01, 1.e+02])\n",
      "DEBUG:matplotlib.ticker:vmin 0.007972157177388521 vmax 1.1665600405342795\n",
      "DEBUG:matplotlib.ticker:ticklocs array([2.e-04, 3.e-04, 4.e-04, 5.e-04, 6.e-04, 7.e-04, 8.e-04, 9.e-04,\n",
      "       2.e-03, 3.e-03, 4.e-03, 5.e-03, 6.e-03, 7.e-03, 8.e-03, 9.e-03,\n",
      "       2.e-02, 3.e-02, 4.e-02, 5.e-02, 6.e-02, 7.e-02, 8.e-02, 9.e-02,\n",
      "       2.e-01, 3.e-01, 4.e-01, 5.e-01, 6.e-01, 7.e-01, 8.e-01, 9.e-01,\n",
      "       2.e+00, 3.e+00, 4.e+00, 5.e+00, 6.e+00, 7.e+00, 8.e+00, 9.e+00,\n",
      "       2.e+01, 3.e+01, 4.e+01, 5.e+01, 6.e+01, 7.e+01, 8.e+01, 9.e+01,\n",
      "       2.e+02, 3.e+02, 4.e+02, 5.e+02, 6.e+02, 7.e+02, 8.e+02, 9.e+02])\n",
      "DEBUG:matplotlib.ticker:vmin 0.007972157177388521 vmax 1.1665600405342795\n",
      "DEBUG:matplotlib.ticker:ticklocs array([1.e-04, 1.e-03, 1.e-02, 1.e-01, 1.e+00, 1.e+01, 1.e+02])\n",
      "DEBUG:Comm:handle_msg[b946f3ac91e44e3e98366652f97f9129]({'header': {'date': datetime.datetime(2023, 1, 1, 21, 45, 9, 539000, tzinfo=tzutc()), 'msg_id': '5c1a04a6-3758-4433-be74-37352d2428ee', 'msg_type': 'comm_msg', 'session': '6f8e374b-a9de-40f0-a176-cc8a574138d6', 'username': '', 'version': '5.2'}, 'msg_id': '5c1a04a6-3758-4433-be74-37352d2428ee', 'msg_type': 'comm_msg', 'parent_header': {}, 'metadata': {}, 'content': {'comm_id': 'b946f3ac91e44e3e98366652f97f9129', 'data': {'method': 'custom', 'content': {'x': 136, 'y': -590, 'button': 0, 'step': 1, 'guiEvent': {'isTrusted': True, 'data': 'scroll', 'step': 1}, 'type': 'scroll'}}}, 'buffers': []})\n",
      "DEBUG:matplotlib.ticker:vmin 0.007972157177388521 vmax 1.1665600405342795\n",
      "DEBUG:matplotlib.ticker:ticklocs array([1.e-04, 1.e-03, 1.e-02, 1.e-01, 1.e+00, 1.e+01, 1.e+02])\n",
      "DEBUG:matplotlib.ticker:vmin 0.007972157177388521 vmax 1.1665600405342795\n",
      "DEBUG:matplotlib.ticker:ticklocs array([2.e-04, 3.e-04, 4.e-04, 5.e-04, 6.e-04, 7.e-04, 8.e-04, 9.e-04,\n",
      "       2.e-03, 3.e-03, 4.e-03, 5.e-03, 6.e-03, 7.e-03, 8.e-03, 9.e-03,\n",
      "       2.e-02, 3.e-02, 4.e-02, 5.e-02, 6.e-02, 7.e-02, 8.e-02, 9.e-02,\n",
      "       2.e-01, 3.e-01, 4.e-01, 5.e-01, 6.e-01, 7.e-01, 8.e-01, 9.e-01,\n",
      "       2.e+00, 3.e+00, 4.e+00, 5.e+00, 6.e+00, 7.e+00, 8.e+00, 9.e+00,\n",
      "       2.e+01, 3.e+01, 4.e+01, 5.e+01, 6.e+01, 7.e+01, 8.e+01, 9.e+01,\n",
      "       2.e+02, 3.e+02, 4.e+02, 5.e+02, 6.e+02, 7.e+02, 8.e+02, 9.e+02])\n",
      "DEBUG:matplotlib.ticker:vmin 0.007972157177388521 vmax 1.1665600405342795\n",
      "DEBUG:matplotlib.ticker:ticklocs array([1.e-04, 1.e-03, 1.e-02, 1.e-01, 1.e+00, 1.e+01, 1.e+02])\n"
     ]
    }
   ],
   "source": [
    "%matplotlib widget\n",
    "agent = RL_Agent(7500,0.1,True)\n",
    "train(agent,optimal_agent(),10_000)\n",
    "\n",
    "agent.train = False \n",
    "ratio = Play(Nim(5),agent,optimal_agent(),10_000)\n",
    "print(ratio)"
   ]
  }
 ],
 "metadata": {
  "kernelspec": {
   "display_name": "Python 3.9 (tensorflow)",
   "language": "python",
   "name": "tensorflow"
  },
  "language_info": {
   "codemirror_mode": {
    "name": "ipython",
    "version": 3
   },
   "file_extension": ".py",
   "mimetype": "text/x-python",
   "name": "python",
   "nbconvert_exporter": "python",
   "pygments_lexer": "ipython3",
   "version": "3.9.13"
  },
  "orig_nbformat": 4,
  "vscode": {
   "interpreter": {
    "hash": "1de537b227ff63e4ef4b58f7fff6bd3deaf21fae665ac95f377c9f9868ff8852"
   }
  }
 },
 "nbformat": 4,
 "nbformat_minor": 2
}
